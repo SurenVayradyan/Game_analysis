{
 "cells": [
  {
   "cell_type": "markdown",
   "metadata": {},
   "source": [
    "                                                  Game Store"
   ]
  },
  {
   "cell_type": "markdown",
   "metadata": {},
   "source": [
    "**Цель проекта:** \n",
    "* Выявить потенциально популярнный продукт для грамматного планирования рекламных компаний\n",
    "\n",
    "\n",
    "**Входе иследованния нам необходимо:**\n",
    "* проверсти предобработку данных\n",
    "* отобрать период на основание которого будем делать наш разбор и предположения на будующий год\n",
    "* проверить гипотезы\n",
    "* выбрать на что будем делать акцент в рекламных компаниях\n"
   ]
  },
  {
   "cell_type": "markdown",
   "metadata": {},
   "source": [
    "## Подготовка данных"
   ]
  },
  {
   "cell_type": "markdown",
   "metadata": {},
   "source": [
    "### Импорт библиотек"
   ]
  },
  {
   "cell_type": "code",
   "execution_count": 1,
   "metadata": {},
   "outputs": [],
   "source": [
    "import pandas as pd\n",
    "import matplotlib.pyplot as plt\n",
    "import seaborn as sns\n",
    "from scipy import stats as st\n",
    "import numpy as np\n",
    "import warnings\n",
    "warnings.filterwarnings('ignore')"
   ]
  },
  {
   "cell_type": "code",
   "execution_count": 2,
   "metadata": {},
   "outputs": [
    {
     "data": {
      "text/html": [
       "<div>\n",
       "<style scoped>\n",
       "    .dataframe tbody tr th:only-of-type {\n",
       "        vertical-align: middle;\n",
       "    }\n",
       "\n",
       "    .dataframe tbody tr th {\n",
       "        vertical-align: top;\n",
       "    }\n",
       "\n",
       "    .dataframe thead th {\n",
       "        text-align: right;\n",
       "    }\n",
       "</style>\n",
       "<table border=\"1\" class=\"dataframe\">\n",
       "  <thead>\n",
       "    <tr style=\"text-align: right;\">\n",
       "      <th></th>\n",
       "      <th>Name</th>\n",
       "      <th>Platform</th>\n",
       "      <th>Year_of_Release</th>\n",
       "      <th>Genre</th>\n",
       "      <th>NA_sales</th>\n",
       "      <th>EU_sales</th>\n",
       "      <th>JP_sales</th>\n",
       "      <th>Other_sales</th>\n",
       "      <th>Critic_Score</th>\n",
       "      <th>User_Score</th>\n",
       "      <th>Rating</th>\n",
       "    </tr>\n",
       "  </thead>\n",
       "  <tbody>\n",
       "    <tr>\n",
       "      <th>0</th>\n",
       "      <td>Wii Sports</td>\n",
       "      <td>Wii</td>\n",
       "      <td>2006.0</td>\n",
       "      <td>Sports</td>\n",
       "      <td>41.36</td>\n",
       "      <td>28.96</td>\n",
       "      <td>3.77</td>\n",
       "      <td>8.45</td>\n",
       "      <td>76.0</td>\n",
       "      <td>8</td>\n",
       "      <td>E</td>\n",
       "    </tr>\n",
       "    <tr>\n",
       "      <th>1</th>\n",
       "      <td>Super Mario Bros.</td>\n",
       "      <td>NES</td>\n",
       "      <td>1985.0</td>\n",
       "      <td>Platform</td>\n",
       "      <td>29.08</td>\n",
       "      <td>3.58</td>\n",
       "      <td>6.81</td>\n",
       "      <td>0.77</td>\n",
       "      <td>NaN</td>\n",
       "      <td>NaN</td>\n",
       "      <td>NaN</td>\n",
       "    </tr>\n",
       "    <tr>\n",
       "      <th>2</th>\n",
       "      <td>Mario Kart Wii</td>\n",
       "      <td>Wii</td>\n",
       "      <td>2008.0</td>\n",
       "      <td>Racing</td>\n",
       "      <td>15.68</td>\n",
       "      <td>12.76</td>\n",
       "      <td>3.79</td>\n",
       "      <td>3.29</td>\n",
       "      <td>82.0</td>\n",
       "      <td>8.3</td>\n",
       "      <td>E</td>\n",
       "    </tr>\n",
       "    <tr>\n",
       "      <th>3</th>\n",
       "      <td>Wii Sports Resort</td>\n",
       "      <td>Wii</td>\n",
       "      <td>2009.0</td>\n",
       "      <td>Sports</td>\n",
       "      <td>15.61</td>\n",
       "      <td>10.93</td>\n",
       "      <td>3.28</td>\n",
       "      <td>2.95</td>\n",
       "      <td>80.0</td>\n",
       "      <td>8</td>\n",
       "      <td>E</td>\n",
       "    </tr>\n",
       "    <tr>\n",
       "      <th>4</th>\n",
       "      <td>Pokemon Red/Pokemon Blue</td>\n",
       "      <td>GB</td>\n",
       "      <td>1996.0</td>\n",
       "      <td>Role-Playing</td>\n",
       "      <td>11.27</td>\n",
       "      <td>8.89</td>\n",
       "      <td>10.22</td>\n",
       "      <td>1.00</td>\n",
       "      <td>NaN</td>\n",
       "      <td>NaN</td>\n",
       "      <td>NaN</td>\n",
       "    </tr>\n",
       "    <tr>\n",
       "      <th>...</th>\n",
       "      <td>...</td>\n",
       "      <td>...</td>\n",
       "      <td>...</td>\n",
       "      <td>...</td>\n",
       "      <td>...</td>\n",
       "      <td>...</td>\n",
       "      <td>...</td>\n",
       "      <td>...</td>\n",
       "      <td>...</td>\n",
       "      <td>...</td>\n",
       "      <td>...</td>\n",
       "    </tr>\n",
       "    <tr>\n",
       "      <th>16710</th>\n",
       "      <td>Samurai Warriors: Sanada Maru</td>\n",
       "      <td>PS3</td>\n",
       "      <td>2016.0</td>\n",
       "      <td>Action</td>\n",
       "      <td>0.00</td>\n",
       "      <td>0.00</td>\n",
       "      <td>0.01</td>\n",
       "      <td>0.00</td>\n",
       "      <td>NaN</td>\n",
       "      <td>NaN</td>\n",
       "      <td>NaN</td>\n",
       "    </tr>\n",
       "    <tr>\n",
       "      <th>16711</th>\n",
       "      <td>LMA Manager 2007</td>\n",
       "      <td>X360</td>\n",
       "      <td>2006.0</td>\n",
       "      <td>Sports</td>\n",
       "      <td>0.00</td>\n",
       "      <td>0.01</td>\n",
       "      <td>0.00</td>\n",
       "      <td>0.00</td>\n",
       "      <td>NaN</td>\n",
       "      <td>NaN</td>\n",
       "      <td>NaN</td>\n",
       "    </tr>\n",
       "    <tr>\n",
       "      <th>16712</th>\n",
       "      <td>Haitaka no Psychedelica</td>\n",
       "      <td>PSV</td>\n",
       "      <td>2016.0</td>\n",
       "      <td>Adventure</td>\n",
       "      <td>0.00</td>\n",
       "      <td>0.00</td>\n",
       "      <td>0.01</td>\n",
       "      <td>0.00</td>\n",
       "      <td>NaN</td>\n",
       "      <td>NaN</td>\n",
       "      <td>NaN</td>\n",
       "    </tr>\n",
       "    <tr>\n",
       "      <th>16713</th>\n",
       "      <td>Spirits &amp; Spells</td>\n",
       "      <td>GBA</td>\n",
       "      <td>2003.0</td>\n",
       "      <td>Platform</td>\n",
       "      <td>0.01</td>\n",
       "      <td>0.00</td>\n",
       "      <td>0.00</td>\n",
       "      <td>0.00</td>\n",
       "      <td>NaN</td>\n",
       "      <td>NaN</td>\n",
       "      <td>NaN</td>\n",
       "    </tr>\n",
       "    <tr>\n",
       "      <th>16714</th>\n",
       "      <td>Winning Post 8 2016</td>\n",
       "      <td>PSV</td>\n",
       "      <td>2016.0</td>\n",
       "      <td>Simulation</td>\n",
       "      <td>0.00</td>\n",
       "      <td>0.00</td>\n",
       "      <td>0.01</td>\n",
       "      <td>0.00</td>\n",
       "      <td>NaN</td>\n",
       "      <td>NaN</td>\n",
       "      <td>NaN</td>\n",
       "    </tr>\n",
       "  </tbody>\n",
       "</table>\n",
       "<p>16715 rows × 11 columns</p>\n",
       "</div>"
      ],
      "text/plain": [
       "                                Name Platform  Year_of_Release         Genre  \\\n",
       "0                         Wii Sports      Wii           2006.0        Sports   \n",
       "1                  Super Mario Bros.      NES           1985.0      Platform   \n",
       "2                     Mario Kart Wii      Wii           2008.0        Racing   \n",
       "3                  Wii Sports Resort      Wii           2009.0        Sports   \n",
       "4           Pokemon Red/Pokemon Blue       GB           1996.0  Role-Playing   \n",
       "...                              ...      ...              ...           ...   \n",
       "16710  Samurai Warriors: Sanada Maru      PS3           2016.0        Action   \n",
       "16711               LMA Manager 2007     X360           2006.0        Sports   \n",
       "16712        Haitaka no Psychedelica      PSV           2016.0     Adventure   \n",
       "16713               Spirits & Spells      GBA           2003.0      Platform   \n",
       "16714            Winning Post 8 2016      PSV           2016.0    Simulation   \n",
       "\n",
       "       NA_sales  EU_sales  JP_sales  Other_sales  Critic_Score User_Score  \\\n",
       "0         41.36     28.96      3.77         8.45          76.0          8   \n",
       "1         29.08      3.58      6.81         0.77           NaN        NaN   \n",
       "2         15.68     12.76      3.79         3.29          82.0        8.3   \n",
       "3         15.61     10.93      3.28         2.95          80.0          8   \n",
       "4         11.27      8.89     10.22         1.00           NaN        NaN   \n",
       "...         ...       ...       ...          ...           ...        ...   \n",
       "16710      0.00      0.00      0.01         0.00           NaN        NaN   \n",
       "16711      0.00      0.01      0.00         0.00           NaN        NaN   \n",
       "16712      0.00      0.00      0.01         0.00           NaN        NaN   \n",
       "16713      0.01      0.00      0.00         0.00           NaN        NaN   \n",
       "16714      0.00      0.00      0.01         0.00           NaN        NaN   \n",
       "\n",
       "      Rating  \n",
       "0          E  \n",
       "1        NaN  \n",
       "2          E  \n",
       "3          E  \n",
       "4        NaN  \n",
       "...      ...  \n",
       "16710    NaN  \n",
       "16711    NaN  \n",
       "16712    NaN  \n",
       "16713    NaN  \n",
       "16714    NaN  \n",
       "\n",
       "[16715 rows x 11 columns]"
      ]
     },
     "execution_count": 2,
     "metadata": {},
     "output_type": "execute_result"
    }
   ],
   "source": [
    "df = pd.read_csv('/datasets/games.csv');df"
   ]
  },
  {
   "cell_type": "markdown",
   "metadata": {},
   "source": [
    "### Приведем названия столбцов к нижнему регистру для удобства работы с ними"
   ]
  },
  {
   "cell_type": "code",
   "execution_count": 3,
   "metadata": {},
   "outputs": [
    {
     "data": {
      "text/html": [
       "<div>\n",
       "<style scoped>\n",
       "    .dataframe tbody tr th:only-of-type {\n",
       "        vertical-align: middle;\n",
       "    }\n",
       "\n",
       "    .dataframe tbody tr th {\n",
       "        vertical-align: top;\n",
       "    }\n",
       "\n",
       "    .dataframe thead th {\n",
       "        text-align: right;\n",
       "    }\n",
       "</style>\n",
       "<table border=\"1\" class=\"dataframe\">\n",
       "  <thead>\n",
       "    <tr style=\"text-align: right;\">\n",
       "      <th></th>\n",
       "      <th>name</th>\n",
       "      <th>platform</th>\n",
       "      <th>year_of_release</th>\n",
       "      <th>genre</th>\n",
       "      <th>na_sales</th>\n",
       "      <th>eu_sales</th>\n",
       "      <th>jp_sales</th>\n",
       "      <th>other_sales</th>\n",
       "      <th>critic_score</th>\n",
       "      <th>user_score</th>\n",
       "      <th>rating</th>\n",
       "    </tr>\n",
       "  </thead>\n",
       "  <tbody>\n",
       "    <tr>\n",
       "      <th>0</th>\n",
       "      <td>Wii Sports</td>\n",
       "      <td>Wii</td>\n",
       "      <td>2006.0</td>\n",
       "      <td>Sports</td>\n",
       "      <td>41.36</td>\n",
       "      <td>28.96</td>\n",
       "      <td>3.77</td>\n",
       "      <td>8.45</td>\n",
       "      <td>76.0</td>\n",
       "      <td>8</td>\n",
       "      <td>E</td>\n",
       "    </tr>\n",
       "    <tr>\n",
       "      <th>1</th>\n",
       "      <td>Super Mario Bros.</td>\n",
       "      <td>NES</td>\n",
       "      <td>1985.0</td>\n",
       "      <td>Platform</td>\n",
       "      <td>29.08</td>\n",
       "      <td>3.58</td>\n",
       "      <td>6.81</td>\n",
       "      <td>0.77</td>\n",
       "      <td>NaN</td>\n",
       "      <td>NaN</td>\n",
       "      <td>NaN</td>\n",
       "    </tr>\n",
       "    <tr>\n",
       "      <th>2</th>\n",
       "      <td>Mario Kart Wii</td>\n",
       "      <td>Wii</td>\n",
       "      <td>2008.0</td>\n",
       "      <td>Racing</td>\n",
       "      <td>15.68</td>\n",
       "      <td>12.76</td>\n",
       "      <td>3.79</td>\n",
       "      <td>3.29</td>\n",
       "      <td>82.0</td>\n",
       "      <td>8.3</td>\n",
       "      <td>E</td>\n",
       "    </tr>\n",
       "    <tr>\n",
       "      <th>3</th>\n",
       "      <td>Wii Sports Resort</td>\n",
       "      <td>Wii</td>\n",
       "      <td>2009.0</td>\n",
       "      <td>Sports</td>\n",
       "      <td>15.61</td>\n",
       "      <td>10.93</td>\n",
       "      <td>3.28</td>\n",
       "      <td>2.95</td>\n",
       "      <td>80.0</td>\n",
       "      <td>8</td>\n",
       "      <td>E</td>\n",
       "    </tr>\n",
       "    <tr>\n",
       "      <th>4</th>\n",
       "      <td>Pokemon Red/Pokemon Blue</td>\n",
       "      <td>GB</td>\n",
       "      <td>1996.0</td>\n",
       "      <td>Role-Playing</td>\n",
       "      <td>11.27</td>\n",
       "      <td>8.89</td>\n",
       "      <td>10.22</td>\n",
       "      <td>1.00</td>\n",
       "      <td>NaN</td>\n",
       "      <td>NaN</td>\n",
       "      <td>NaN</td>\n",
       "    </tr>\n",
       "    <tr>\n",
       "      <th>...</th>\n",
       "      <td>...</td>\n",
       "      <td>...</td>\n",
       "      <td>...</td>\n",
       "      <td>...</td>\n",
       "      <td>...</td>\n",
       "      <td>...</td>\n",
       "      <td>...</td>\n",
       "      <td>...</td>\n",
       "      <td>...</td>\n",
       "      <td>...</td>\n",
       "      <td>...</td>\n",
       "    </tr>\n",
       "    <tr>\n",
       "      <th>16710</th>\n",
       "      <td>Samurai Warriors: Sanada Maru</td>\n",
       "      <td>PS3</td>\n",
       "      <td>2016.0</td>\n",
       "      <td>Action</td>\n",
       "      <td>0.00</td>\n",
       "      <td>0.00</td>\n",
       "      <td>0.01</td>\n",
       "      <td>0.00</td>\n",
       "      <td>NaN</td>\n",
       "      <td>NaN</td>\n",
       "      <td>NaN</td>\n",
       "    </tr>\n",
       "    <tr>\n",
       "      <th>16711</th>\n",
       "      <td>LMA Manager 2007</td>\n",
       "      <td>X360</td>\n",
       "      <td>2006.0</td>\n",
       "      <td>Sports</td>\n",
       "      <td>0.00</td>\n",
       "      <td>0.01</td>\n",
       "      <td>0.00</td>\n",
       "      <td>0.00</td>\n",
       "      <td>NaN</td>\n",
       "      <td>NaN</td>\n",
       "      <td>NaN</td>\n",
       "    </tr>\n",
       "    <tr>\n",
       "      <th>16712</th>\n",
       "      <td>Haitaka no Psychedelica</td>\n",
       "      <td>PSV</td>\n",
       "      <td>2016.0</td>\n",
       "      <td>Adventure</td>\n",
       "      <td>0.00</td>\n",
       "      <td>0.00</td>\n",
       "      <td>0.01</td>\n",
       "      <td>0.00</td>\n",
       "      <td>NaN</td>\n",
       "      <td>NaN</td>\n",
       "      <td>NaN</td>\n",
       "    </tr>\n",
       "    <tr>\n",
       "      <th>16713</th>\n",
       "      <td>Spirits &amp; Spells</td>\n",
       "      <td>GBA</td>\n",
       "      <td>2003.0</td>\n",
       "      <td>Platform</td>\n",
       "      <td>0.01</td>\n",
       "      <td>0.00</td>\n",
       "      <td>0.00</td>\n",
       "      <td>0.00</td>\n",
       "      <td>NaN</td>\n",
       "      <td>NaN</td>\n",
       "      <td>NaN</td>\n",
       "    </tr>\n",
       "    <tr>\n",
       "      <th>16714</th>\n",
       "      <td>Winning Post 8 2016</td>\n",
       "      <td>PSV</td>\n",
       "      <td>2016.0</td>\n",
       "      <td>Simulation</td>\n",
       "      <td>0.00</td>\n",
       "      <td>0.00</td>\n",
       "      <td>0.01</td>\n",
       "      <td>0.00</td>\n",
       "      <td>NaN</td>\n",
       "      <td>NaN</td>\n",
       "      <td>NaN</td>\n",
       "    </tr>\n",
       "  </tbody>\n",
       "</table>\n",
       "<p>16715 rows × 11 columns</p>\n",
       "</div>"
      ],
      "text/plain": [
       "                                name platform  year_of_release         genre  \\\n",
       "0                         Wii Sports      Wii           2006.0        Sports   \n",
       "1                  Super Mario Bros.      NES           1985.0      Platform   \n",
       "2                     Mario Kart Wii      Wii           2008.0        Racing   \n",
       "3                  Wii Sports Resort      Wii           2009.0        Sports   \n",
       "4           Pokemon Red/Pokemon Blue       GB           1996.0  Role-Playing   \n",
       "...                              ...      ...              ...           ...   \n",
       "16710  Samurai Warriors: Sanada Maru      PS3           2016.0        Action   \n",
       "16711               LMA Manager 2007     X360           2006.0        Sports   \n",
       "16712        Haitaka no Psychedelica      PSV           2016.0     Adventure   \n",
       "16713               Spirits & Spells      GBA           2003.0      Platform   \n",
       "16714            Winning Post 8 2016      PSV           2016.0    Simulation   \n",
       "\n",
       "       na_sales  eu_sales  jp_sales  other_sales  critic_score user_score  \\\n",
       "0         41.36     28.96      3.77         8.45          76.0          8   \n",
       "1         29.08      3.58      6.81         0.77           NaN        NaN   \n",
       "2         15.68     12.76      3.79         3.29          82.0        8.3   \n",
       "3         15.61     10.93      3.28         2.95          80.0          8   \n",
       "4         11.27      8.89     10.22         1.00           NaN        NaN   \n",
       "...         ...       ...       ...          ...           ...        ...   \n",
       "16710      0.00      0.00      0.01         0.00           NaN        NaN   \n",
       "16711      0.00      0.01      0.00         0.00           NaN        NaN   \n",
       "16712      0.00      0.00      0.01         0.00           NaN        NaN   \n",
       "16713      0.01      0.00      0.00         0.00           NaN        NaN   \n",
       "16714      0.00      0.00      0.01         0.00           NaN        NaN   \n",
       "\n",
       "      rating  \n",
       "0          E  \n",
       "1        NaN  \n",
       "2          E  \n",
       "3          E  \n",
       "4        NaN  \n",
       "...      ...  \n",
       "16710    NaN  \n",
       "16711    NaN  \n",
       "16712    NaN  \n",
       "16713    NaN  \n",
       "16714    NaN  \n",
       "\n",
       "[16715 rows x 11 columns]"
      ]
     },
     "execution_count": 3,
     "metadata": {},
     "output_type": "execute_result"
    }
   ],
   "source": [
    "df.columns = df.columns.str.lower()\n",
    "df"
   ]
  },
  {
   "cell_type": "markdown",
   "metadata": {},
   "source": [
    "### Посмотрим на типы данных и заменим их при необходимости"
   ]
  },
  {
   "cell_type": "code",
   "execution_count": 4,
   "metadata": {},
   "outputs": [
    {
     "name": "stdout",
     "output_type": "stream",
     "text": [
      "<class 'pandas.core.frame.DataFrame'>\n",
      "RangeIndex: 16715 entries, 0 to 16714\n",
      "Data columns (total 11 columns):\n",
      " #   Column           Non-Null Count  Dtype  \n",
      "---  ------           --------------  -----  \n",
      " 0   name             16713 non-null  object \n",
      " 1   platform         16715 non-null  object \n",
      " 2   year_of_release  16446 non-null  float64\n",
      " 3   genre            16713 non-null  object \n",
      " 4   na_sales         16715 non-null  float64\n",
      " 5   eu_sales         16715 non-null  float64\n",
      " 6   jp_sales         16715 non-null  float64\n",
      " 7   other_sales      16715 non-null  float64\n",
      " 8   critic_score     8137 non-null   float64\n",
      " 9   user_score       10014 non-null  object \n",
      " 10  rating           9949 non-null   object \n",
      "dtypes: float64(6), object(5)\n",
      "memory usage: 1.4+ MB\n"
     ]
    }
   ],
   "source": [
    "df.info()"
   ]
  },
  {
   "cell_type": "markdown",
   "metadata": {},
   "source": [
    "### Надо проверить на пропуски и заменить или удалить их там где это необходимо"
   ]
  },
  {
   "cell_type": "code",
   "execution_count": 5,
   "metadata": {},
   "outputs": [
    {
     "data": {
      "text/plain": [
       "name                  2\n",
       "platform              0\n",
       "year_of_release     269\n",
       "genre                 2\n",
       "na_sales              0\n",
       "eu_sales              0\n",
       "jp_sales              0\n",
       "other_sales           0\n",
       "critic_score       8578\n",
       "user_score         6701\n",
       "rating             6766\n",
       "dtype: int64"
      ]
     },
     "execution_count": 5,
     "metadata": {},
     "output_type": "execute_result"
    }
   ],
   "source": [
    "df.isna().sum()"
   ]
  },
  {
   "cell_type": "markdown",
   "metadata": {},
   "source": [
    "    Пропусков слишком много, возможно их забыли внести, может быть их и нет совсем, либо же какой то сбой, но в любом случае удалять их все нельзя, так же как и заменять искуственно тоже  будет неверно, оставим как есть, поправим что можно"
   ]
  },
  {
   "cell_type": "code",
   "execution_count": 6,
   "metadata": {},
   "outputs": [
    {
     "data": {
      "text/html": [
       "<div>\n",
       "<style scoped>\n",
       "    .dataframe tbody tr th:only-of-type {\n",
       "        vertical-align: middle;\n",
       "    }\n",
       "\n",
       "    .dataframe tbody tr th {\n",
       "        vertical-align: top;\n",
       "    }\n",
       "\n",
       "    .dataframe thead th {\n",
       "        text-align: right;\n",
       "    }\n",
       "</style>\n",
       "<table border=\"1\" class=\"dataframe\">\n",
       "  <thead>\n",
       "    <tr style=\"text-align: right;\">\n",
       "      <th></th>\n",
       "      <th>name</th>\n",
       "      <th>platform</th>\n",
       "      <th>year_of_release</th>\n",
       "      <th>genre</th>\n",
       "      <th>na_sales</th>\n",
       "      <th>eu_sales</th>\n",
       "      <th>jp_sales</th>\n",
       "      <th>other_sales</th>\n",
       "      <th>critic_score</th>\n",
       "      <th>user_score</th>\n",
       "      <th>rating</th>\n",
       "    </tr>\n",
       "  </thead>\n",
       "  <tbody>\n",
       "    <tr>\n",
       "      <th>0</th>\n",
       "      <td>Wii Sports</td>\n",
       "      <td>Wii</td>\n",
       "      <td>2006.0</td>\n",
       "      <td>Sports</td>\n",
       "      <td>41.36</td>\n",
       "      <td>28.96</td>\n",
       "      <td>3.77</td>\n",
       "      <td>8.45</td>\n",
       "      <td>76.0</td>\n",
       "      <td>8</td>\n",
       "      <td>E</td>\n",
       "    </tr>\n",
       "    <tr>\n",
       "      <th>1</th>\n",
       "      <td>Super Mario Bros.</td>\n",
       "      <td>NES</td>\n",
       "      <td>1985.0</td>\n",
       "      <td>Platform</td>\n",
       "      <td>29.08</td>\n",
       "      <td>3.58</td>\n",
       "      <td>6.81</td>\n",
       "      <td>0.77</td>\n",
       "      <td>NaN</td>\n",
       "      <td>NaN</td>\n",
       "      <td>NaN</td>\n",
       "    </tr>\n",
       "    <tr>\n",
       "      <th>2</th>\n",
       "      <td>Mario Kart Wii</td>\n",
       "      <td>Wii</td>\n",
       "      <td>2008.0</td>\n",
       "      <td>Racing</td>\n",
       "      <td>15.68</td>\n",
       "      <td>12.76</td>\n",
       "      <td>3.79</td>\n",
       "      <td>3.29</td>\n",
       "      <td>82.0</td>\n",
       "      <td>8.3</td>\n",
       "      <td>E</td>\n",
       "    </tr>\n",
       "    <tr>\n",
       "      <th>3</th>\n",
       "      <td>Wii Sports Resort</td>\n",
       "      <td>Wii</td>\n",
       "      <td>2009.0</td>\n",
       "      <td>Sports</td>\n",
       "      <td>15.61</td>\n",
       "      <td>10.93</td>\n",
       "      <td>3.28</td>\n",
       "      <td>2.95</td>\n",
       "      <td>80.0</td>\n",
       "      <td>8</td>\n",
       "      <td>E</td>\n",
       "    </tr>\n",
       "    <tr>\n",
       "      <th>4</th>\n",
       "      <td>Pokemon Red/Pokemon Blue</td>\n",
       "      <td>GB</td>\n",
       "      <td>1996.0</td>\n",
       "      <td>Role-Playing</td>\n",
       "      <td>11.27</td>\n",
       "      <td>8.89</td>\n",
       "      <td>10.22</td>\n",
       "      <td>1.00</td>\n",
       "      <td>NaN</td>\n",
       "      <td>NaN</td>\n",
       "      <td>NaN</td>\n",
       "    </tr>\n",
       "    <tr>\n",
       "      <th>...</th>\n",
       "      <td>...</td>\n",
       "      <td>...</td>\n",
       "      <td>...</td>\n",
       "      <td>...</td>\n",
       "      <td>...</td>\n",
       "      <td>...</td>\n",
       "      <td>...</td>\n",
       "      <td>...</td>\n",
       "      <td>...</td>\n",
       "      <td>...</td>\n",
       "      <td>...</td>\n",
       "    </tr>\n",
       "    <tr>\n",
       "      <th>16710</th>\n",
       "      <td>Samurai Warriors: Sanada Maru</td>\n",
       "      <td>PS3</td>\n",
       "      <td>2016.0</td>\n",
       "      <td>Action</td>\n",
       "      <td>0.00</td>\n",
       "      <td>0.00</td>\n",
       "      <td>0.01</td>\n",
       "      <td>0.00</td>\n",
       "      <td>NaN</td>\n",
       "      <td>NaN</td>\n",
       "      <td>NaN</td>\n",
       "    </tr>\n",
       "    <tr>\n",
       "      <th>16711</th>\n",
       "      <td>LMA Manager 2007</td>\n",
       "      <td>X360</td>\n",
       "      <td>2006.0</td>\n",
       "      <td>Sports</td>\n",
       "      <td>0.00</td>\n",
       "      <td>0.01</td>\n",
       "      <td>0.00</td>\n",
       "      <td>0.00</td>\n",
       "      <td>NaN</td>\n",
       "      <td>NaN</td>\n",
       "      <td>NaN</td>\n",
       "    </tr>\n",
       "    <tr>\n",
       "      <th>16712</th>\n",
       "      <td>Haitaka no Psychedelica</td>\n",
       "      <td>PSV</td>\n",
       "      <td>2016.0</td>\n",
       "      <td>Adventure</td>\n",
       "      <td>0.00</td>\n",
       "      <td>0.00</td>\n",
       "      <td>0.01</td>\n",
       "      <td>0.00</td>\n",
       "      <td>NaN</td>\n",
       "      <td>NaN</td>\n",
       "      <td>NaN</td>\n",
       "    </tr>\n",
       "    <tr>\n",
       "      <th>16713</th>\n",
       "      <td>Spirits &amp; Spells</td>\n",
       "      <td>GBA</td>\n",
       "      <td>2003.0</td>\n",
       "      <td>Platform</td>\n",
       "      <td>0.01</td>\n",
       "      <td>0.00</td>\n",
       "      <td>0.00</td>\n",
       "      <td>0.00</td>\n",
       "      <td>NaN</td>\n",
       "      <td>NaN</td>\n",
       "      <td>NaN</td>\n",
       "    </tr>\n",
       "    <tr>\n",
       "      <th>16714</th>\n",
       "      <td>Winning Post 8 2016</td>\n",
       "      <td>PSV</td>\n",
       "      <td>2016.0</td>\n",
       "      <td>Simulation</td>\n",
       "      <td>0.00</td>\n",
       "      <td>0.00</td>\n",
       "      <td>0.01</td>\n",
       "      <td>0.00</td>\n",
       "      <td>NaN</td>\n",
       "      <td>NaN</td>\n",
       "      <td>NaN</td>\n",
       "    </tr>\n",
       "  </tbody>\n",
       "</table>\n",
       "<p>16444 rows × 11 columns</p>\n",
       "</div>"
      ],
      "text/plain": [
       "                                name platform  year_of_release         genre  \\\n",
       "0                         Wii Sports      Wii           2006.0        Sports   \n",
       "1                  Super Mario Bros.      NES           1985.0      Platform   \n",
       "2                     Mario Kart Wii      Wii           2008.0        Racing   \n",
       "3                  Wii Sports Resort      Wii           2009.0        Sports   \n",
       "4           Pokemon Red/Pokemon Blue       GB           1996.0  Role-Playing   \n",
       "...                              ...      ...              ...           ...   \n",
       "16710  Samurai Warriors: Sanada Maru      PS3           2016.0        Action   \n",
       "16711               LMA Manager 2007     X360           2006.0        Sports   \n",
       "16712        Haitaka no Psychedelica      PSV           2016.0     Adventure   \n",
       "16713               Spirits & Spells      GBA           2003.0      Platform   \n",
       "16714            Winning Post 8 2016      PSV           2016.0    Simulation   \n",
       "\n",
       "       na_sales  eu_sales  jp_sales  other_sales  critic_score user_score  \\\n",
       "0         41.36     28.96      3.77         8.45          76.0          8   \n",
       "1         29.08      3.58      6.81         0.77           NaN        NaN   \n",
       "2         15.68     12.76      3.79         3.29          82.0        8.3   \n",
       "3         15.61     10.93      3.28         2.95          80.0          8   \n",
       "4         11.27      8.89     10.22         1.00           NaN        NaN   \n",
       "...         ...       ...       ...          ...           ...        ...   \n",
       "16710      0.00      0.00      0.01         0.00           NaN        NaN   \n",
       "16711      0.00      0.01      0.00         0.00           NaN        NaN   \n",
       "16712      0.00      0.00      0.01         0.00           NaN        NaN   \n",
       "16713      0.01      0.00      0.00         0.00           NaN        NaN   \n",
       "16714      0.00      0.00      0.01         0.00           NaN        NaN   \n",
       "\n",
       "      rating  \n",
       "0          E  \n",
       "1        NaN  \n",
       "2          E  \n",
       "3          E  \n",
       "4        NaN  \n",
       "...      ...  \n",
       "16710    NaN  \n",
       "16711    NaN  \n",
       "16712    NaN  \n",
       "16713    NaN  \n",
       "16714    NaN  \n",
       "\n",
       "[16444 rows x 11 columns]"
      ]
     },
     "execution_count": 6,
     "metadata": {},
     "output_type": "execute_result"
    }
   ],
   "source": [
    "df = df.dropna(subset=['year_of_release', 'name', 'genre'])\n",
    "df"
   ]
  },
  {
   "cell_type": "code",
   "execution_count": 7,
   "metadata": {
    "scrolled": true
   },
   "outputs": [
    {
     "data": {
      "text/plain": [
       "tbd    2376\n",
       "7.8     322\n",
       "8       285\n",
       "8.2     276\n",
       "8.3     252\n",
       "       ... \n",
       "1.3       2\n",
       "0.5       2\n",
       "1.5       2\n",
       "9.7       1\n",
       "0         1\n",
       "Name: user_score, Length: 96, dtype: int64"
      ]
     },
     "execution_count": 7,
     "metadata": {},
     "output_type": "execute_result"
    }
   ],
   "source": [
    "df['user_score'].value_counts()"
   ]
  },
  {
   "cell_type": "markdown",
   "metadata": {},
   "source": [
    "    В user_score есть значения под названием \"tbd\", что означает \"будет определено\", значит заменим пропуски на тот же 'tbd'"
   ]
  },
  {
   "cell_type": "code",
   "execution_count": 8,
   "metadata": {},
   "outputs": [],
   "source": [
    "df['rating'] = df['rating'].fillna('unknown')\n",
    "df['user_score'] = df['user_score'].replace('tbd', np.NaN)\n",
    "df['critic_score'] = df['critic_score'].fillna('unknown')"
   ]
  },
  {
   "cell_type": "code",
   "execution_count": 9,
   "metadata": {},
   "outputs": [
    {
     "name": "stdout",
     "output_type": "stream",
     "text": [
      "<class 'pandas.core.frame.DataFrame'>\n",
      "Int64Index: 16444 entries, 0 to 16714\n",
      "Data columns (total 11 columns):\n",
      " #   Column           Non-Null Count  Dtype  \n",
      "---  ------           --------------  -----  \n",
      " 0   name             16444 non-null  object \n",
      " 1   platform         16444 non-null  object \n",
      " 2   year_of_release  16444 non-null  float64\n",
      " 3   genre            16444 non-null  object \n",
      " 4   na_sales         16444 non-null  float64\n",
      " 5   eu_sales         16444 non-null  float64\n",
      " 6   jp_sales         16444 non-null  float64\n",
      " 7   other_sales      16444 non-null  float64\n",
      " 8   critic_score     16444 non-null  object \n",
      " 9   user_score       7463 non-null   object \n",
      " 10  rating           16444 non-null  object \n",
      "dtypes: float64(5), object(6)\n",
      "memory usage: 1.5+ MB\n"
     ]
    }
   ],
   "source": [
    "df.info()"
   ]
  },
  {
   "cell_type": "code",
   "execution_count": 10,
   "metadata": {},
   "outputs": [
    {
     "name": "stdout",
     "output_type": "stream",
     "text": [
      "<class 'pandas.core.frame.DataFrame'>\n",
      "Int64Index: 16444 entries, 0 to 16714\n",
      "Data columns (total 11 columns):\n",
      " #   Column           Non-Null Count  Dtype  \n",
      "---  ------           --------------  -----  \n",
      " 0   name             16444 non-null  object \n",
      " 1   platform         16444 non-null  object \n",
      " 2   year_of_release  16444 non-null  int64  \n",
      " 3   genre            16444 non-null  object \n",
      " 4   na_sales         16444 non-null  float64\n",
      " 5   eu_sales         16444 non-null  float64\n",
      " 6   jp_sales         16444 non-null  float64\n",
      " 7   other_sales      16444 non-null  float64\n",
      " 8   critic_score     7983 non-null   float64\n",
      " 9   user_score       7463 non-null   float64\n",
      " 10  rating           16444 non-null  object \n",
      "dtypes: float64(6), int64(1), object(4)\n",
      "memory usage: 1.5+ MB\n"
     ]
    }
   ],
   "source": [
    "df['year_of_release'] = df['year_of_release'].astype('int64')\n",
    "df['user_score'] = df['user_score'].astype('float64')\n",
    "df['critic_score'] = pd.to_numeric(df['critic_score'], errors='coerce')\n",
    "df.info()"
   ]
  },
  {
   "cell_type": "code",
   "execution_count": 11,
   "metadata": {},
   "outputs": [
    {
     "data": {
      "text/plain": [
       "name                  0\n",
       "platform              0\n",
       "year_of_release       0\n",
       "genre                 0\n",
       "na_sales              0\n",
       "eu_sales              0\n",
       "jp_sales              0\n",
       "other_sales           0\n",
       "critic_score       8461\n",
       "user_score         8981\n",
       "rating                0\n",
       "dtype: int64"
      ]
     },
     "execution_count": 11,
     "metadata": {},
     "output_type": "execute_result"
    }
   ],
   "source": [
    "df.isna().sum()"
   ]
  },
  {
   "cell_type": "markdown",
   "metadata": {},
   "source": [
    "**Вывод:** от пропусков избавились, можем двигаться дальше"
   ]
  },
  {
   "cell_type": "markdown",
   "metadata": {},
   "source": [
    "### Создадим новый столбец, с суммарными продажами со всех регионов"
   ]
  },
  {
   "cell_type": "code",
   "execution_count": 12,
   "metadata": {},
   "outputs": [
    {
     "data": {
      "text/html": [
       "<div>\n",
       "<style scoped>\n",
       "    .dataframe tbody tr th:only-of-type {\n",
       "        vertical-align: middle;\n",
       "    }\n",
       "\n",
       "    .dataframe tbody tr th {\n",
       "        vertical-align: top;\n",
       "    }\n",
       "\n",
       "    .dataframe thead th {\n",
       "        text-align: right;\n",
       "    }\n",
       "</style>\n",
       "<table border=\"1\" class=\"dataframe\">\n",
       "  <thead>\n",
       "    <tr style=\"text-align: right;\">\n",
       "      <th></th>\n",
       "      <th>name</th>\n",
       "      <th>platform</th>\n",
       "      <th>year_of_release</th>\n",
       "      <th>genre</th>\n",
       "      <th>na_sales</th>\n",
       "      <th>eu_sales</th>\n",
       "      <th>jp_sales</th>\n",
       "      <th>other_sales</th>\n",
       "      <th>critic_score</th>\n",
       "      <th>user_score</th>\n",
       "      <th>rating</th>\n",
       "      <th>total_sales</th>\n",
       "    </tr>\n",
       "  </thead>\n",
       "  <tbody>\n",
       "    <tr>\n",
       "      <th>0</th>\n",
       "      <td>Wii Sports</td>\n",
       "      <td>Wii</td>\n",
       "      <td>2006</td>\n",
       "      <td>Sports</td>\n",
       "      <td>41.36</td>\n",
       "      <td>28.96</td>\n",
       "      <td>3.77</td>\n",
       "      <td>8.45</td>\n",
       "      <td>76.0</td>\n",
       "      <td>8.0</td>\n",
       "      <td>E</td>\n",
       "      <td>82.54</td>\n",
       "    </tr>\n",
       "    <tr>\n",
       "      <th>1</th>\n",
       "      <td>Super Mario Bros.</td>\n",
       "      <td>NES</td>\n",
       "      <td>1985</td>\n",
       "      <td>Platform</td>\n",
       "      <td>29.08</td>\n",
       "      <td>3.58</td>\n",
       "      <td>6.81</td>\n",
       "      <td>0.77</td>\n",
       "      <td>NaN</td>\n",
       "      <td>NaN</td>\n",
       "      <td>unknown</td>\n",
       "      <td>40.24</td>\n",
       "    </tr>\n",
       "    <tr>\n",
       "      <th>2</th>\n",
       "      <td>Mario Kart Wii</td>\n",
       "      <td>Wii</td>\n",
       "      <td>2008</td>\n",
       "      <td>Racing</td>\n",
       "      <td>15.68</td>\n",
       "      <td>12.76</td>\n",
       "      <td>3.79</td>\n",
       "      <td>3.29</td>\n",
       "      <td>82.0</td>\n",
       "      <td>8.3</td>\n",
       "      <td>E</td>\n",
       "      <td>35.52</td>\n",
       "    </tr>\n",
       "    <tr>\n",
       "      <th>3</th>\n",
       "      <td>Wii Sports Resort</td>\n",
       "      <td>Wii</td>\n",
       "      <td>2009</td>\n",
       "      <td>Sports</td>\n",
       "      <td>15.61</td>\n",
       "      <td>10.93</td>\n",
       "      <td>3.28</td>\n",
       "      <td>2.95</td>\n",
       "      <td>80.0</td>\n",
       "      <td>8.0</td>\n",
       "      <td>E</td>\n",
       "      <td>32.77</td>\n",
       "    </tr>\n",
       "    <tr>\n",
       "      <th>4</th>\n",
       "      <td>Pokemon Red/Pokemon Blue</td>\n",
       "      <td>GB</td>\n",
       "      <td>1996</td>\n",
       "      <td>Role-Playing</td>\n",
       "      <td>11.27</td>\n",
       "      <td>8.89</td>\n",
       "      <td>10.22</td>\n",
       "      <td>1.00</td>\n",
       "      <td>NaN</td>\n",
       "      <td>NaN</td>\n",
       "      <td>unknown</td>\n",
       "      <td>31.38</td>\n",
       "    </tr>\n",
       "    <tr>\n",
       "      <th>...</th>\n",
       "      <td>...</td>\n",
       "      <td>...</td>\n",
       "      <td>...</td>\n",
       "      <td>...</td>\n",
       "      <td>...</td>\n",
       "      <td>...</td>\n",
       "      <td>...</td>\n",
       "      <td>...</td>\n",
       "      <td>...</td>\n",
       "      <td>...</td>\n",
       "      <td>...</td>\n",
       "      <td>...</td>\n",
       "    </tr>\n",
       "    <tr>\n",
       "      <th>16710</th>\n",
       "      <td>Samurai Warriors: Sanada Maru</td>\n",
       "      <td>PS3</td>\n",
       "      <td>2016</td>\n",
       "      <td>Action</td>\n",
       "      <td>0.00</td>\n",
       "      <td>0.00</td>\n",
       "      <td>0.01</td>\n",
       "      <td>0.00</td>\n",
       "      <td>NaN</td>\n",
       "      <td>NaN</td>\n",
       "      <td>unknown</td>\n",
       "      <td>0.01</td>\n",
       "    </tr>\n",
       "    <tr>\n",
       "      <th>16711</th>\n",
       "      <td>LMA Manager 2007</td>\n",
       "      <td>X360</td>\n",
       "      <td>2006</td>\n",
       "      <td>Sports</td>\n",
       "      <td>0.00</td>\n",
       "      <td>0.01</td>\n",
       "      <td>0.00</td>\n",
       "      <td>0.00</td>\n",
       "      <td>NaN</td>\n",
       "      <td>NaN</td>\n",
       "      <td>unknown</td>\n",
       "      <td>0.01</td>\n",
       "    </tr>\n",
       "    <tr>\n",
       "      <th>16712</th>\n",
       "      <td>Haitaka no Psychedelica</td>\n",
       "      <td>PSV</td>\n",
       "      <td>2016</td>\n",
       "      <td>Adventure</td>\n",
       "      <td>0.00</td>\n",
       "      <td>0.00</td>\n",
       "      <td>0.01</td>\n",
       "      <td>0.00</td>\n",
       "      <td>NaN</td>\n",
       "      <td>NaN</td>\n",
       "      <td>unknown</td>\n",
       "      <td>0.01</td>\n",
       "    </tr>\n",
       "    <tr>\n",
       "      <th>16713</th>\n",
       "      <td>Spirits &amp; Spells</td>\n",
       "      <td>GBA</td>\n",
       "      <td>2003</td>\n",
       "      <td>Platform</td>\n",
       "      <td>0.01</td>\n",
       "      <td>0.00</td>\n",
       "      <td>0.00</td>\n",
       "      <td>0.00</td>\n",
       "      <td>NaN</td>\n",
       "      <td>NaN</td>\n",
       "      <td>unknown</td>\n",
       "      <td>0.01</td>\n",
       "    </tr>\n",
       "    <tr>\n",
       "      <th>16714</th>\n",
       "      <td>Winning Post 8 2016</td>\n",
       "      <td>PSV</td>\n",
       "      <td>2016</td>\n",
       "      <td>Simulation</td>\n",
       "      <td>0.00</td>\n",
       "      <td>0.00</td>\n",
       "      <td>0.01</td>\n",
       "      <td>0.00</td>\n",
       "      <td>NaN</td>\n",
       "      <td>NaN</td>\n",
       "      <td>unknown</td>\n",
       "      <td>0.01</td>\n",
       "    </tr>\n",
       "  </tbody>\n",
       "</table>\n",
       "<p>16444 rows × 12 columns</p>\n",
       "</div>"
      ],
      "text/plain": [
       "                                name platform  year_of_release         genre  \\\n",
       "0                         Wii Sports      Wii             2006        Sports   \n",
       "1                  Super Mario Bros.      NES             1985      Platform   \n",
       "2                     Mario Kart Wii      Wii             2008        Racing   \n",
       "3                  Wii Sports Resort      Wii             2009        Sports   \n",
       "4           Pokemon Red/Pokemon Blue       GB             1996  Role-Playing   \n",
       "...                              ...      ...              ...           ...   \n",
       "16710  Samurai Warriors: Sanada Maru      PS3             2016        Action   \n",
       "16711               LMA Manager 2007     X360             2006        Sports   \n",
       "16712        Haitaka no Psychedelica      PSV             2016     Adventure   \n",
       "16713               Spirits & Spells      GBA             2003      Platform   \n",
       "16714            Winning Post 8 2016      PSV             2016    Simulation   \n",
       "\n",
       "       na_sales  eu_sales  jp_sales  other_sales  critic_score  user_score  \\\n",
       "0         41.36     28.96      3.77         8.45          76.0         8.0   \n",
       "1         29.08      3.58      6.81         0.77           NaN         NaN   \n",
       "2         15.68     12.76      3.79         3.29          82.0         8.3   \n",
       "3         15.61     10.93      3.28         2.95          80.0         8.0   \n",
       "4         11.27      8.89     10.22         1.00           NaN         NaN   \n",
       "...         ...       ...       ...          ...           ...         ...   \n",
       "16710      0.00      0.00      0.01         0.00           NaN         NaN   \n",
       "16711      0.00      0.01      0.00         0.00           NaN         NaN   \n",
       "16712      0.00      0.00      0.01         0.00           NaN         NaN   \n",
       "16713      0.01      0.00      0.00         0.00           NaN         NaN   \n",
       "16714      0.00      0.00      0.01         0.00           NaN         NaN   \n",
       "\n",
       "        rating  total_sales  \n",
       "0            E        82.54  \n",
       "1      unknown        40.24  \n",
       "2            E        35.52  \n",
       "3            E        32.77  \n",
       "4      unknown        31.38  \n",
       "...        ...          ...  \n",
       "16710  unknown         0.01  \n",
       "16711  unknown         0.01  \n",
       "16712  unknown         0.01  \n",
       "16713  unknown         0.01  \n",
       "16714  unknown         0.01  \n",
       "\n",
       "[16444 rows x 12 columns]"
      ]
     },
     "execution_count": 12,
     "metadata": {},
     "output_type": "execute_result"
    }
   ],
   "source": [
    "df['total_sales'] = round(df['jp_sales'] + df['na_sales'] + df['eu_sales'] + df['other_sales'], 2)\n",
    "df"
   ]
  },
  {
   "cell_type": "markdown",
   "metadata": {},
   "source": [
    "## Исследовательский анализ данных"
   ]
  },
  {
   "cell_type": "markdown",
   "metadata": {},
   "source": [
    "### Посмотрим сколько игр выпускалось в каждый из годов"
   ]
  },
  {
   "cell_type": "code",
   "execution_count": 13,
   "metadata": {},
   "outputs": [
    {
     "data": {
      "image/png": "[encoded data removed]",
      "text/plain": [
       "<Figure size 1080x360 with 1 Axes>"
      ]
     },
     "metadata": {
      "needs_background": "light"
     },
     "output_type": "display_data"
    }
   ],
   "source": [
    "(\n",
    "df.pivot_table(index='year_of_release', values='name', aggfunc='count')\\\n",
    "    .plot(kind='bar', figsize=(15,5), title=('Количество проданных игр за год'), xlabel='Год выпуска', ylabel='Количество игр')\n",
    ")\n",
    "plt.show();"
   ]
  },
  {
   "cell_type": "markdown",
   "metadata": {},
   "source": [
    "**Вывод:** Как видно из данных, основной рост начинается в 2002 году с 829 тайтлами и его пик приходиться на 2008/2009 года с 1427 и 1426 тайтлами соотвественно, а после идет уже спад, который в 2012 довольно резок и в 2016 у нас всего 502, то есть за 8 лет число игр упало почти в 3 раза. Данные за все года нам врятли понадобяться, возьмем отрезок с 2012 года, когда произошел существенный спад."
   ]
  },
  {
   "cell_type": "markdown",
   "metadata": {},
   "source": [
    "### Посмотрим как менялись продажи по платформам"
   ]
  },
  {
   "cell_type": "code",
   "execution_count": 14,
   "metadata": {},
   "outputs": [
    {
     "data": {
      "text/html": [
       "<div>\n",
       "<style scoped>\n",
       "    .dataframe tbody tr th:only-of-type {\n",
       "        vertical-align: middle;\n",
       "    }\n",
       "\n",
       "    .dataframe tbody tr th {\n",
       "        vertical-align: top;\n",
       "    }\n",
       "\n",
       "    .dataframe thead th {\n",
       "        text-align: right;\n",
       "    }\n",
       "</style>\n",
       "<table border=\"1\" class=\"dataframe\">\n",
       "  <thead>\n",
       "    <tr style=\"text-align: right;\">\n",
       "      <th></th>\n",
       "      <th>total_sales</th>\n",
       "    </tr>\n",
       "    <tr>\n",
       "      <th>platform</th>\n",
       "      <th></th>\n",
       "    </tr>\n",
       "  </thead>\n",
       "  <tbody>\n",
       "    <tr>\n",
       "      <th>PS2</th>\n",
       "      <td>2127</td>\n",
       "    </tr>\n",
       "    <tr>\n",
       "      <th>DS</th>\n",
       "      <td>2121</td>\n",
       "    </tr>\n",
       "    <tr>\n",
       "      <th>PS3</th>\n",
       "      <td>1306</td>\n",
       "    </tr>\n",
       "    <tr>\n",
       "      <th>Wii</th>\n",
       "      <td>1286</td>\n",
       "    </tr>\n",
       "    <tr>\n",
       "      <th>X360</th>\n",
       "      <td>1232</td>\n",
       "    </tr>\n",
       "    <tr>\n",
       "      <th>PSP</th>\n",
       "      <td>1193</td>\n",
       "    </tr>\n",
       "    <tr>\n",
       "      <th>PS</th>\n",
       "      <td>1190</td>\n",
       "    </tr>\n",
       "    <tr>\n",
       "      <th>PC</th>\n",
       "      <td>957</td>\n",
       "    </tr>\n",
       "    <tr>\n",
       "      <th>GBA</th>\n",
       "      <td>811</td>\n",
       "    </tr>\n",
       "    <tr>\n",
       "      <th>XB</th>\n",
       "      <td>803</td>\n",
       "    </tr>\n",
       "    <tr>\n",
       "      <th>GC</th>\n",
       "      <td>542</td>\n",
       "    </tr>\n",
       "    <tr>\n",
       "      <th>3DS</th>\n",
       "      <td>512</td>\n",
       "    </tr>\n",
       "    <tr>\n",
       "      <th>PSV</th>\n",
       "      <td>429</td>\n",
       "    </tr>\n",
       "    <tr>\n",
       "      <th>PS4</th>\n",
       "      <td>392</td>\n",
       "    </tr>\n",
       "    <tr>\n",
       "      <th>N64</th>\n",
       "      <td>316</td>\n",
       "    </tr>\n",
       "    <tr>\n",
       "      <th>XOne</th>\n",
       "      <td>247</td>\n",
       "    </tr>\n",
       "    <tr>\n",
       "      <th>SNES</th>\n",
       "      <td>239</td>\n",
       "    </tr>\n",
       "    <tr>\n",
       "      <th>SAT</th>\n",
       "      <td>173</td>\n",
       "    </tr>\n",
       "    <tr>\n",
       "      <th>WiiU</th>\n",
       "      <td>147</td>\n",
       "    </tr>\n",
       "    <tr>\n",
       "      <th>2600</th>\n",
       "      <td>116</td>\n",
       "    </tr>\n",
       "    <tr>\n",
       "      <th>NES</th>\n",
       "      <td>98</td>\n",
       "    </tr>\n",
       "    <tr>\n",
       "      <th>GB</th>\n",
       "      <td>97</td>\n",
       "    </tr>\n",
       "    <tr>\n",
       "      <th>DC</th>\n",
       "      <td>52</td>\n",
       "    </tr>\n",
       "    <tr>\n",
       "      <th>GEN</th>\n",
       "      <td>27</td>\n",
       "    </tr>\n",
       "    <tr>\n",
       "      <th>NG</th>\n",
       "      <td>12</td>\n",
       "    </tr>\n",
       "    <tr>\n",
       "      <th>SCD</th>\n",
       "      <td>6</td>\n",
       "    </tr>\n",
       "    <tr>\n",
       "      <th>WS</th>\n",
       "      <td>6</td>\n",
       "    </tr>\n",
       "    <tr>\n",
       "      <th>3DO</th>\n",
       "      <td>3</td>\n",
       "    </tr>\n",
       "    <tr>\n",
       "      <th>TG16</th>\n",
       "      <td>2</td>\n",
       "    </tr>\n",
       "    <tr>\n",
       "      <th>PCFX</th>\n",
       "      <td>1</td>\n",
       "    </tr>\n",
       "    <tr>\n",
       "      <th>GG</th>\n",
       "      <td>1</td>\n",
       "    </tr>\n",
       "  </tbody>\n",
       "</table>\n",
       "</div>"
      ],
      "text/plain": [
       "          total_sales\n",
       "platform             \n",
       "PS2              2127\n",
       "DS               2121\n",
       "PS3              1306\n",
       "Wii              1286\n",
       "X360             1232\n",
       "PSP              1193\n",
       "PS               1190\n",
       "PC                957\n",
       "GBA               811\n",
       "XB                803\n",
       "GC                542\n",
       "3DS               512\n",
       "PSV               429\n",
       "PS4               392\n",
       "N64               316\n",
       "XOne              247\n",
       "SNES              239\n",
       "SAT               173\n",
       "WiiU              147\n",
       "2600              116\n",
       "NES                98\n",
       "GB                 97\n",
       "DC                 52\n",
       "GEN                27\n",
       "NG                 12\n",
       "SCD                 6\n",
       "WS                  6\n",
       "3DO                 3\n",
       "TG16                2\n",
       "PCFX                1\n",
       "GG                  1"
      ]
     },
     "execution_count": 14,
     "metadata": {},
     "output_type": "execute_result"
    }
   ],
   "source": [
    "df_pivot = df.pivot_table(index=['platform'], values='total_sales', aggfunc='count')\\\n",
    ".sort_values(by='total_sales', ascending=False)\n",
    "df_pivot"
   ]
  },
  {
   "cell_type": "code",
   "execution_count": 15,
   "metadata": {},
   "outputs": [
    {
     "data": {
      "image/png": "[encoded data removed]",
      "text/plain": [
       "<Figure size 1080x360 with 1 Axes>"
      ]
     },
     "metadata": {
      "needs_background": "light"
     },
     "output_type": "display_data"
    }
   ],
   "source": [
    "(\n",
    "df.pivot_table(index='platform', values='total_sales', aggfunc='count')\\\n",
    ".sort_values(by='total_sales', ascending=False)\\\n",
    "    .plot(kind='bar', figsize=(15,5), xlabel='Игровая пратформа', ylabel='Количество проданных игр')\n",
    ")\n",
    "plt.show()"
   ]
  },
  {
   "cell_type": "markdown",
   "metadata": {},
   "source": [
    "**Вывод:** Наибольшее число игр было продано для таких платформ как PS2 и DS их почти в 2 больше чем ближайшие PS3, Wii, X360, PSP, PS дальше уже идут платформы с числом продаж ниже 1000 экземпляров."
   ]
  },
  {
   "cell_type": "code",
   "execution_count": 16,
   "metadata": {
    "scrolled": true
   },
   "outputs": [
    {
     "data": {
      "image/png": "[encoded data removed]",
      "text/plain": [
       "<Figure size 1080x360 with 1 Axes>"
      ]
     },
     "metadata": {
      "needs_background": "light"
     },
     "output_type": "display_data"
    }
   ],
   "source": [
    "df.plot.scatter(x='platform', y='year_of_release', figsize=(15, 5))\n",
    "plt.title('Жизненный цикл платформ')\n",
    "plt.show();"
   ]
  },
  {
   "cell_type": "markdown",
   "metadata": {},
   "source": [
    "**Вывод:** в среднем жизненный цикл консолей 8 - 12 лет, если разбивать их на версии или как единичные, но пк не собирается останавливаться"
   ]
  },
  {
   "cell_type": "code",
   "execution_count": 17,
   "metadata": {},
   "outputs": [
    {
     "data": {
      "image/png": "[encoded data removed]",
      "text/plain": [
       "<Figure size 864x360 with 1 Axes>"
      ]
     },
     "metadata": {
      "needs_background": "light"
     },
     "output_type": "display_data"
    }
   ],
   "source": [
    "(\n",
    "df.query('platform == \"DS\"')\\\n",
    "    .pivot_table(index='year_of_release', values='total_sales', aggfunc='sum')\n",
    "    .plot(grid=True, figsize=(12,5), xlabel='DS', ylabel='Количество проданных игр, млн.шт', title='Динамика продаж на DS')\n",
    ");"
   ]
  },
  {
   "cell_type": "markdown",
   "metadata": {},
   "source": [
    "**Вывод:** Одна из самых древних консолей, но свой рост популярности у нее пришел на 2004г и продержался до 2008, после чего пошел низкий спад, оно и не удивительно, сменна поколений пользоватей и развитие технологий и появление более крутых платформ "
   ]
  },
  {
   "cell_type": "code",
   "execution_count": 18,
   "metadata": {},
   "outputs": [
    {
     "data": {
      "image/png": "[encoded data removed]",
      "text/plain": [
       "<Figure size 864x360 with 1 Axes>"
      ]
     },
     "metadata": {
      "needs_background": "light"
     },
     "output_type": "display_data"
    }
   ],
   "source": [
    "(\n",
    "df.query('platform == \"PS\"')\\\n",
    "    .pivot_table(index='year_of_release', values='total_sales', aggfunc='sum')\n",
    "    .plot(grid=True, figsize=(12,5), xlabel='PS', ylabel='Количество проданных игр, млн.шт', title='Динамика продаж на PS')\n",
    ");"
   ]
  },
  {
   "cell_type": "markdown",
   "metadata": {},
   "source": [
    "**Вывод:** Выход первой консоли от Sony произвел революцию и ее популярность стремительно росла на протяжение 4 лет вплоть до выхода следующей версии"
   ]
  },
  {
   "cell_type": "code",
   "execution_count": 19,
   "metadata": {
    "scrolled": true
   },
   "outputs": [
    {
     "data": {
      "image/png": "[encoded data removed]",
      "text/plain": [
       "<Figure size 864x360 with 1 Axes>"
      ]
     },
     "metadata": {
      "needs_background": "light"
     },
     "output_type": "display_data"
    }
   ],
   "source": [
    "(\n",
    "df.query('platform == \"PS2\"')\\\n",
    "    .pivot_table(index='year_of_release', values='total_sales', aggfunc='sum')\n",
    "    .plot(grid=True, figsize=(12,5), xlabel='PS2', ylabel='Количество проданных игр, млн.шт', title='Динамика продаж на PS2')\n",
    ");"
   ]
  },
  {
   "cell_type": "markdown",
   "metadata": {},
   "source": [
    "**Вывод:** В 4 марта 2000г была выпущена консоль PS2 и она набрала огромную фан базу, до выхода PS3. В 2006г был намечен выход PS3, что и привело к снижению популярности PS2."
   ]
  },
  {
   "cell_type": "code",
   "execution_count": 20,
   "metadata": {},
   "outputs": [
    {
     "data": {
      "image/png": "[encoded data removed]",
      "text/plain": [
       "<Figure size 864x360 with 1 Axes>"
      ]
     },
     "metadata": {
      "needs_background": "light"
     },
     "output_type": "display_data"
    }
   ],
   "source": [
    "(\n",
    "df.query('platform == \"PS3\"')\\\n",
    "    .pivot_table(index='year_of_release', values='total_sales', aggfunc='sum')\n",
    "    .plot(grid=True, figsize=(12,5), xlabel='PS3', ylabel='Количество проданных игр, млн.шт', title='Динамика продаж на PS3')\n",
    ");"
   ]
  },
  {
   "cell_type": "code",
   "execution_count": 21,
   "metadata": {},
   "outputs": [
    {
     "data": {
      "image/png": "[encoded data removed]",
      "text/plain": [
       "<Figure size 864x360 with 1 Axes>"
      ]
     },
     "metadata": {
      "needs_background": "light"
     },
     "output_type": "display_data"
    }
   ],
   "source": [
    "(\n",
    "df.query('platform == \"Wii\"')\\\n",
    "    .pivot_table(index='year_of_release', values='total_sales', aggfunc='sum')\n",
    "    .plot(grid=True, figsize=(12,5), xlabel='Wii', ylabel='Количество проданных игр, млн.шт', title='Динамика продаж на Wii')\n",
    ");"
   ]
  },
  {
   "cell_type": "markdown",
   "metadata": {},
   "source": [
    "**Вывод:** На старте был высокий спрос и динамика сохранялась 3 года, но после резко пошла на спад"
   ]
  },
  {
   "cell_type": "code",
   "execution_count": 22,
   "metadata": {},
   "outputs": [
    {
     "data": {
      "image/png": "[encoded data removed]",
      "text/plain": [
       "<Figure size 864x360 with 1 Axes>"
      ]
     },
     "metadata": {
      "needs_background": "light"
     },
     "output_type": "display_data"
    }
   ],
   "source": [
    "(\n",
    "df.query('platform == \"X360\"')\\\n",
    "    .pivot_table(index='year_of_release', values='total_sales', aggfunc='sum')\n",
    "    .plot(grid=True, figsize=(12,5), xlabel='X360', ylabel='Количество проданных игр, млн.шт', title='Динамика продаж на X360')\n",
    ");"
   ]
  },
  {
   "cell_type": "markdown",
   "metadata": {},
   "source": [
    "**Вывод:** Консоль от Microsoft создавалась как прямой конкуретнт Sony и как видно ее интерес был так же высок у пользователей"
   ]
  },
  {
   "cell_type": "code",
   "execution_count": 23,
   "metadata": {},
   "outputs": [
    {
     "data": {
      "image/png": "[encoded data removed]",
      "text/plain": [
       "<Figure size 864x360 with 1 Axes>"
      ]
     },
     "metadata": {
      "needs_background": "light"
     },
     "output_type": "display_data"
    }
   ],
   "source": [
    "(\n",
    "df.query('platform == \"PSP\"')\\\n",
    "    .pivot_table(index='year_of_release', values='total_sales', aggfunc='sum')\n",
    "    .plot(grid=True, figsize=(12,5), xlabel='PSP', ylabel='Количество проданных игр, млн.шт', title='Динамика продаж на PSP')\n",
    ");"
   ]
  },
  {
   "cell_type": "markdown",
   "metadata": {},
   "source": [
    "**Вывод:** Не смотря на популярность полноценных консолей от Sony, портативная ее версия так же была хорошо воспринята среди пользователей, но конечно полноценной и конкуретной борьбы она не могла дать им"
   ]
  },
  {
   "cell_type": "code",
   "execution_count": 24,
   "metadata": {},
   "outputs": [
    {
     "data": {
      "image/png": "[encoded data removed]",
      "text/plain": [
       "<Figure size 864x360 with 1 Axes>"
      ]
     },
     "metadata": {
      "needs_background": "light"
     },
     "output_type": "display_data"
    }
   ],
   "source": [
    "(\n",
    "df.query('platform == \"PC\"')\\\n",
    "    .pivot_table(index='year_of_release', values='total_sales', aggfunc='sum')\n",
    "    .plot(grid=True, figsize=(12,5), xlabel='PC', ylabel='Количество проданных игр, млн.шт', title='Динамика продаж на PC')\n",
    ");"
   ]
  },
  {
   "cell_type": "markdown",
   "metadata": {},
   "source": [
    "**Вывод:** Царь ПК появился одним из первых, но все мы знаем для чего и каким он был вначале своего пути, поэтому это консоль с большим потенциалом на будущее сильно зависящая от прогресса технологического"
   ]
  },
  {
   "cell_type": "code",
   "execution_count": 25,
   "metadata": {},
   "outputs": [
    {
     "data": {
      "image/png": "[encoded data removed]",
      "text/plain": [
       "<Figure size 864x360 with 1 Axes>"
      ]
     },
     "metadata": {
      "needs_background": "light"
     },
     "output_type": "display_data"
    }
   ],
   "source": [
    "(\n",
    "df.query('platform == \"PS4\"')\\\n",
    "    .pivot_table(index='year_of_release', values='total_sales', aggfunc='sum')\n",
    "    .plot(grid=True, figsize=(12,5), xlabel='PS4', ylabel='Количество проданных игр, млн.шт', title='Динамика продаж на PS4')\n",
    ");"
   ]
  },
  {
   "cell_type": "markdown",
   "metadata": {},
   "source": [
    "**Вывод:** Очередная новая версия от Sony показала хороший рост"
   ]
  },
  {
   "cell_type": "code",
   "execution_count": 26,
   "metadata": {},
   "outputs": [
    {
     "data": {
      "image/png": "[encoded data removed]",
      "text/plain": [
       "<Figure size 864x360 with 1 Axes>"
      ]
     },
     "metadata": {
      "needs_background": "light"
     },
     "output_type": "display_data"
    }
   ],
   "source": [
    "(\n",
    "df.query('platform == \"XOne\"')\\\n",
    "    .pivot_table(index='year_of_release', values='total_sales', aggfunc='sum')\n",
    "    .plot(grid=True, figsize=(12,5), xlabel='XOne', ylabel='Количество проданных игр, млн.шт', title='Динамика продаж на XOne')\n",
    ");"
   ]
  },
  {
   "cell_type": "markdown",
   "metadata": {},
   "source": [
    "**Вывод:** Как и прямой конкурентр PS4 так же на старте показала мощный рост "
   ]
  },
  {
   "cell_type": "code",
   "execution_count": 27,
   "metadata": {
    "scrolled": true
   },
   "outputs": [
    {
     "data": {
      "image/png": "[encoded data removed]",
      "text/plain": [
       "<Figure size 1080x360 with 1 Axes>"
      ]
     },
     "metadata": {
      "needs_background": "light"
     },
     "output_type": "display_data"
    }
   ],
   "source": [
    "df.query('year_of_release >= 2012').plot.scatter(x='platform', y='year_of_release', figsize=(15,5))\n",
    "plt.title('Распределение по годам платформ в период с 2012-2016гг')\n",
    "plt.ylabel('Год')\n",
    "plt.xlabel('Платформы')\n",
    "plt.show()"
   ]
  },
  {
   "cell_type": "markdown",
   "metadata": {},
   "source": [
    "**Вывод:** выберем наиболее перспективные платформы "
   ]
  },
  {
   "cell_type": "markdown",
   "metadata": {},
   "source": [
    "### Построим диаграмму размаха игр по платформам"
   ]
  },
  {
   "cell_type": "code",
   "execution_count": 28,
   "metadata": {},
   "outputs": [],
   "source": [
    "row = df.query('[\"PS4\", \"WiiU\", \"3DS\", \"XOne\", \"PC\"] in platform and year_of_release >= 2012')"
   ]
  },
  {
   "cell_type": "code",
   "execution_count": 29,
   "metadata": {},
   "outputs": [
    {
     "data": {
      "image/png": "[encoded data removed]",
      "text/plain": [
       "<Figure size 1080x720 with 1 Axes>"
      ]
     },
     "metadata": {
      "needs_background": "light"
     },
     "output_type": "display_data"
    }
   ],
   "source": [
    "plt.figure(figsize=(15, 10))\n",
    "(sns.boxplot(data = row, y = 'total_sales', x='platform')\n",
    "    .set(title = 'Диаграмма размаха игр по платформам с 2012 - 2016гг', xlabel = 'Платформы', ylabel = 'Общие продажи, млн.шт'))\n",
    "plt.ylim(0, 2)\n",
    "plt.show()"
   ]
  },
  {
   "cell_type": "code",
   "execution_count": 30,
   "metadata": {},
   "outputs": [
    {
     "data": {
      "image/png": "[encoded data removed]",
      "text/plain": [
       "<Figure size 1080x720 with 1 Axes>"
      ]
     },
     "metadata": {
      "needs_background": "light"
     },
     "output_type": "display_data"
    }
   ],
   "source": [
    "plt.figure(figsize=(15, 10))\n",
    "(sns.boxplot(data = row, y = 'total_sales', x='platform')\n",
    "    .set(title = 'Диаграмма размаха игр по платформам с 2012 - 2016гг', xlabel = 'Платформы', ylabel = 'Общие продажи, млн.шт'))\n",
    "plt.show()"
   ]
  },
  {
   "cell_type": "markdown",
   "metadata": {},
   "source": [
    "**Вывод:** на графиках видно что медианное значение около 0.25 млн.шт. Лучше всего результаты у PS4, XOne, WiiU"
   ]
  },
  {
   "cell_type": "markdown",
   "metadata": {},
   "source": [
    "### Посмотрим, как влияют на продажи внутри одной популярной платформы отзывы пользователей и критиков"
   ]
  },
  {
   "cell_type": "code",
   "execution_count": 31,
   "metadata": {},
   "outputs": [],
   "source": [
    "potencial_platform = [\"PS4\", \"WiiU\", \"3DS\", \"XOne\", \"PC\"]"
   ]
  },
  {
   "cell_type": "code",
   "execution_count": 32,
   "metadata": {},
   "outputs": [],
   "source": [
    "actual_period = df.query('year_of_release >= 2012').reset_index()"
   ]
  },
  {
   "cell_type": "code",
   "execution_count": 33,
   "metadata": {},
   "outputs": [
    {
     "data": {
      "image/png": "[encoded data removed]",
      "text/plain": [
       "<Figure size 1080x720 with 1 Axes>"
      ]
     },
     "metadata": {
      "needs_background": "light"
     },
     "output_type": "display_data"
    },
    {
     "name": "stdout",
     "output_type": "stream",
     "text": [
      "Корреляция между оценками пользователей и продажами: -0.0689250532827941\n"
     ]
    }
   ],
   "source": [
    "corr_graf = actual_period.query('platform == \"XOne\"')\n",
    "corr_graf.plot(x='user_score', y='total_sales', kind='scatter', figsize=(15,10), title='Зависимость между отзовами пользователей и продажами', xlabel='оценки пользователей', alpha=0.5, ylabel='Продажи, млн.шт')\n",
    "plt.show()\n",
    "print('Корреляция между оценками пользователей и продажами:', corr_graf['user_score'].corr(corr_graf['total_sales']))"
   ]
  },
  {
   "cell_type": "code",
   "execution_count": 34,
   "metadata": {},
   "outputs": [
    {
     "data": {
      "image/png": "[encoded data removed]",
      "text/plain": [
       "<Figure size 1080x720 with 1 Axes>"
      ]
     },
     "metadata": {
      "needs_background": "light"
     },
     "output_type": "display_data"
    },
    {
     "name": "stdout",
     "output_type": "stream",
     "text": [
      "Корреляция между оценками пользователей и продажами: 0.4169983280084017\n"
     ]
    }
   ],
   "source": [
    "corr_graf = actual_period.query('platform == \"XOne\"')\n",
    "corr_graf.plot(x='critic_score', y='total_sales', kind='scatter', figsize=(15,10), title='Зависимость между отзовами критиков и продажами', xlabel='оценки критиков', alpha=0.5, ylabel='Продажи, млн.шт')\n",
    "plt.show()\n",
    "print('Корреляция между оценками пользователей и продажами:', corr_graf['critic_score'].corr(corr_graf['total_sales']))"
   ]
  },
  {
   "cell_type": "markdown",
   "metadata": {},
   "source": [
    "**Вывод:** Оценки критиков имею большую линейную взаимосвязь нежели оценки пользоватей, но все равно не такую сильную чтобы можно было сказать что критики напрямую влияют на популярнойсть платформы и как следсвие на ее продажи."
   ]
  },
  {
   "cell_type": "code",
   "execution_count": 35,
   "metadata": {},
   "outputs": [
    {
     "name": "stdout",
     "output_type": "stream",
     "text": [
      "3DS\n",
      "Корреляция между оценками пользователей и продажами: 0.19758263411038599\n",
      "Корреляция между оценками критиков и продажами: 0.3208028695360785\n",
      "\n",
      "DS\n",
      "Корреляция между оценками пользователей и продажами: 0.88270872757644\n",
      "Корреляция между оценками критиков и продажами: nan\n",
      "\n",
      "PC\n",
      "Корреляция между оценками пользователей и продажами: -0.12186747630735574\n",
      "Корреляция между оценками критиков и продажами: 0.23724324311567915\n",
      "\n",
      "PS3\n",
      "Корреляция между оценками пользователей и продажами: -0.005143522887113811\n",
      "Корреляция между оценками критиков и продажами: 0.3314972592629587\n",
      "\n",
      "PS4\n",
      "Корреляция между оценками пользователей и продажами: -0.031957110204556397\n",
      "Корреляция между оценками критиков и продажами: 0.40656790206178106\n",
      "\n",
      "PSP\n",
      "Корреляция между оценками пользователей и продажами: -0.8023020619393209\n",
      "Корреляция между оценками критиков и продажами: nan\n",
      "\n",
      "PSV\n",
      "Корреляция между оценками пользователей и продажами: -0.004339437514314852\n",
      "Корреляция между оценками критиков и продажами: 0.09448789929316173\n",
      "\n",
      "Wii\n",
      "Корреляция между оценками пользователей и продажами: 0.29619680007479526\n",
      "Корреляция между оценками критиков и продажами: -0.4243413011077494\n",
      "\n",
      "WiiU\n",
      "Корреляция между оценками пользователей и продажами: 0.4002190202148617\n",
      "Корреляция между оценками критиков и продажами: 0.34837976012017485\n",
      "\n",
      "X360\n",
      "Корреляция между оценками пользователей и продажами: 0.006163978646213318\n",
      "Корреляция между оценками критиков и продажами: 0.36057348885073354\n",
      "\n",
      "XOne\n",
      "Корреляция между оценками пользователей и продажами: -0.0689250532827941\n",
      "Корреляция между оценками критиков и продажами: 0.4169983280084017\n",
      "\n"
     ]
    }
   ],
   "source": [
    "for i, j in actual_period.groupby('platform'):\n",
    "    print(i)\n",
    "    print(\"Корреляция между оценками пользователей и продажами:\", j['user_score'].corr(j['total_sales']))\n",
    "    print(\"Корреляция между оценками критиков и продажами:\", j['critic_score'].corr(j['total_sales']))\n",
    "    print()"
   ]
  },
  {
   "cell_type": "markdown",
   "metadata": {},
   "source": [
    "**Вывод:** Так же как и для каждой отдельной игровой платформы, результат корреляций и  линейная взаимосвязь не такая тесная в общем по всем продажам и оценкам. Между оценкой пользователей коэффициент Пирсона близок к 0, что говорит о том что взаимосвязь практически отсутсвует. С оценкой критиков взаимосвязь выше, но не сказать что прям сильно влияет на продажи. "
   ]
  },
  {
   "cell_type": "markdown",
   "metadata": {},
   "source": [
    "### Посмотрим, есть ли зависимость от жанра игры и ее продажами"
   ]
  },
  {
   "cell_type": "code",
   "execution_count": 36,
   "metadata": {},
   "outputs": [
    {
     "data": {
      "image/png": "[encoded data removed]",
      "text/plain": [
       "<Figure size 1080x360 with 1 Axes>"
      ]
     },
     "metadata": {
      "needs_background": "light"
     },
     "output_type": "display_data"
    }
   ],
   "source": [
    "(\n",
    "actual_period\\\n",
    ".pivot_table(index='genre', values='total_sales', aggfunc='median')\\\n",
    ".sort_values(by='total_sales', ascending=False)\\\n",
    ".plot(kind='bar', figsize=(15,5), title='Распределение игр по жанрам', xlabel='Жанры', ylabel='Количество проданных игр в период с 2012 - 2016гг'));\n"
   ]
  },
  {
   "cell_type": "markdown",
   "metadata": {},
   "source": [
    "**Вывод:** Игры  жанра  sports, shooter являтся наиболее продаваемыми"
   ]
  },
  {
   "cell_type": "markdown",
   "metadata": {},
   "source": [
    "## Портрет пользователя для каждого региона продаж"
   ]
  },
  {
   "cell_type": "code",
   "execution_count": 37,
   "metadata": {},
   "outputs": [],
   "source": [
    "period = df.query('year_of_release >= 2012').reset_index()"
   ]
  },
  {
   "cell_type": "markdown",
   "metadata": {},
   "source": [
    "**Проведем анализ для региона NA**"
   ]
  },
  {
   "cell_type": "code",
   "execution_count": 38,
   "metadata": {},
   "outputs": [
    {
     "data": {
      "image/png": "[encoded data removed]",
      "text/plain": [
       "<Figure size 432x288 with 1 Axes>"
      ]
     },
     "metadata": {},
     "output_type": "display_data"
    }
   ],
   "source": [
    "period.groupby(['platform']).sum().plot(kind='pie', y='na_sales', ylabel='Платформы', autopct='%1.0f%%', legend=False,\n",
    " colors = ['orange', 'green', 'red'],\n",
    " title='Доля платформ в NA');"
   ]
  },
  {
   "cell_type": "markdown",
   "metadata": {},
   "source": [
    "**Вывод**: Самая популярная платформа в NA - PS3 и X360"
   ]
  },
  {
   "cell_type": "code",
   "execution_count": 39,
   "metadata": {},
   "outputs": [],
   "source": [
    "period = df.query('year_of_release >= 2014').reset_index()"
   ]
  },
  {
   "cell_type": "code",
   "execution_count": 40,
   "metadata": {
    "scrolled": true
   },
   "outputs": [
    {
     "data": {
      "image/png": "[encoded data removed]",
      "text/plain": [
       "<Figure size 432x288 with 1 Axes>"
      ]
     },
     "metadata": {},
     "output_type": "display_data"
    }
   ],
   "source": [
    "period.groupby(['genre']).sum().sort_values(by='jp_sales', ascending=False).head(5).plot(kind='pie', y='na_sales', ylabel='Жанры', autopct='%1.0f%%', legend=False,\n",
    " colors = ['orange', 'green', 'red'],\n",
    " title='Доля жанров в NA');"
   ]
  },
  {
   "cell_type": "markdown",
   "metadata": {},
   "source": [
    "**Вывод:** Жанра экшен и шутеры лидируют над остальными жанрами"
   ]
  },
  {
   "cell_type": "code",
   "execution_count": 41,
   "metadata": {},
   "outputs": [
    {
     "data": {
      "image/png": "[encoded data removed]",
      "text/plain": [
       "<Figure size 432x288 with 1 Axes>"
      ]
     },
     "metadata": {},
     "output_type": "display_data"
    }
   ],
   "source": [
    "period.groupby(['rating']).sum().plot(kind='pie', y='na_sales', ylabel='Рейтинг', autopct='%1.0f%%', legend=False,\n",
    " colors = ['orange', 'green', 'red'],\n",
    " title='Доля рейтингов в NA');"
   ]
  },
  {
   "cell_type": "markdown",
   "metadata": {},
   "source": [
    "**Проведем анализ для региона EU**"
   ]
  },
  {
   "cell_type": "code",
   "execution_count": 42,
   "metadata": {},
   "outputs": [
    {
     "data": {
      "image/png": "[encoded data removed]",
      "text/plain": [
       "<Figure size 432x288 with 1 Axes>"
      ]
     },
     "metadata": {},
     "output_type": "display_data"
    }
   ],
   "source": [
    "period.groupby(['platform']).sum().plot(kind='pie', y='eu_sales', ylabel='Платформы', autopct='%1.0f%%', legend=False,\n",
    " colors = ['orange', 'green', 'red'],\n",
    " title='Доля платформ в EU');"
   ]
  },
  {
   "cell_type": "markdown",
   "metadata": {},
   "source": [
    "**Вывод:** В EU PS4 лидирует по популярности, не много остстает PS3"
   ]
  },
  {
   "cell_type": "code",
   "execution_count": 43,
   "metadata": {},
   "outputs": [
    {
     "data": {
      "image/png": "[encoded data removed]",
      "text/plain": [
       "<Figure size 432x288 with 1 Axes>"
      ]
     },
     "metadata": {},
     "output_type": "display_data"
    }
   ],
   "source": [
    "period.groupby(['genre']).sum().sort_values(by='jp_sales', ascending=False).head(5).plot(kind='pie', y='eu_sales', ylabel='Жанры', autopct='%1.0f%%', legend=False,\n",
    " colors = ['orange', 'green', 'red'],\n",
    " title='Доля жанров в EU');"
   ]
  },
  {
   "cell_type": "markdown",
   "metadata": {},
   "source": [
    "**Вывод:** В EU так же как и в NA любят экшены и шутеры суммарно более 70% пользователей"
   ]
  },
  {
   "cell_type": "code",
   "execution_count": 44,
   "metadata": {},
   "outputs": [
    {
     "data": {
      "image/png": "[encoded data removed]",
      "text/plain": [
       "<Figure size 432x288 with 1 Axes>"
      ]
     },
     "metadata": {},
     "output_type": "display_data"
    }
   ],
   "source": [
    "period.groupby(['rating']).sum().plot(kind='pie', y='eu_sales', ylabel='Рейтинги', autopct='%1.0f%%', legend=False,\n",
    " colors = ['orange', 'green', 'red'],\n",
    " title='Доля рейтингов в EU');"
   ]
  },
  {
   "cell_type": "markdown",
   "metadata": {},
   "source": [
    "**Проведем анализ для региона JP**"
   ]
  },
  {
   "cell_type": "code",
   "execution_count": 45,
   "metadata": {},
   "outputs": [
    {
     "data": {
      "image/png": "[encoded data removed]",
      "text/plain": [
       "<Figure size 432x288 with 1 Axes>"
      ]
     },
     "metadata": {},
     "output_type": "display_data"
    }
   ],
   "source": [
    "period.groupby(['platform']).sum().plot(kind='pie', y='jp_sales', ylabel='Платформы', autopct='%1.0f%%', legend=False,\n",
    " colors = ['orange', 'green', 'red'],\n",
    " title='Доля платформ в JP');"
   ]
  },
  {
   "cell_type": "markdown",
   "metadata": {},
   "source": [
    "**Вывод:** 3DS на удивление лидирует"
   ]
  },
  {
   "cell_type": "code",
   "execution_count": 46,
   "metadata": {
    "scrolled": true
   },
   "outputs": [
    {
     "data": {
      "image/png": "[encoded data removed]",
      "text/plain": [
       "<Figure size 432x288 with 1 Axes>"
      ]
     },
     "metadata": {},
     "output_type": "display_data"
    }
   ],
   "source": [
    "period.groupby(['genre']).sum().sort_values(by='jp_sales', ascending=False).head(5).plot(kind='pie', y='jp_sales', ylabel='Жанры', autopct='%1.0f%%', legend=False,\n",
    " colors = ['orange', 'green', 'red'],\n",
    " title='Доля жанров в JP');"
   ]
  },
  {
   "cell_type": "markdown",
   "metadata": {},
   "source": [
    "**Вывод:** экшены любят везде, но еще в JP любят больше ролевые игры"
   ]
  },
  {
   "cell_type": "code",
   "execution_count": 47,
   "metadata": {},
   "outputs": [
    {
     "data": {
      "image/png": "[encoded data removed]",
      "text/plain": [
       "<Figure size 432x288 with 1 Axes>"
      ]
     },
     "metadata": {},
     "output_type": "display_data"
    }
   ],
   "source": [
    "period.groupby(['rating']).sum().plot(kind='pie', y='jp_sales', ylabel='Рейтинги', autopct='%1.0f%%', legend=False,\n",
    " colors = ['orange', 'green', 'red'],\n",
    " title='Доля рейтингов в JP');"
   ]
  },
  {
   "cell_type": "markdown",
   "metadata": {},
   "source": [
    "**Вывод:** Рейтинги в таких регионах как EU & NA популярнее всего имеют маркировку \"М\", а вот в JP самое большое число у значений \"Unknown\", но это нормально, так как организация ESRB курирует США и Канаду, поэтому игры разработанные в этих страннах и в них заполняется рейтинг"
   ]
  },
  {
   "cell_type": "markdown",
   "metadata": {},
   "source": [
    "## Проверим гипотезы"
   ]
  },
  {
   "cell_type": "markdown",
   "metadata": {},
   "source": [
    "**Нулевая гипотеза:** Средние пользовательские рейтинги платформ Xbox One и PC одинаковые\n",
    "\n",
    "\n",
    "**Альтернативная гипотеза:** Средние пользовательские рейтинги платформ Xbox One и PC разные"
   ]
  },
  {
   "cell_type": "code",
   "execution_count": 48,
   "metadata": {},
   "outputs": [
    {
     "name": "stdout",
     "output_type": "stream",
     "text": [
      "p-значение: 0.5489537965134912\n",
      "Не получилось отвергнуть нулевую гипотезу\n"
     ]
    }
   ],
   "source": [
    "res = st.ttest_ind(\n",
    "    actual_period.query('platform == \"XOne\" and user_score.notna()')['user_score'],\n",
    "    actual_period.query('platform == \"PC\" and user_score.notna()')['user_score'],\n",
    "    equal_var=False)\n",
    "\n",
    "alpha = .05\n",
    "\n",
    "print('p-значение:', res.pvalue)\n",
    "\n",
    "if res.pvalue < alpha:\n",
    "    print(\"Отвергаем нулевую гипотезу\")\n",
    "else:\n",
    "    print(\"Не получилось отвергнуть нулевую гипотезу\") "
   ]
  },
  {
   "cell_type": "markdown",
   "metadata": {},
   "source": [
    "**Вывод:** входе тестирование при помощи двустороннего t-test Стьюдента, стало понятно что H0 неопровержима "
   ]
  },
  {
   "cell_type": "markdown",
   "metadata": {},
   "source": [
    "**Нулевая гипотеза:** Средние пользовательские рейтинги жанров Action и Sports одинаковые.\n",
    "\n",
    "\n",
    "**Альтернативная гипотеза:** Средние пользовательские рейтинги жанров Action и Sports разные."
   ]
  },
  {
   "cell_type": "code",
   "execution_count": 49,
   "metadata": {},
   "outputs": [
    {
     "name": "stdout",
     "output_type": "stream",
     "text": [
      "p-значение: 4.24307776572644e-20\n",
      "Отвергаем нулевую гипотезу\n"
     ]
    }
   ],
   "source": [
    "res = st.ttest_ind(\n",
    "    actual_period.query('genre == \"Action\" and user_score.notna()')['user_score'],\n",
    "    actual_period.query('genre == \"Sports\" and user_score.notna()')['user_score'],\n",
    "    equal_var=False)\n",
    "\n",
    "alpha = .05\n",
    "\n",
    "print('p-значение:', res.pvalue)\n",
    "\n",
    "if res.pvalue < alpha:\n",
    "    print(\"Отвергаем нулевую гипотезу\")\n",
    "else:\n",
    "    print(\"Не получилось отвергнуть нулевую гипотезу\") "
   ]
  },
  {
   "cell_type": "markdown",
   "metadata": {},
   "source": [
    "**Вывод:** входе тестирование при помощи двустороннего t-test Стьюдента, стало понятно что H0 мы отвергаем"
   ]
  },
  {
   "cell_type": "markdown",
   "metadata": {},
   "source": [
    "## Итоговый вывод"
   ]
  },
  {
   "cell_type": "markdown",
   "metadata": {},
   "source": [
    "Целью данного иследованния было выявить потенциально популярный продукт на 2017 год. Входе иследованния были выявлены популярные за последние годы и набирающие свою популярность игровые платформы такие как \"PS4\", \"WiiU\", \"3DS\", \"XOne\", \"PC\". Игры как и железо прогрессирует и развиваются очень быстро, поэтому можно сделать такое предположение что стоит вкладываться в рекламу консолей последнего покаления и пк. Что касаемо жанров и рейтингов, то здесь все немного не однозначно для Европы с Северной Америкой и Японией. Потому как Япония сильно отличается и там другой спрос на виды платформ и жанры игр. К тому же рейтинг распростроняется на игры созданные в США и Канаде, поэтому мы видим столько \"неопреденных\" рейтингов в Японии."
   ]
  }
 ],
 "metadata": {
  "ExecuteTimeLog": [
   {
    "duration": 443,
    "start_time": "2023-01-16T10:07:37.889Z"
   },
   {
    "duration": 115,
    "start_time": "2023-01-16T10:08:18.775Z"
   },
   {
    "duration": 68,
    "start_time": "2023-01-16T10:09:27.591Z"
   },
   {
    "duration": 3,
    "start_time": "2023-01-16T10:24:49.810Z"
   },
   {
    "duration": 7,
    "start_time": "2023-01-16T10:29:44.423Z"
   },
   {
    "duration": 26,
    "start_time": "2023-01-16T10:29:50.115Z"
   },
   {
    "duration": 4,
    "start_time": "2023-01-16T10:30:06.019Z"
   },
   {
    "duration": 43,
    "start_time": "2023-01-16T10:30:08.267Z"
   },
   {
    "duration": 4,
    "start_time": "2023-01-16T10:31:13.537Z"
   },
   {
    "duration": 6,
    "start_time": "2023-01-16T10:31:17.609Z"
   },
   {
    "duration": 6,
    "start_time": "2023-01-16T10:31:26.745Z"
   },
   {
    "duration": 5,
    "start_time": "2023-01-16T10:31:42.041Z"
   },
   {
    "duration": 88,
    "start_time": "2023-01-16T10:31:51.905Z"
   },
   {
    "duration": 26,
    "start_time": "2023-01-16T10:37:54.387Z"
   },
   {
    "duration": 15,
    "start_time": "2023-01-16T10:39:02.838Z"
   },
   {
    "duration": 71,
    "start_time": "2023-01-16T10:40:25.371Z"
   },
   {
    "duration": 20,
    "start_time": "2023-01-16T10:43:54.527Z"
   },
   {
    "duration": 12,
    "start_time": "2023-01-16T10:44:06.863Z"
   },
   {
    "duration": 10,
    "start_time": "2023-01-16T10:44:15.959Z"
   },
   {
    "duration": 5,
    "start_time": "2023-01-16T10:47:23.845Z"
   },
   {
    "duration": 9,
    "start_time": "2023-01-16T10:47:27.461Z"
   },
   {
    "duration": 12,
    "start_time": "2023-01-16T10:50:42.667Z"
   },
   {
    "duration": 10,
    "start_time": "2023-01-16T10:50:45.699Z"
   },
   {
    "duration": 15,
    "start_time": "2023-01-16T10:53:13.049Z"
   },
   {
    "duration": 11,
    "start_time": "2023-01-16T10:53:46.352Z"
   },
   {
    "duration": 10,
    "start_time": "2023-01-16T10:53:47.160Z"
   },
   {
    "duration": 19,
    "start_time": "2023-01-16T10:53:48.153Z"
   },
   {
    "duration": 67,
    "start_time": "2023-01-16T10:53:59.321Z"
   },
   {
    "duration": 21,
    "start_time": "2023-01-16T10:53:59.623Z"
   },
   {
    "duration": 15,
    "start_time": "2023-01-16T10:53:59.960Z"
   },
   {
    "duration": 9,
    "start_time": "2023-01-16T10:54:00.128Z"
   },
   {
    "duration": 12,
    "start_time": "2023-01-16T10:54:00.800Z"
   },
   {
    "duration": 10,
    "start_time": "2023-01-16T10:54:01.200Z"
   },
   {
    "duration": 15,
    "start_time": "2023-01-16T10:54:02.136Z"
   },
   {
    "duration": 5,
    "start_time": "2023-01-16T11:35:07.749Z"
   },
   {
    "duration": 13,
    "start_time": "2023-01-16T11:35:10.678Z"
   },
   {
    "duration": 7,
    "start_time": "2023-01-16T11:36:18.101Z"
   },
   {
    "duration": 13,
    "start_time": "2023-01-16T11:36:25.830Z"
   },
   {
    "duration": 6,
    "start_time": "2023-01-16T11:36:50.300Z"
   },
   {
    "duration": 15,
    "start_time": "2023-01-16T11:37:10.852Z"
   },
   {
    "duration": 20,
    "start_time": "2023-01-16T11:37:25.299Z"
   },
   {
    "duration": 2,
    "start_time": "2023-01-16T11:42:50.193Z"
   },
   {
    "duration": 69,
    "start_time": "2023-01-16T11:42:50.553Z"
   },
   {
    "duration": 34,
    "start_time": "2023-01-16T11:42:51.409Z"
   },
   {
    "duration": 14,
    "start_time": "2023-01-16T11:42:53.022Z"
   },
   {
    "duration": 12,
    "start_time": "2023-01-16T11:42:53.638Z"
   },
   {
    "duration": 9,
    "start_time": "2023-01-16T11:42:57.095Z"
   },
   {
    "duration": 9,
    "start_time": "2023-01-16T11:42:58.102Z"
   },
   {
    "duration": 11,
    "start_time": "2023-01-16T11:43:42.492Z"
   },
   {
    "duration": 9,
    "start_time": "2023-01-16T11:43:43.166Z"
   },
   {
    "duration": 15,
    "start_time": "2023-01-16T11:43:52.262Z"
   },
   {
    "duration": 5,
    "start_time": "2023-01-16T11:44:42.349Z"
   },
   {
    "duration": 14,
    "start_time": "2023-01-16T11:44:43.334Z"
   },
   {
    "duration": 21,
    "start_time": "2023-01-16T11:44:56.110Z"
   },
   {
    "duration": 23,
    "start_time": "2023-01-16T11:45:05.165Z"
   },
   {
    "duration": 3,
    "start_time": "2023-01-16T11:48:30.673Z"
   },
   {
    "duration": 5,
    "start_time": "2023-01-16T11:52:57.094Z"
   },
   {
    "duration": 5,
    "start_time": "2023-01-16T11:53:18.270Z"
   },
   {
    "duration": 7,
    "start_time": "2023-01-16T11:55:09.252Z"
   },
   {
    "duration": 33,
    "start_time": "2023-01-16T11:55:15.644Z"
   },
   {
    "duration": 2,
    "start_time": "2023-01-16T12:04:35.101Z"
   },
   {
    "duration": 23,
    "start_time": "2023-01-16T12:09:58.196Z"
   },
   {
    "duration": 12,
    "start_time": "2023-01-16T12:10:59.209Z"
   },
   {
    "duration": 19,
    "start_time": "2023-01-16T12:11:08.439Z"
   },
   {
    "duration": 372,
    "start_time": "2023-01-16T12:11:14.975Z"
   },
   {
    "duration": 13,
    "start_time": "2023-01-16T12:11:28.995Z"
   },
   {
    "duration": 390,
    "start_time": "2023-01-16T12:19:58.815Z"
   },
   {
    "duration": 9,
    "start_time": "2023-01-16T12:22:52.237Z"
   },
   {
    "duration": 8,
    "start_time": "2023-01-16T12:22:59.477Z"
   },
   {
    "duration": 23,
    "start_time": "2023-01-16T12:23:30.012Z"
   },
   {
    "duration": 9,
    "start_time": "2023-01-16T12:31:43.479Z"
   },
   {
    "duration": 388,
    "start_time": "2023-01-16T12:57:11.764Z"
   },
   {
    "duration": 4,
    "start_time": "2023-01-16T13:00:12.513Z"
   },
   {
    "duration": 7,
    "start_time": "2023-01-16T13:00:18.617Z"
   },
   {
    "duration": 10,
    "start_time": "2023-01-16T13:02:41.232Z"
   },
   {
    "duration": 9,
    "start_time": "2023-01-16T13:03:12.455Z"
   },
   {
    "duration": 231274,
    "start_time": "2023-01-16T13:07:55.254Z"
   },
   {
    "duration": 3,
    "start_time": "2023-01-16T13:11:46.530Z"
   },
   {
    "duration": 71,
    "start_time": "2023-01-16T13:11:46.534Z"
   },
   {
    "duration": 3,
    "start_time": "2023-01-16T13:11:57.001Z"
   },
   {
    "duration": 74,
    "start_time": "2023-01-16T13:11:57.576Z"
   },
   {
    "duration": 22,
    "start_time": "2023-01-16T13:12:00.881Z"
   },
   {
    "duration": 15,
    "start_time": "2023-01-16T13:12:01.977Z"
   },
   {
    "duration": 13,
    "start_time": "2023-01-16T13:12:03.856Z"
   },
   {
    "duration": 7,
    "start_time": "2023-01-16T13:12:05.975Z"
   },
   {
    "duration": 10,
    "start_time": "2023-01-16T13:12:11.096Z"
   },
   {
    "duration": 7,
    "start_time": "2023-01-16T13:12:14.449Z"
   },
   {
    "duration": 27,
    "start_time": "2023-01-16T13:25:39.453Z"
   },
   {
    "duration": 13,
    "start_time": "2023-01-16T13:26:18.653Z"
   },
   {
    "duration": 11,
    "start_time": "2023-01-16T13:26:32.325Z"
   },
   {
    "duration": 25,
    "start_time": "2023-01-16T13:26:35.509Z"
   },
   {
    "duration": 9,
    "start_time": "2023-01-16T13:27:09.252Z"
   },
   {
    "duration": 13,
    "start_time": "2023-01-16T13:27:11.835Z"
   },
   {
    "duration": 27,
    "start_time": "2023-01-16T13:27:17.940Z"
   },
   {
    "duration": 2927,
    "start_time": "2023-01-16T13:30:35.818Z"
   },
   {
    "duration": 30,
    "start_time": "2023-01-16T13:30:48.481Z"
   },
   {
    "duration": 35,
    "start_time": "2023-01-16T13:31:27.785Z"
   },
   {
    "duration": 9,
    "start_time": "2023-01-16T13:32:28.775Z"
   },
   {
    "duration": 5,
    "start_time": "2023-01-16T13:32:58.159Z"
   },
   {
    "duration": 5,
    "start_time": "2023-01-16T13:33:07.647Z"
   },
   {
    "duration": 11,
    "start_time": "2023-01-16T13:33:17.926Z"
   },
   {
    "duration": 10,
    "start_time": "2023-01-16T13:33:25.166Z"
   },
   {
    "duration": 11,
    "start_time": "2023-01-16T13:33:34.150Z"
   },
   {
    "duration": 24,
    "start_time": "2023-01-16T13:33:54.134Z"
   },
   {
    "duration": 24,
    "start_time": "2023-01-16T13:34:24.461Z"
   },
   {
    "duration": 3,
    "start_time": "2023-01-16T13:36:25.971Z"
   },
   {
    "duration": 67,
    "start_time": "2023-01-16T13:36:26.411Z"
   },
   {
    "duration": 23,
    "start_time": "2023-01-16T13:36:29.813Z"
   },
   {
    "duration": 16,
    "start_time": "2023-01-16T13:36:31.282Z"
   },
   {
    "duration": 11,
    "start_time": "2023-01-16T13:36:33.371Z"
   },
   {
    "duration": 26,
    "start_time": "2023-01-16T13:36:42.251Z"
   },
   {
    "duration": 17,
    "start_time": "2023-01-16T13:37:37.882Z"
   },
   {
    "duration": 6,
    "start_time": "2023-01-16T13:37:57.394Z"
   },
   {
    "duration": 3,
    "start_time": "2023-01-16T13:38:12.009Z"
   },
   {
    "duration": 67,
    "start_time": "2023-01-16T13:38:12.153Z"
   },
   {
    "duration": 23,
    "start_time": "2023-01-16T13:38:12.497Z"
   },
   {
    "duration": 20,
    "start_time": "2023-01-16T13:38:15.059Z"
   },
   {
    "duration": 11,
    "start_time": "2023-01-16T13:38:15.697Z"
   },
   {
    "duration": 24,
    "start_time": "2023-01-16T13:38:18.594Z"
   },
   {
    "duration": 6,
    "start_time": "2023-01-16T13:38:22.865Z"
   },
   {
    "duration": 13,
    "start_time": "2023-01-16T13:39:01.753Z"
   },
   {
    "duration": 14,
    "start_time": "2023-01-16T13:39:05.840Z"
   },
   {
    "duration": 5,
    "start_time": "2023-01-16T13:39:15.545Z"
   },
   {
    "duration": 14,
    "start_time": "2023-01-16T13:39:16.216Z"
   },
   {
    "duration": 27,
    "start_time": "2023-01-16T13:39:19.913Z"
   },
   {
    "duration": 7,
    "start_time": "2023-01-16T13:39:43.152Z"
   },
   {
    "duration": 17,
    "start_time": "2023-01-16T13:40:07.223Z"
   },
   {
    "duration": 649,
    "start_time": "2023-01-16T13:42:30.998Z"
   },
   {
    "duration": 72,
    "start_time": "2023-01-16T13:42:31.649Z"
   },
   {
    "duration": 20,
    "start_time": "2023-01-16T13:42:31.723Z"
   },
   {
    "duration": 54,
    "start_time": "2023-01-16T13:42:31.745Z"
   },
   {
    "duration": 24,
    "start_time": "2023-01-16T13:42:31.801Z"
   },
   {
    "duration": 41,
    "start_time": "2023-01-16T13:42:31.827Z"
   },
   {
    "duration": 15,
    "start_time": "2023-01-16T13:42:31.870Z"
   },
   {
    "duration": 25,
    "start_time": "2023-01-16T13:42:31.887Z"
   },
   {
    "duration": 26,
    "start_time": "2023-01-16T13:42:31.914Z"
   },
   {
    "duration": 20,
    "start_time": "2023-01-16T13:42:31.942Z"
   },
   {
    "duration": 27,
    "start_time": "2023-01-16T13:42:31.964Z"
   },
   {
    "duration": 15,
    "start_time": "2023-01-16T13:42:31.992Z"
   },
   {
    "duration": 2,
    "start_time": "2023-01-16T13:42:32.009Z"
   },
   {
    "duration": 5,
    "start_time": "2023-01-16T13:42:32.012Z"
   },
   {
    "duration": 3,
    "start_time": "2023-01-16T13:45:09.147Z"
   },
   {
    "duration": 66,
    "start_time": "2023-01-16T13:45:09.308Z"
   },
   {
    "duration": 24,
    "start_time": "2023-01-16T13:45:09.635Z"
   },
   {
    "duration": 14,
    "start_time": "2023-01-16T13:45:10.419Z"
   },
   {
    "duration": 11,
    "start_time": "2023-01-16T13:45:10.834Z"
   },
   {
    "duration": 25,
    "start_time": "2023-01-16T13:45:11.555Z"
   },
   {
    "duration": 3,
    "start_time": "2023-01-16T13:45:14.226Z"
   },
   {
    "duration": 7,
    "start_time": "2023-01-16T13:45:14.730Z"
   },
   {
    "duration": 682,
    "start_time": "2023-01-16T13:45:35.274Z"
   },
   {
    "duration": 77,
    "start_time": "2023-01-16T13:45:35.958Z"
   },
   {
    "duration": 25,
    "start_time": "2023-01-16T13:45:36.037Z"
   },
   {
    "duration": 24,
    "start_time": "2023-01-16T13:45:36.063Z"
   },
   {
    "duration": 19,
    "start_time": "2023-01-16T13:45:36.090Z"
   },
   {
    "duration": 50,
    "start_time": "2023-01-16T13:45:36.111Z"
   },
   {
    "duration": 3,
    "start_time": "2023-01-16T13:45:36.162Z"
   },
   {
    "duration": 7,
    "start_time": "2023-01-16T13:45:36.167Z"
   },
   {
    "duration": 22,
    "start_time": "2023-01-16T13:45:36.176Z"
   },
   {
    "duration": 3,
    "start_time": "2023-01-16T13:45:36.200Z"
   },
   {
    "duration": 87,
    "start_time": "2023-01-16T13:45:36.204Z"
   },
   {
    "duration": 0,
    "start_time": "2023-01-16T13:45:36.293Z"
   },
   {
    "duration": 0,
    "start_time": "2023-01-16T13:45:36.294Z"
   },
   {
    "duration": 7,
    "start_time": "2023-01-16T13:47:30.257Z"
   },
   {
    "duration": 11,
    "start_time": "2023-01-16T13:48:33.912Z"
   },
   {
    "duration": 8,
    "start_time": "2023-01-16T13:48:43.296Z"
   },
   {
    "duration": 9,
    "start_time": "2023-01-16T13:48:55.769Z"
   },
   {
    "duration": 6,
    "start_time": "2023-01-16T13:49:41.399Z"
   },
   {
    "duration": 10,
    "start_time": "2023-01-16T13:49:47.255Z"
   },
   {
    "duration": 10,
    "start_time": "2023-01-16T13:50:17.398Z"
   },
   {
    "duration": 10,
    "start_time": "2023-01-16T13:50:21.606Z"
   },
   {
    "duration": 5,
    "start_time": "2023-01-16T13:50:41.486Z"
   },
   {
    "duration": 15,
    "start_time": "2023-01-16T13:51:24.037Z"
   },
   {
    "duration": 14,
    "start_time": "2023-01-16T13:51:49.085Z"
   },
   {
    "duration": 19,
    "start_time": "2023-01-16T13:52:13.917Z"
   },
   {
    "duration": 17,
    "start_time": "2023-01-16T13:52:35.453Z"
   },
   {
    "duration": 3,
    "start_time": "2023-01-16T13:59:51.486Z"
   },
   {
    "duration": 73,
    "start_time": "2023-01-16T13:59:51.862Z"
   },
   {
    "duration": 31,
    "start_time": "2023-01-16T13:59:55.870Z"
   },
   {
    "duration": 14,
    "start_time": "2023-01-16T13:59:58.246Z"
   },
   {
    "duration": 9,
    "start_time": "2023-01-16T13:59:59.965Z"
   },
   {
    "duration": 23,
    "start_time": "2023-01-16T14:00:02.831Z"
   },
   {
    "duration": 2,
    "start_time": "2023-01-16T14:00:14.630Z"
   },
   {
    "duration": 10,
    "start_time": "2023-01-16T14:00:31.573Z"
   },
   {
    "duration": 10,
    "start_time": "2023-01-16T14:00:34.493Z"
   },
   {
    "duration": 9,
    "start_time": "2023-01-16T14:01:32.501Z"
   },
   {
    "duration": 10,
    "start_time": "2023-01-16T14:01:38.421Z"
   },
   {
    "duration": 6,
    "start_time": "2023-01-16T14:02:07.916Z"
   },
   {
    "duration": 9,
    "start_time": "2023-01-16T14:02:12.644Z"
   },
   {
    "duration": 17,
    "start_time": "2023-01-16T14:02:39.795Z"
   },
   {
    "duration": 13,
    "start_time": "2023-01-16T14:03:03.187Z"
   },
   {
    "duration": 17,
    "start_time": "2023-01-16T14:03:09.339Z"
   },
   {
    "duration": 8,
    "start_time": "2023-01-16T14:03:29.866Z"
   },
   {
    "duration": 17,
    "start_time": "2023-01-16T14:03:43.179Z"
   },
   {
    "duration": 13,
    "start_time": "2023-01-16T14:03:54.722Z"
   },
   {
    "duration": 17,
    "start_time": "2023-01-16T14:04:23.938Z"
   },
   {
    "duration": 8,
    "start_time": "2023-01-16T14:04:37.858Z"
   },
   {
    "duration": 6,
    "start_time": "2023-01-16T14:05:04.193Z"
   },
   {
    "duration": 17,
    "start_time": "2023-01-16T14:05:08.465Z"
   },
   {
    "duration": 8,
    "start_time": "2023-01-16T14:05:14.305Z"
   },
   {
    "duration": 10,
    "start_time": "2023-01-16T14:08:59.157Z"
   },
   {
    "duration": 682,
    "start_time": "2023-01-16T14:13:02.968Z"
   },
   {
    "duration": 78,
    "start_time": "2023-01-16T14:13:03.652Z"
   },
   {
    "duration": 25,
    "start_time": "2023-01-16T14:13:03.732Z"
   },
   {
    "duration": 25,
    "start_time": "2023-01-16T14:13:03.759Z"
   },
   {
    "duration": 9,
    "start_time": "2023-01-16T14:13:03.786Z"
   },
   {
    "duration": 36,
    "start_time": "2023-01-16T14:13:03.796Z"
   },
   {
    "duration": 4,
    "start_time": "2023-01-16T14:13:03.834Z"
   },
   {
    "duration": 32,
    "start_time": "2023-01-16T14:13:03.839Z"
   },
   {
    "duration": 26,
    "start_time": "2023-01-16T14:13:03.873Z"
   },
   {
    "duration": 10,
    "start_time": "2023-01-16T14:13:03.902Z"
   },
   {
    "duration": 18,
    "start_time": "2023-01-16T14:13:03.913Z"
   },
   {
    "duration": 7,
    "start_time": "2023-01-16T14:13:03.932Z"
   },
   {
    "duration": 20,
    "start_time": "2023-01-16T14:13:03.941Z"
   },
   {
    "duration": 9,
    "start_time": "2023-01-16T14:13:03.963Z"
   },
   {
    "duration": 11,
    "start_time": "2023-01-16T14:13:03.973Z"
   },
   {
    "duration": 10,
    "start_time": "2023-01-16T14:13:39.689Z"
   },
   {
    "duration": 5,
    "start_time": "2023-01-16T14:13:54.873Z"
   },
   {
    "duration": 915,
    "start_time": "2023-01-17T06:42:48.630Z"
   },
   {
    "duration": 554,
    "start_time": "2023-01-17T06:43:09.821Z"
   },
   {
    "duration": 116,
    "start_time": "2023-01-17T06:43:10.381Z"
   },
   {
    "duration": 23,
    "start_time": "2023-01-17T06:43:13.141Z"
   },
   {
    "duration": 16,
    "start_time": "2023-01-17T06:43:19.933Z"
   },
   {
    "duration": 10,
    "start_time": "2023-01-17T06:43:29.596Z"
   },
   {
    "duration": 26,
    "start_time": "2023-01-17T06:43:40.007Z"
   },
   {
    "duration": 7,
    "start_time": "2023-01-17T06:44:26.010Z"
   },
   {
    "duration": 8,
    "start_time": "2023-01-17T06:44:33.771Z"
   },
   {
    "duration": 24,
    "start_time": "2023-01-17T06:54:30.108Z"
   },
   {
    "duration": 2,
    "start_time": "2023-01-17T07:01:11.607Z"
   },
   {
    "duration": 69,
    "start_time": "2023-01-17T07:01:11.774Z"
   },
   {
    "duration": 24,
    "start_time": "2023-01-17T07:01:12.150Z"
   },
   {
    "duration": 15,
    "start_time": "2023-01-17T07:01:12.733Z"
   },
   {
    "duration": 10,
    "start_time": "2023-01-17T07:01:13.957Z"
   },
   {
    "duration": 24,
    "start_time": "2023-01-17T07:01:29.158Z"
   },
   {
    "duration": 6,
    "start_time": "2023-01-17T07:01:30.150Z"
   },
   {
    "duration": 8,
    "start_time": "2023-01-17T07:01:33.213Z"
   },
   {
    "duration": 115,
    "start_time": "2023-01-17T07:01:40.230Z"
   },
   {
    "duration": 11,
    "start_time": "2023-01-17T07:01:46.701Z"
   },
   {
    "duration": 21,
    "start_time": "2023-01-17T07:02:30.278Z"
   },
   {
    "duration": 18,
    "start_time": "2023-01-17T07:08:49.111Z"
   },
   {
    "duration": 9,
    "start_time": "2023-01-17T07:08:58.447Z"
   },
   {
    "duration": 10,
    "start_time": "2023-01-17T07:09:00.022Z"
   },
   {
    "duration": 10,
    "start_time": "2023-01-17T07:09:10.902Z"
   },
   {
    "duration": 3,
    "start_time": "2023-01-17T07:13:14.666Z"
   },
   {
    "duration": 67,
    "start_time": "2023-01-17T07:13:14.835Z"
   },
   {
    "duration": 23,
    "start_time": "2023-01-17T07:13:15.172Z"
   },
   {
    "duration": 14,
    "start_time": "2023-01-17T07:13:15.522Z"
   },
   {
    "duration": 10,
    "start_time": "2023-01-17T07:13:15.875Z"
   },
   {
    "duration": 23,
    "start_time": "2023-01-17T07:13:16.755Z"
   },
   {
    "duration": 7,
    "start_time": "2023-01-17T07:13:17.001Z"
   },
   {
    "duration": 9,
    "start_time": "2023-01-17T07:13:17.546Z"
   },
   {
    "duration": 6,
    "start_time": "2023-01-17T07:13:18.843Z"
   },
   {
    "duration": 15,
    "start_time": "2023-01-17T07:13:21.234Z"
   },
   {
    "duration": 22,
    "start_time": "2023-01-17T07:13:29.363Z"
   },
   {
    "duration": 23,
    "start_time": "2023-01-17T07:14:28.722Z"
   },
   {
    "duration": 25,
    "start_time": "2023-01-17T07:17:31.888Z"
   },
   {
    "duration": 293414,
    "start_time": "2023-01-17T07:20:31.596Z"
   },
   {
    "duration": 21,
    "start_time": "2023-01-17T07:29:57.348Z"
   },
   {
    "duration": 18,
    "start_time": "2023-01-17T07:30:31.532Z"
   },
   {
    "duration": 12,
    "start_time": "2023-01-17T07:31:46.699Z"
   },
   {
    "duration": 18,
    "start_time": "2023-01-17T08:33:50.895Z"
   },
   {
    "duration": 11,
    "start_time": "2023-01-17T08:34:10.991Z"
   },
   {
    "duration": 22,
    "start_time": "2023-01-17T08:34:41.855Z"
   },
   {
    "duration": 23,
    "start_time": "2023-01-17T08:35:29.630Z"
   },
   {
    "duration": 23,
    "start_time": "2023-01-17T08:39:08.139Z"
   },
   {
    "duration": 18,
    "start_time": "2023-01-17T08:39:44.250Z"
   },
   {
    "duration": 82,
    "start_time": "2023-01-17T08:40:33.169Z"
   },
   {
    "duration": 75,
    "start_time": "2023-01-17T08:40:56.025Z"
   },
   {
    "duration": 107,
    "start_time": "2023-01-17T08:41:16.496Z"
   },
   {
    "duration": 25,
    "start_time": "2023-01-17T08:41:27.697Z"
   },
   {
    "duration": 1482,
    "start_time": "2023-01-17T10:44:02.030Z"
   },
   {
    "duration": 133,
    "start_time": "2023-01-17T10:44:03.514Z"
   },
   {
    "duration": 22,
    "start_time": "2023-01-17T10:44:13.541Z"
   },
   {
    "duration": 17,
    "start_time": "2023-01-17T10:44:21.570Z"
   },
   {
    "duration": 11,
    "start_time": "2023-01-17T10:44:30.258Z"
   },
   {
    "duration": 28,
    "start_time": "2023-01-17T10:44:40.459Z"
   },
   {
    "duration": 7,
    "start_time": "2023-01-17T10:44:41.617Z"
   },
   {
    "duration": 7,
    "start_time": "2023-01-17T10:44:42.844Z"
   },
   {
    "duration": 5,
    "start_time": "2023-01-17T10:44:51.865Z"
   },
   {
    "duration": 24,
    "start_time": "2023-01-17T10:45:01.855Z"
   },
   {
    "duration": 25,
    "start_time": "2023-01-17T10:45:15.482Z"
   },
   {
    "duration": 93,
    "start_time": "2023-01-17T10:46:10.225Z"
   },
   {
    "duration": 114,
    "start_time": "2023-01-17T10:46:17.345Z"
   },
   {
    "duration": 30,
    "start_time": "2023-01-17T10:47:16.729Z"
   },
   {
    "duration": 19,
    "start_time": "2023-01-17T10:47:30.080Z"
   },
   {
    "duration": 32,
    "start_time": "2023-01-17T10:47:48.248Z"
   },
   {
    "duration": 11,
    "start_time": "2023-01-17T10:48:01.962Z"
   },
   {
    "duration": 1210,
    "start_time": "2023-01-17T10:54:03.886Z"
   },
   {
    "duration": 75,
    "start_time": "2023-01-17T10:54:05.098Z"
   },
   {
    "duration": 28,
    "start_time": "2023-01-17T10:54:05.175Z"
   },
   {
    "duration": 31,
    "start_time": "2023-01-17T10:54:05.206Z"
   },
   {
    "duration": 21,
    "start_time": "2023-01-17T10:54:05.240Z"
   },
   {
    "duration": 63,
    "start_time": "2023-01-17T10:54:05.263Z"
   },
   {
    "duration": 7,
    "start_time": "2023-01-17T10:54:05.328Z"
   },
   {
    "duration": 59,
    "start_time": "2023-01-17T10:54:05.337Z"
   },
   {
    "duration": 60,
    "start_time": "2023-01-17T10:54:05.397Z"
   },
   {
    "duration": 52,
    "start_time": "2023-01-17T10:54:05.458Z"
   },
   {
    "duration": 20,
    "start_time": "2023-01-17T10:54:05.512Z"
   },
   {
    "duration": 135,
    "start_time": "2023-01-17T10:54:05.534Z"
   },
   {
    "duration": 9,
    "start_time": "2023-01-17T11:15:56.386Z"
   },
   {
    "duration": 20,
    "start_time": "2023-01-17T11:16:09.730Z"
   },
   {
    "duration": 43,
    "start_time": "2023-01-17T11:16:18.554Z"
   },
   {
    "duration": 1197,
    "start_time": "2023-01-17T11:18:42.016Z"
   },
   {
    "duration": 11,
    "start_time": "2023-01-17T11:18:58.672Z"
   },
   {
    "duration": 53,
    "start_time": "2023-01-17T11:20:13.041Z"
   },
   {
    "duration": 22,
    "start_time": "2023-01-17T11:23:53.142Z"
   },
   {
    "duration": 50,
    "start_time": "2023-01-17T15:39:32.408Z"
   },
   {
    "duration": 6,
    "start_time": "2023-01-17T15:40:44.203Z"
   },
   {
    "duration": 1322,
    "start_time": "2023-01-17T15:40:53.523Z"
   },
   {
    "duration": 117,
    "start_time": "2023-01-17T15:40:54.847Z"
   },
   {
    "duration": 20,
    "start_time": "2023-01-17T15:40:54.969Z"
   },
   {
    "duration": 22,
    "start_time": "2023-01-17T15:40:54.991Z"
   },
   {
    "duration": 8,
    "start_time": "2023-01-17T15:40:55.015Z"
   },
   {
    "duration": 34,
    "start_time": "2023-01-17T15:40:55.025Z"
   },
   {
    "duration": 6,
    "start_time": "2023-01-17T15:40:55.061Z"
   },
   {
    "duration": 42,
    "start_time": "2023-01-17T15:40:55.068Z"
   },
   {
    "duration": 23,
    "start_time": "2023-01-17T15:40:55.111Z"
   },
   {
    "duration": 21,
    "start_time": "2023-01-17T15:40:55.136Z"
   },
   {
    "duration": 118,
    "start_time": "2023-01-17T15:40:55.159Z"
   },
   {
    "duration": 0,
    "start_time": "2023-01-17T15:40:55.279Z"
   },
   {
    "duration": 0,
    "start_time": "2023-01-17T15:40:55.280Z"
   },
   {
    "duration": 19,
    "start_time": "2023-01-17T15:41:33.999Z"
   },
   {
    "duration": 68,
    "start_time": "2023-01-17T15:42:17.472Z"
   },
   {
    "duration": 69,
    "start_time": "2023-01-17T15:42:24.122Z"
   },
   {
    "duration": 17,
    "start_time": "2023-01-17T15:42:36.729Z"
   },
   {
    "duration": 18,
    "start_time": "2023-01-17T15:43:00.669Z"
   },
   {
    "duration": 22,
    "start_time": "2023-01-17T15:43:20.402Z"
   },
   {
    "duration": 336,
    "start_time": "2023-01-17T15:44:16.744Z"
   },
   {
    "duration": 69,
    "start_time": "2023-01-17T15:45:05.136Z"
   },
   {
    "duration": 323,
    "start_time": "2023-01-17T15:45:18.424Z"
   },
   {
    "duration": 317,
    "start_time": "2023-01-17T15:45:24.232Z"
   },
   {
    "duration": 337,
    "start_time": "2023-01-17T15:46:27.131Z"
   },
   {
    "duration": 397,
    "start_time": "2023-01-17T15:47:04.963Z"
   },
   {
    "duration": 334,
    "start_time": "2023-01-17T15:47:27.589Z"
   },
   {
    "duration": 21,
    "start_time": "2023-01-17T15:53:59.093Z"
   },
   {
    "duration": 48,
    "start_time": "2023-01-17T15:54:10.847Z"
   },
   {
    "duration": 18,
    "start_time": "2023-01-17T15:54:32.462Z"
   },
   {
    "duration": 17,
    "start_time": "2023-01-17T15:54:51.025Z"
   },
   {
    "duration": 18,
    "start_time": "2023-01-17T15:56:25.123Z"
   },
   {
    "duration": 20,
    "start_time": "2023-01-17T15:56:44.470Z"
   },
   {
    "duration": 14,
    "start_time": "2023-01-17T15:56:54.804Z"
   },
   {
    "duration": 23,
    "start_time": "2023-01-17T16:04:30.407Z"
   },
   {
    "duration": 20,
    "start_time": "2023-01-17T16:06:31.096Z"
   },
   {
    "duration": 14,
    "start_time": "2023-01-17T16:06:41.717Z"
   },
   {
    "duration": 503,
    "start_time": "2023-01-17T16:10:03.077Z"
   },
   {
    "duration": 306,
    "start_time": "2023-01-17T16:10:56.073Z"
   },
   {
    "duration": 25,
    "start_time": "2023-01-17T16:11:28.193Z"
   },
   {
    "duration": 13,
    "start_time": "2023-01-17T16:11:45.178Z"
   },
   {
    "duration": 296,
    "start_time": "2023-01-17T16:11:51.816Z"
   },
   {
    "duration": 21,
    "start_time": "2023-01-17T21:00:58.728Z"
   },
   {
    "duration": 25,
    "start_time": "2023-01-17T21:01:19.424Z"
   },
   {
    "duration": 163,
    "start_time": "2023-01-17T21:06:55.866Z"
   },
   {
    "duration": 158,
    "start_time": "2023-01-17T21:07:08.164Z"
   },
   {
    "duration": 166,
    "start_time": "2023-01-17T21:07:16.148Z"
   },
   {
    "duration": 174,
    "start_time": "2023-01-17T21:07:43.350Z"
   },
   {
    "duration": 195,
    "start_time": "2023-01-17T21:10:20.814Z"
   },
   {
    "duration": 196,
    "start_time": "2023-01-17T21:10:30.615Z"
   },
   {
    "duration": 179,
    "start_time": "2023-01-17T21:10:48.292Z"
   },
   {
    "duration": 167,
    "start_time": "2023-01-17T21:10:56.641Z"
   },
   {
    "duration": 175,
    "start_time": "2023-01-17T21:11:07.358Z"
   },
   {
    "duration": 200,
    "start_time": "2023-01-17T21:11:48.085Z"
   },
   {
    "duration": 191,
    "start_time": "2023-01-17T21:15:31.269Z"
   },
   {
    "duration": 189,
    "start_time": "2023-01-17T21:17:39.714Z"
   },
   {
    "duration": 230,
    "start_time": "2023-01-17T21:18:00.278Z"
   },
   {
    "duration": 165,
    "start_time": "2023-01-17T21:18:21.887Z"
   },
   {
    "duration": 180,
    "start_time": "2023-01-17T21:21:17.843Z"
   },
   {
    "duration": 198,
    "start_time": "2023-01-17T21:27:15.731Z"
   },
   {
    "duration": 1649,
    "start_time": "2023-01-18T10:15:57.041Z"
   },
   {
    "duration": 161,
    "start_time": "2023-01-18T10:15:58.693Z"
   },
   {
    "duration": 33,
    "start_time": "2023-01-18T10:15:58.856Z"
   },
   {
    "duration": 23,
    "start_time": "2023-01-18T10:15:58.892Z"
   },
   {
    "duration": 35,
    "start_time": "2023-01-18T10:15:58.917Z"
   },
   {
    "duration": 46,
    "start_time": "2023-01-18T10:15:58.955Z"
   },
   {
    "duration": 7,
    "start_time": "2023-01-18T10:15:59.003Z"
   },
   {
    "duration": 13,
    "start_time": "2023-01-18T10:15:59.013Z"
   },
   {
    "duration": 47,
    "start_time": "2023-01-18T10:15:59.027Z"
   },
   {
    "duration": 34,
    "start_time": "2023-01-18T10:15:59.078Z"
   },
   {
    "duration": 490,
    "start_time": "2023-01-18T10:15:59.114Z"
   },
   {
    "duration": 22,
    "start_time": "2023-01-18T10:15:59.606Z"
   },
   {
    "duration": 478,
    "start_time": "2023-01-18T10:15:59.630Z"
   },
   {
    "duration": 227,
    "start_time": "2023-01-18T10:16:00.110Z"
   },
   {
    "duration": 259,
    "start_time": "2023-01-18T10:16:00.339Z"
   },
   {
    "duration": 243,
    "start_time": "2023-01-18T10:16:00.600Z"
   },
   {
    "duration": 130,
    "start_time": "2023-01-18T10:24:10.089Z"
   },
   {
    "duration": 163,
    "start_time": "2023-01-18T10:24:16.869Z"
   },
   {
    "duration": 251,
    "start_time": "2023-01-18T10:24:28.966Z"
   },
   {
    "duration": 228,
    "start_time": "2023-01-18T10:24:39.576Z"
   },
   {
    "duration": 10,
    "start_time": "2023-01-18T10:29:06.397Z"
   },
   {
    "duration": 1292,
    "start_time": "2023-01-18T10:29:13.729Z"
   },
   {
    "duration": 439,
    "start_time": "2023-01-18T10:29:49.366Z"
   },
   {
    "duration": 399,
    "start_time": "2023-01-18T10:35:20.734Z"
   },
   {
    "duration": 462,
    "start_time": "2023-01-18T10:35:28.980Z"
   },
   {
    "duration": 542,
    "start_time": "2023-01-18T10:35:37.801Z"
   },
   {
    "duration": 578,
    "start_time": "2023-01-18T10:35:56.073Z"
   },
   {
    "duration": 449,
    "start_time": "2023-01-18T10:36:33.183Z"
   },
   {
    "duration": 691,
    "start_time": "2023-01-18T10:43:12.371Z"
   },
   {
    "duration": 600,
    "start_time": "2023-01-18T10:44:03.217Z"
   },
   {
    "duration": 652,
    "start_time": "2023-01-18T10:44:29.987Z"
   },
   {
    "duration": 24,
    "start_time": "2023-01-18T10:44:42.436Z"
   },
   {
    "duration": 74,
    "start_time": "2023-01-18T10:44:56.368Z"
   },
   {
    "duration": 68,
    "start_time": "2023-01-18T10:45:07.298Z"
   },
   {
    "duration": 81,
    "start_time": "2023-01-18T10:45:21.940Z"
   },
   {
    "duration": 76,
    "start_time": "2023-01-18T10:45:28.432Z"
   },
   {
    "duration": 118,
    "start_time": "2023-01-18T10:45:48.775Z"
   },
   {
    "duration": 1422,
    "start_time": "2023-01-18T10:46:02.332Z"
   },
   {
    "duration": 1370,
    "start_time": "2023-01-18T10:46:58.638Z"
   },
   {
    "duration": 1330,
    "start_time": "2023-01-18T10:47:14.944Z"
   },
   {
    "duration": 1255,
    "start_time": "2023-01-18T10:47:26.287Z"
   },
   {
    "duration": 1172,
    "start_time": "2023-01-18T10:47:34.875Z"
   },
   {
    "duration": 110,
    "start_time": "2023-01-18T10:55:25.380Z"
   },
   {
    "duration": 462,
    "start_time": "2023-01-18T10:55:39.414Z"
   },
   {
    "duration": 80,
    "start_time": "2023-01-18T10:55:57.920Z"
   },
   {
    "duration": 427,
    "start_time": "2023-01-18T10:56:03.403Z"
   },
   {
    "duration": 299,
    "start_time": "2023-01-18T10:56:12.823Z"
   },
   {
    "duration": 513,
    "start_time": "2023-01-18T10:56:22.708Z"
   },
   {
    "duration": 1808,
    "start_time": "2023-01-18T10:59:24.477Z"
   },
   {
    "duration": 311,
    "start_time": "2023-01-18T10:59:59.612Z"
   },
   {
    "duration": 247,
    "start_time": "2023-01-18T11:00:17.929Z"
   },
   {
    "duration": 246,
    "start_time": "2023-01-18T11:00:27.138Z"
   },
   {
    "duration": 240,
    "start_time": "2023-01-18T11:00:54.643Z"
   },
   {
    "duration": 72,
    "start_time": "2023-01-18T11:01:12.536Z"
   },
   {
    "duration": 238,
    "start_time": "2023-01-18T11:01:22.316Z"
   },
   {
    "duration": 286,
    "start_time": "2023-01-18T11:03:54.411Z"
   },
   {
    "duration": 254,
    "start_time": "2023-01-18T11:04:14.389Z"
   },
   {
    "duration": 241,
    "start_time": "2023-01-18T11:05:24.390Z"
   },
   {
    "duration": 277,
    "start_time": "2023-01-18T11:10:09.485Z"
   },
   {
    "duration": 413,
    "start_time": "2023-01-18T11:12:03.495Z"
   },
   {
    "duration": 366,
    "start_time": "2023-01-18T11:12:16.369Z"
   },
   {
    "duration": 437,
    "start_time": "2023-01-18T11:13:20.577Z"
   },
   {
    "duration": 439,
    "start_time": "2023-01-18T11:14:04.814Z"
   },
   {
    "duration": 438,
    "start_time": "2023-01-18T11:15:25.397Z"
   },
   {
    "duration": 560,
    "start_time": "2023-01-18T11:16:24.898Z"
   },
   {
    "duration": 443,
    "start_time": "2023-01-18T11:16:36.900Z"
   },
   {
    "duration": 561,
    "start_time": "2023-01-18T11:16:46.493Z"
   },
   {
    "duration": 546,
    "start_time": "2023-01-18T11:16:55.829Z"
   },
   {
    "duration": 187,
    "start_time": "2023-01-18T11:21:09.414Z"
   },
   {
    "duration": 184,
    "start_time": "2023-01-18T11:21:22.723Z"
   },
   {
    "duration": 465,
    "start_time": "2023-01-18T11:21:37.474Z"
   },
   {
    "duration": 524,
    "start_time": "2023-01-18T12:02:34.898Z"
   },
   {
    "duration": 455,
    "start_time": "2023-01-18T12:03:10.702Z"
   },
   {
    "duration": 523,
    "start_time": "2023-01-18T12:03:25.610Z"
   },
   {
    "duration": 57,
    "start_time": "2023-01-18T12:19:43.516Z"
   },
   {
    "duration": 525,
    "start_time": "2023-01-18T12:20:15.126Z"
   },
   {
    "duration": 194,
    "start_time": "2023-01-18T12:20:41.980Z"
   },
   {
    "duration": 19,
    "start_time": "2023-01-18T12:22:14.147Z"
   },
   {
    "duration": 13,
    "start_time": "2023-01-18T12:23:03.693Z"
   },
   {
    "duration": 325,
    "start_time": "2023-01-18T12:23:09.780Z"
   },
   {
    "duration": 24,
    "start_time": "2023-01-18T12:23:23.580Z"
   },
   {
    "duration": 36,
    "start_time": "2023-01-18T12:23:47.640Z"
   },
   {
    "duration": 1398,
    "start_time": "2023-01-18T12:24:11.019Z"
   },
   {
    "duration": 81,
    "start_time": "2023-01-18T12:24:12.419Z"
   },
   {
    "duration": 27,
    "start_time": "2023-01-18T12:24:12.501Z"
   },
   {
    "duration": 42,
    "start_time": "2023-01-18T12:24:12.531Z"
   },
   {
    "duration": 27,
    "start_time": "2023-01-18T12:24:12.575Z"
   },
   {
    "duration": 43,
    "start_time": "2023-01-18T12:24:12.604Z"
   },
   {
    "duration": 8,
    "start_time": "2023-01-18T12:24:12.649Z"
   },
   {
    "duration": 24,
    "start_time": "2023-01-18T12:24:12.659Z"
   },
   {
    "duration": 49,
    "start_time": "2023-01-18T12:24:12.685Z"
   },
   {
    "duration": 26,
    "start_time": "2023-01-18T12:24:12.737Z"
   },
   {
    "duration": 421,
    "start_time": "2023-01-18T12:24:12.764Z"
   },
   {
    "duration": 16,
    "start_time": "2023-01-18T12:24:13.187Z"
   },
   {
    "duration": 357,
    "start_time": "2023-01-18T12:24:13.204Z"
   },
   {
    "duration": 193,
    "start_time": "2023-01-18T12:24:13.563Z"
   },
   {
    "duration": 198,
    "start_time": "2023-01-18T12:24:13.758Z"
   },
   {
    "duration": 215,
    "start_time": "2023-01-18T12:24:13.958Z"
   },
   {
    "duration": 268,
    "start_time": "2023-01-18T12:24:14.175Z"
   },
   {
    "duration": 0,
    "start_time": "2023-01-18T12:24:14.446Z"
   },
   {
    "duration": 541,
    "start_time": "2023-01-18T12:24:42.694Z"
   },
   {
    "duration": 24,
    "start_time": "2023-01-18T12:24:47.261Z"
   },
   {
    "duration": 31,
    "start_time": "2023-01-18T12:25:17.112Z"
   },
   {
    "duration": 14,
    "start_time": "2023-01-18T12:25:30.141Z"
   },
   {
    "duration": 17,
    "start_time": "2023-01-18T12:25:50.935Z"
   },
   {
    "duration": 14,
    "start_time": "2023-01-18T12:27:23.959Z"
   },
   {
    "duration": 14,
    "start_time": "2023-01-18T12:27:50.523Z"
   },
   {
    "duration": 44,
    "start_time": "2023-01-18T12:28:49.620Z"
   },
   {
    "duration": 36,
    "start_time": "2023-01-18T12:29:30.566Z"
   },
   {
    "duration": 33,
    "start_time": "2023-01-18T12:29:37.454Z"
   },
   {
    "duration": 35,
    "start_time": "2023-01-18T12:32:43.596Z"
   },
   {
    "duration": 1250,
    "start_time": "2023-01-18T12:33:27.542Z"
   },
   {
    "duration": 76,
    "start_time": "2023-01-18T12:33:28.794Z"
   },
   {
    "duration": 23,
    "start_time": "2023-01-18T12:33:28.872Z"
   },
   {
    "duration": 17,
    "start_time": "2023-01-18T12:33:28.897Z"
   },
   {
    "duration": 10,
    "start_time": "2023-01-18T12:33:28.916Z"
   },
   {
    "duration": 27,
    "start_time": "2023-01-18T12:33:28.951Z"
   },
   {
    "duration": 8,
    "start_time": "2023-01-18T12:33:28.980Z"
   },
   {
    "duration": 11,
    "start_time": "2023-01-18T12:33:28.989Z"
   },
   {
    "duration": 49,
    "start_time": "2023-01-18T12:33:29.002Z"
   },
   {
    "duration": 25,
    "start_time": "2023-01-18T12:33:29.054Z"
   },
   {
    "duration": 418,
    "start_time": "2023-01-18T12:33:29.081Z"
   },
   {
    "duration": 15,
    "start_time": "2023-01-18T12:33:29.501Z"
   },
   {
    "duration": 408,
    "start_time": "2023-01-18T12:33:29.518Z"
   },
   {
    "duration": 191,
    "start_time": "2023-01-18T12:33:29.928Z"
   },
   {
    "duration": 208,
    "start_time": "2023-01-18T12:33:30.121Z"
   },
   {
    "duration": 206,
    "start_time": "2023-01-18T12:33:30.331Z"
   },
   {
    "duration": 499,
    "start_time": "2023-01-18T12:33:30.539Z"
   },
   {
    "duration": 140,
    "start_time": "2023-01-18T12:33:31.040Z"
   },
   {
    "duration": 102,
    "start_time": "2023-01-18T12:35:42.035Z"
   },
   {
    "duration": 25,
    "start_time": "2023-01-18T12:36:55.380Z"
   },
   {
    "duration": 22,
    "start_time": "2023-01-18T12:37:33.724Z"
   },
   {
    "duration": 69,
    "start_time": "2023-01-18T12:38:47.858Z"
   },
   {
    "duration": 72,
    "start_time": "2023-01-18T12:38:52.925Z"
   },
   {
    "duration": 92,
    "start_time": "2023-01-18T12:38:58.341Z"
   },
   {
    "duration": 507,
    "start_time": "2023-01-18T12:39:43.326Z"
   },
   {
    "duration": 90,
    "start_time": "2023-01-18T12:40:01.652Z"
   },
   {
    "duration": 78,
    "start_time": "2023-01-18T12:40:44.688Z"
   },
   {
    "duration": 74,
    "start_time": "2023-01-18T12:40:50.617Z"
   },
   {
    "duration": 78,
    "start_time": "2023-01-18T12:41:01.279Z"
   },
   {
    "duration": 79,
    "start_time": "2023-01-18T12:41:19.055Z"
   },
   {
    "duration": 93,
    "start_time": "2023-01-18T12:41:36.234Z"
   },
   {
    "duration": 73,
    "start_time": "2023-01-18T12:41:46.148Z"
   },
   {
    "duration": 73,
    "start_time": "2023-01-18T12:41:58.962Z"
   },
   {
    "duration": 75,
    "start_time": "2023-01-18T12:42:12.949Z"
   },
   {
    "duration": 82,
    "start_time": "2023-01-18T12:44:27.771Z"
   },
   {
    "duration": 76,
    "start_time": "2023-01-18T12:44:48.832Z"
   },
   {
    "duration": 507,
    "start_time": "2023-01-18T12:45:10.320Z"
   },
   {
    "duration": 11,
    "start_time": "2023-01-18T12:46:01.999Z"
   },
   {
    "duration": 1147,
    "start_time": "2023-01-18T12:46:25.327Z"
   },
   {
    "duration": 23,
    "start_time": "2023-01-18T12:46:56.609Z"
   },
   {
    "duration": 469,
    "start_time": "2023-01-18T12:54:59.762Z"
   },
   {
    "duration": 108,
    "start_time": "2023-01-18T12:56:07.820Z"
   },
   {
    "duration": 327,
    "start_time": "2023-01-18T12:56:12.894Z"
   },
   {
    "duration": 299,
    "start_time": "2023-01-18T12:56:46.427Z"
   },
   {
    "duration": 418,
    "start_time": "2023-01-18T12:57:01.126Z"
   },
   {
    "duration": 397,
    "start_time": "2023-01-18T13:00:46.938Z"
   },
   {
    "duration": 407,
    "start_time": "2023-01-18T13:01:44.626Z"
   },
   {
    "duration": 362,
    "start_time": "2023-01-18T13:01:51.563Z"
   },
   {
    "duration": 784,
    "start_time": "2023-01-18T13:02:02.718Z"
   },
   {
    "duration": 364,
    "start_time": "2023-01-18T13:02:20.454Z"
   },
   {
    "duration": 422,
    "start_time": "2023-01-18T13:02:37.889Z"
   },
   {
    "duration": 373,
    "start_time": "2023-01-18T13:02:44.185Z"
   },
   {
    "duration": 361,
    "start_time": "2023-01-18T13:03:02.381Z"
   },
   {
    "duration": 366,
    "start_time": "2023-01-18T13:03:12.561Z"
   },
   {
    "duration": 414,
    "start_time": "2023-01-18T13:12:39.834Z"
   },
   {
    "duration": 378,
    "start_time": "2023-01-18T13:14:26.093Z"
   },
   {
    "duration": 404,
    "start_time": "2023-01-18T13:14:35.315Z"
   },
   {
    "duration": 442,
    "start_time": "2023-01-18T13:19:09.338Z"
   },
   {
    "duration": 390,
    "start_time": "2023-01-18T13:19:22.287Z"
   },
   {
    "duration": 14,
    "start_time": "2023-01-18T13:24:42.338Z"
   },
   {
    "duration": 153,
    "start_time": "2023-01-18T13:25:02.262Z"
   },
   {
    "duration": 149,
    "start_time": "2023-01-18T13:25:07.594Z"
   },
   {
    "duration": 11,
    "start_time": "2023-01-18T13:26:59.564Z"
   },
   {
    "duration": 144,
    "start_time": "2023-01-18T13:27:54.342Z"
   },
   {
    "duration": 43,
    "start_time": "2023-01-18T13:31:59.785Z"
   },
   {
    "duration": 19,
    "start_time": "2023-01-18T13:32:11.682Z"
   },
   {
    "duration": 27,
    "start_time": "2023-01-18T13:32:17.640Z"
   },
   {
    "duration": 25,
    "start_time": "2023-01-18T13:32:56.741Z"
   },
   {
    "duration": 32,
    "start_time": "2023-01-18T13:34:48.581Z"
   },
   {
    "duration": 34,
    "start_time": "2023-01-18T13:35:44.922Z"
   },
   {
    "duration": 31,
    "start_time": "2023-01-18T13:36:08.761Z"
   },
   {
    "duration": 8,
    "start_time": "2023-01-18T13:36:18.558Z"
   },
   {
    "duration": 164,
    "start_time": "2023-01-18T13:36:26.151Z"
   },
   {
    "duration": 141,
    "start_time": "2023-01-18T13:36:44.775Z"
   },
   {
    "duration": 167,
    "start_time": "2023-01-18T13:38:27.450Z"
   },
   {
    "duration": 145,
    "start_time": "2023-01-18T13:38:40.066Z"
   },
   {
    "duration": 168,
    "start_time": "2023-01-18T13:38:50.342Z"
   },
   {
    "duration": 143,
    "start_time": "2023-01-18T13:39:03.432Z"
   },
   {
    "duration": 11,
    "start_time": "2023-01-18T13:40:57.389Z"
   },
   {
    "duration": 10,
    "start_time": "2023-01-18T13:41:13.391Z"
   },
   {
    "duration": 11,
    "start_time": "2023-01-18T13:41:34.046Z"
   },
   {
    "duration": 15,
    "start_time": "2023-01-18T13:41:55.801Z"
   },
   {
    "duration": 10,
    "start_time": "2023-01-18T13:42:28.534Z"
   },
   {
    "duration": 262,
    "start_time": "2023-01-18T13:42:52.456Z"
   },
   {
    "duration": 13,
    "start_time": "2023-01-18T13:43:36.617Z"
   },
   {
    "duration": 7,
    "start_time": "2023-01-18T13:43:49.685Z"
   },
   {
    "duration": 169,
    "start_time": "2023-01-18T14:12:29.832Z"
   },
   {
    "duration": 139,
    "start_time": "2023-01-18T14:12:52.420Z"
   },
   {
    "duration": 15,
    "start_time": "2023-01-18T14:13:18.781Z"
   },
   {
    "duration": 6,
    "start_time": "2023-01-18T14:14:40.850Z"
   },
   {
    "duration": 5,
    "start_time": "2023-01-18T14:15:06.216Z"
   },
   {
    "duration": 89,
    "start_time": "2023-01-18T14:20:38.708Z"
   },
   {
    "duration": 265,
    "start_time": "2023-01-18T14:20:46.813Z"
   },
   {
    "duration": 316,
    "start_time": "2023-01-18T14:20:50.433Z"
   },
   {
    "duration": 276,
    "start_time": "2023-01-18T14:20:56.830Z"
   },
   {
    "duration": 300,
    "start_time": "2023-01-18T14:23:23.504Z"
   },
   {
    "duration": 31,
    "start_time": "2023-01-18T14:52:57.446Z"
   },
   {
    "duration": 25,
    "start_time": "2023-01-18T14:53:20.353Z"
   },
   {
    "duration": 60,
    "start_time": "2023-01-18T14:54:52.579Z"
   },
   {
    "duration": 108,
    "start_time": "2023-01-18T14:55:46.922Z"
   },
   {
    "duration": 33,
    "start_time": "2023-01-18T14:56:05.378Z"
   },
   {
    "duration": 6100,
    "start_time": "2023-01-18T14:56:19.306Z"
   },
   {
    "duration": 51,
    "start_time": "2023-01-18T14:58:22.436Z"
   },
   {
    "duration": 31,
    "start_time": "2023-01-18T14:58:38.925Z"
   },
   {
    "duration": 28,
    "start_time": "2023-01-18T14:58:47.009Z"
   },
   {
    "duration": 18,
    "start_time": "2023-01-18T14:59:09.123Z"
   },
   {
    "duration": 15,
    "start_time": "2023-01-18T14:59:23.764Z"
   },
   {
    "duration": 228,
    "start_time": "2023-01-18T14:59:55.360Z"
   },
   {
    "duration": 103,
    "start_time": "2023-01-18T15:01:04.565Z"
   },
   {
    "duration": 247,
    "start_time": "2023-01-18T15:01:12.380Z"
   },
   {
    "duration": 199,
    "start_time": "2023-01-18T15:01:34.147Z"
   },
   {
    "duration": 254,
    "start_time": "2023-01-18T15:02:35.510Z"
   },
   {
    "duration": 215,
    "start_time": "2023-01-18T15:04:11.230Z"
   },
   {
    "duration": 1305,
    "start_time": "2023-01-18T19:12:20.867Z"
   },
   {
    "duration": 115,
    "start_time": "2023-01-18T19:12:22.174Z"
   },
   {
    "duration": 21,
    "start_time": "2023-01-18T19:12:22.291Z"
   },
   {
    "duration": 15,
    "start_time": "2023-01-18T19:12:22.314Z"
   },
   {
    "duration": 9,
    "start_time": "2023-01-18T19:12:22.331Z"
   },
   {
    "duration": 36,
    "start_time": "2023-01-18T19:12:22.341Z"
   },
   {
    "duration": 6,
    "start_time": "2023-01-18T19:12:22.379Z"
   },
   {
    "duration": 15,
    "start_time": "2023-01-18T19:12:22.387Z"
   },
   {
    "duration": 34,
    "start_time": "2023-01-18T19:12:22.403Z"
   },
   {
    "duration": 24,
    "start_time": "2023-01-18T19:12:22.439Z"
   },
   {
    "duration": 393,
    "start_time": "2023-01-18T19:12:22.464Z"
   },
   {
    "duration": 13,
    "start_time": "2023-01-18T19:12:22.858Z"
   },
   {
    "duration": 308,
    "start_time": "2023-01-18T19:12:22.873Z"
   },
   {
    "duration": 179,
    "start_time": "2023-01-18T19:12:23.183Z"
   },
   {
    "duration": 187,
    "start_time": "2023-01-18T19:12:23.364Z"
   },
   {
    "duration": 191,
    "start_time": "2023-01-18T19:12:23.552Z"
   },
   {
    "duration": 370,
    "start_time": "2023-01-18T19:12:23.744Z"
   },
   {
    "duration": 219,
    "start_time": "2023-01-18T19:12:24.115Z"
   },
   {
    "duration": 5,
    "start_time": "2023-01-18T19:12:24.335Z"
   },
   {
    "duration": 136,
    "start_time": "2023-01-18T19:12:24.342Z"
   },
   {
    "duration": 5,
    "start_time": "2023-01-18T19:12:24.479Z"
   },
   {
    "duration": 231,
    "start_time": "2023-01-18T19:12:24.486Z"
   },
   {
    "duration": 167,
    "start_time": "2023-01-18T19:12:24.718Z"
   },
   {
    "duration": 185,
    "start_time": "2023-01-18T19:12:24.886Z"
   },
   {
    "duration": 179,
    "start_time": "2023-01-18T19:12:25.073Z"
   },
   {
    "duration": 113,
    "start_time": "2023-01-18T21:14:24.347Z"
   },
   {
    "duration": 159,
    "start_time": "2023-01-18T21:14:32.015Z"
   },
   {
    "duration": 175,
    "start_time": "2023-01-18T21:15:06.900Z"
   },
   {
    "duration": 27,
    "start_time": "2023-01-18T21:16:36.192Z"
   },
   {
    "duration": 27,
    "start_time": "2023-01-18T21:16:59.022Z"
   },
   {
    "duration": 13,
    "start_time": "2023-01-18T21:19:20.810Z"
   },
   {
    "duration": 12,
    "start_time": "2023-01-18T21:19:27.661Z"
   },
   {
    "duration": 14,
    "start_time": "2023-01-18T21:19:59.904Z"
   },
   {
    "duration": 19,
    "start_time": "2023-01-18T21:20:17.879Z"
   },
   {
    "duration": 13,
    "start_time": "2023-01-18T21:20:23.579Z"
   },
   {
    "duration": 14,
    "start_time": "2023-01-18T21:20:51.772Z"
   },
   {
    "duration": 13,
    "start_time": "2023-01-18T21:21:12.154Z"
   },
   {
    "duration": 15,
    "start_time": "2023-01-18T21:21:27.584Z"
   },
   {
    "duration": 13,
    "start_time": "2023-01-18T21:21:33.930Z"
   },
   {
    "duration": 13,
    "start_time": "2023-01-18T21:21:46.767Z"
   },
   {
    "duration": 24,
    "start_time": "2023-01-18T21:21:59.467Z"
   },
   {
    "duration": 13,
    "start_time": "2023-01-18T21:22:04.878Z"
   },
   {
    "duration": 18,
    "start_time": "2023-01-18T21:28:43.957Z"
   },
   {
    "duration": 23,
    "start_time": "2023-01-18T21:28:46.021Z"
   },
   {
    "duration": 166,
    "start_time": "2023-01-18T21:29:03.208Z"
   },
   {
    "duration": 172,
    "start_time": "2023-01-18T21:33:18.943Z"
   },
   {
    "duration": 151,
    "start_time": "2023-01-18T21:36:54.354Z"
   },
   {
    "duration": 156,
    "start_time": "2023-01-18T21:37:09.612Z"
   },
   {
    "duration": 79,
    "start_time": "2023-01-18T21:38:10.439Z"
   },
   {
    "duration": 177,
    "start_time": "2023-01-18T21:41:26.496Z"
   },
   {
    "duration": 168,
    "start_time": "2023-01-18T21:41:38.708Z"
   },
   {
    "duration": 159,
    "start_time": "2023-01-18T21:44:10.658Z"
   },
   {
    "duration": 158,
    "start_time": "2023-01-18T21:45:03.829Z"
   },
   {
    "duration": 64,
    "start_time": "2023-01-18T21:47:23.221Z"
   },
   {
    "duration": 165,
    "start_time": "2023-01-18T21:49:12.453Z"
   },
   {
    "duration": 149,
    "start_time": "2023-01-18T21:50:42.541Z"
   },
   {
    "duration": 1079,
    "start_time": "2023-01-18T21:57:11.026Z"
   },
   {
    "duration": 245,
    "start_time": "2023-01-18T21:57:18.842Z"
   },
   {
    "duration": 268,
    "start_time": "2023-01-18T21:57:32.932Z"
   },
   {
    "duration": 1298,
    "start_time": "2023-01-19T09:22:23.911Z"
   },
   {
    "duration": 238,
    "start_time": "2023-01-19T09:22:25.210Z"
   },
   {
    "duration": 19,
    "start_time": "2023-01-19T09:22:25.452Z"
   },
   {
    "duration": 17,
    "start_time": "2023-01-19T09:22:25.473Z"
   },
   {
    "duration": 15,
    "start_time": "2023-01-19T09:22:25.491Z"
   },
   {
    "duration": 23,
    "start_time": "2023-01-19T09:22:25.507Z"
   },
   {
    "duration": 27,
    "start_time": "2023-01-19T09:22:25.533Z"
   },
   {
    "duration": 39,
    "start_time": "2023-01-19T09:22:25.562Z"
   },
   {
    "duration": 31,
    "start_time": "2023-01-19T09:22:25.602Z"
   },
   {
    "duration": 26,
    "start_time": "2023-01-19T09:22:25.635Z"
   },
   {
    "duration": 394,
    "start_time": "2023-01-19T09:22:25.662Z"
   },
   {
    "duration": 20,
    "start_time": "2023-01-19T09:22:26.060Z"
   },
   {
    "duration": 333,
    "start_time": "2023-01-19T09:22:26.082Z"
   },
   {
    "duration": 173,
    "start_time": "2023-01-19T09:22:26.417Z"
   },
   {
    "duration": 189,
    "start_time": "2023-01-19T09:22:26.592Z"
   },
   {
    "duration": 189,
    "start_time": "2023-01-19T09:22:26.783Z"
   },
   {
    "duration": 428,
    "start_time": "2023-01-19T09:22:26.974Z"
   },
   {
    "duration": 218,
    "start_time": "2023-01-19T09:22:27.404Z"
   },
   {
    "duration": 6,
    "start_time": "2023-01-19T09:22:27.624Z"
   },
   {
    "duration": 151,
    "start_time": "2023-01-19T09:22:27.631Z"
   },
   {
    "duration": 6,
    "start_time": "2023-01-19T09:22:27.784Z"
   },
   {
    "duration": 244,
    "start_time": "2023-01-19T09:22:27.793Z"
   },
   {
    "duration": 161,
    "start_time": "2023-01-19T09:22:28.038Z"
   },
   {
    "duration": 177,
    "start_time": "2023-01-19T09:22:28.201Z"
   },
   {
    "duration": 173,
    "start_time": "2023-01-19T09:22:28.380Z"
   },
   {
    "duration": 161,
    "start_time": "2023-01-19T09:22:28.559Z"
   },
   {
    "duration": 180,
    "start_time": "2023-01-19T09:22:28.722Z"
   },
   {
    "duration": 176,
    "start_time": "2023-01-19T09:22:28.905Z"
   },
   {
    "duration": 176,
    "start_time": "2023-01-19T09:22:29.083Z"
   },
   {
    "duration": 172,
    "start_time": "2023-01-19T09:22:29.262Z"
   },
   {
    "duration": 262,
    "start_time": "2023-01-19T09:22:29.436Z"
   },
   {
    "duration": 355,
    "start_time": "2023-01-19T09:22:38.836Z"
   },
   {
    "duration": 372,
    "start_time": "2023-01-19T09:22:45.239Z"
   },
   {
    "duration": 380,
    "start_time": "2023-01-19T09:22:51.982Z"
   },
   {
    "duration": 346,
    "start_time": "2023-01-19T09:22:56.866Z"
   },
   {
    "duration": 359,
    "start_time": "2023-01-19T09:23:01.122Z"
   },
   {
    "duration": 4,
    "start_time": "2023-01-19T09:24:05.671Z"
   },
   {
    "duration": 962,
    "start_time": "2023-01-19T09:24:54.868Z"
   },
   {
    "duration": 12,
    "start_time": "2023-01-19T09:25:06.496Z"
   },
   {
    "duration": 827,
    "start_time": "2023-01-19T09:25:15.274Z"
   },
   {
    "duration": 56,
    "start_time": "2023-01-19T09:25:55.721Z"
   },
   {
    "duration": 1709,
    "start_time": "2023-01-19T09:26:13.161Z"
   },
   {
    "duration": 234,
    "start_time": "2023-01-19T09:27:02.374Z"
   },
   {
    "duration": 14,
    "start_time": "2023-01-19T09:27:40.940Z"
   },
   {
    "duration": 261,
    "start_time": "2023-01-19T09:28:23.702Z"
   },
   {
    "duration": 13,
    "start_time": "2023-01-19T09:28:39.952Z"
   },
   {
    "duration": 45,
    "start_time": "2023-01-19T09:30:01.798Z"
   },
   {
    "duration": 148,
    "start_time": "2023-01-19T09:30:17.418Z"
   },
   {
    "duration": 897,
    "start_time": "2023-01-19T09:31:16.973Z"
   },
   {
    "duration": 34,
    "start_time": "2023-01-19T09:31:27.698Z"
   },
   {
    "duration": 43,
    "start_time": "2023-01-19T09:32:45.688Z"
   },
   {
    "duration": 61,
    "start_time": "2023-01-19T09:33:00.237Z"
   },
   {
    "duration": 52,
    "start_time": "2023-01-19T09:33:12.238Z"
   },
   {
    "duration": 11,
    "start_time": "2023-01-19T09:34:41.210Z"
   },
   {
    "duration": 11,
    "start_time": "2023-01-19T09:35:22.959Z"
   },
   {
    "duration": 17,
    "start_time": "2023-01-19T09:36:03.536Z"
   },
   {
    "duration": 16,
    "start_time": "2023-01-19T09:38:03.932Z"
   },
   {
    "duration": 12,
    "start_time": "2023-01-19T09:38:29.189Z"
   },
   {
    "duration": 62,
    "start_time": "2023-01-19T09:40:30.937Z"
   },
   {
    "duration": 43,
    "start_time": "2023-01-19T09:40:47.760Z"
   },
   {
    "duration": 94,
    "start_time": "2023-01-19T09:41:17.191Z"
   },
   {
    "duration": 64,
    "start_time": "2023-01-19T09:41:22.000Z"
   },
   {
    "duration": 78,
    "start_time": "2023-01-19T09:41:43.777Z"
   },
   {
    "duration": 66,
    "start_time": "2023-01-19T09:41:48.938Z"
   },
   {
    "duration": 60,
    "start_time": "2023-01-19T09:42:06.007Z"
   },
   {
    "duration": 14,
    "start_time": "2023-01-19T09:42:52.779Z"
   },
   {
    "duration": 12,
    "start_time": "2023-01-19T09:43:02.390Z"
   },
   {
    "duration": 15,
    "start_time": "2023-01-19T09:43:27.887Z"
   },
   {
    "duration": 56,
    "start_time": "2023-01-19T09:43:56.970Z"
   },
   {
    "duration": 23,
    "start_time": "2023-01-19T10:13:24.691Z"
   },
   {
    "duration": 39,
    "start_time": "2023-01-19T10:13:55.536Z"
   },
   {
    "duration": 24,
    "start_time": "2023-01-19T10:14:22.277Z"
   },
   {
    "duration": 20,
    "start_time": "2023-01-19T10:14:31.505Z"
   },
   {
    "duration": 22,
    "start_time": "2023-01-19T10:16:20.311Z"
   },
   {
    "duration": 29,
    "start_time": "2023-01-19T10:16:31.671Z"
   },
   {
    "duration": 23,
    "start_time": "2023-01-19T10:17:28.675Z"
   },
   {
    "duration": 33,
    "start_time": "2023-01-19T10:18:32.327Z"
   },
   {
    "duration": 17,
    "start_time": "2023-01-19T10:18:58.681Z"
   },
   {
    "duration": 18,
    "start_time": "2023-01-19T10:22:29.468Z"
   },
   {
    "duration": 18,
    "start_time": "2023-01-19T10:22:46.430Z"
   },
   {
    "duration": 19,
    "start_time": "2023-01-19T10:22:48.658Z"
   },
   {
    "duration": 1242,
    "start_time": "2023-01-19T12:46:03.978Z"
   },
   {
    "duration": 115,
    "start_time": "2023-01-19T12:46:05.222Z"
   },
   {
    "duration": 19,
    "start_time": "2023-01-19T12:46:05.338Z"
   },
   {
    "duration": 23,
    "start_time": "2023-01-19T12:46:05.359Z"
   },
   {
    "duration": 20,
    "start_time": "2023-01-19T12:46:05.384Z"
   },
   {
    "duration": 32,
    "start_time": "2023-01-19T12:46:05.405Z"
   },
   {
    "duration": 7,
    "start_time": "2023-01-19T12:46:05.439Z"
   },
   {
    "duration": 11,
    "start_time": "2023-01-19T12:46:05.448Z"
   },
   {
    "duration": 40,
    "start_time": "2023-01-19T12:46:05.460Z"
   },
   {
    "duration": 22,
    "start_time": "2023-01-19T12:46:05.502Z"
   },
   {
    "duration": 351,
    "start_time": "2023-01-19T12:46:05.525Z"
   },
   {
    "duration": 14,
    "start_time": "2023-01-19T12:46:05.878Z"
   },
   {
    "duration": 312,
    "start_time": "2023-01-19T12:46:05.894Z"
   },
   {
    "duration": 169,
    "start_time": "2023-01-19T12:46:06.209Z"
   },
   {
    "duration": 177,
    "start_time": "2023-01-19T12:46:06.380Z"
   },
   {
    "duration": 174,
    "start_time": "2023-01-19T12:46:06.559Z"
   },
   {
    "duration": 359,
    "start_time": "2023-01-19T12:46:06.738Z"
   },
   {
    "duration": 59,
    "start_time": "2023-01-19T12:46:07.099Z"
   },
   {
    "duration": 213,
    "start_time": "2023-01-19T12:46:07.160Z"
   },
   {
    "duration": 5,
    "start_time": "2023-01-19T12:46:07.374Z"
   },
   {
    "duration": 137,
    "start_time": "2023-01-19T12:46:07.381Z"
   },
   {
    "duration": 5,
    "start_time": "2023-01-19T12:46:07.519Z"
   },
   {
    "duration": 211,
    "start_time": "2023-01-19T12:46:07.526Z"
   },
   {
    "duration": 152,
    "start_time": "2023-01-19T12:46:07.739Z"
   },
   {
    "duration": 169,
    "start_time": "2023-01-19T12:46:07.893Z"
   },
   {
    "duration": 146,
    "start_time": "2023-01-19T12:46:08.064Z"
   },
   {
    "duration": 156,
    "start_time": "2023-01-19T12:46:08.212Z"
   },
   {
    "duration": 164,
    "start_time": "2023-01-19T12:46:08.370Z"
   },
   {
    "duration": 143,
    "start_time": "2023-01-19T12:46:08.536Z"
   },
   {
    "duration": 144,
    "start_time": "2023-01-19T12:46:08.680Z"
   },
   {
    "duration": 162,
    "start_time": "2023-01-19T12:46:08.826Z"
   },
   {
    "duration": 228,
    "start_time": "2023-01-19T12:46:08.990Z"
   },
   {
    "duration": 19,
    "start_time": "2023-01-19T12:46:09.219Z"
   },
   {
    "duration": 90,
    "start_time": "2023-01-19T12:49:07.260Z"
   },
   {
    "duration": 2,
    "start_time": "2023-01-19T12:49:39.997Z"
   },
   {
    "duration": 7,
    "start_time": "2023-01-19T12:49:42.982Z"
   },
   {
    "duration": 5,
    "start_time": "2023-01-19T12:49:52.468Z"
   },
   {
    "duration": 5,
    "start_time": "2023-01-19T12:49:59.553Z"
   },
   {
    "duration": 11,
    "start_time": "2023-01-19T12:50:44.276Z"
   },
   {
    "duration": 5,
    "start_time": "2023-01-19T12:51:16.942Z"
   },
   {
    "duration": 5,
    "start_time": "2023-01-19T12:51:26.051Z"
   },
   {
    "duration": 5,
    "start_time": "2023-01-19T12:56:25.063Z"
   },
   {
    "duration": 4,
    "start_time": "2023-01-19T12:56:44.867Z"
   },
   {
    "duration": 1401,
    "start_time": "2023-01-19T15:11:36.400Z"
   },
   {
    "duration": 230,
    "start_time": "2023-01-19T15:11:37.803Z"
   },
   {
    "duration": 21,
    "start_time": "2023-01-19T15:11:38.035Z"
   },
   {
    "duration": 17,
    "start_time": "2023-01-19T15:11:38.058Z"
   },
   {
    "duration": 14,
    "start_time": "2023-01-19T15:11:38.077Z"
   },
   {
    "duration": 48,
    "start_time": "2023-01-19T15:11:38.094Z"
   },
   {
    "duration": 7,
    "start_time": "2023-01-19T15:11:38.144Z"
   },
   {
    "duration": 14,
    "start_time": "2023-01-19T15:11:38.153Z"
   },
   {
    "duration": 26,
    "start_time": "2023-01-19T15:11:38.169Z"
   },
   {
    "duration": 52,
    "start_time": "2023-01-19T15:11:38.198Z"
   },
   {
    "duration": 475,
    "start_time": "2023-01-19T15:11:38.253Z"
   },
   {
    "duration": 22,
    "start_time": "2023-01-19T15:11:38.730Z"
   },
   {
    "duration": 338,
    "start_time": "2023-01-19T15:11:38.754Z"
   },
   {
    "duration": 209,
    "start_time": "2023-01-19T15:11:39.094Z"
   },
   {
    "duration": 260,
    "start_time": "2023-01-19T15:11:39.305Z"
   },
   {
    "duration": 191,
    "start_time": "2023-01-19T15:11:39.566Z"
   },
   {
    "duration": 597,
    "start_time": "2023-01-19T15:11:39.759Z"
   },
   {
    "duration": 91,
    "start_time": "2023-01-19T15:11:40.359Z"
   },
   {
    "duration": 216,
    "start_time": "2023-01-19T15:11:40.452Z"
   },
   {
    "duration": 7,
    "start_time": "2023-01-19T15:11:40.670Z"
   },
   {
    "duration": 225,
    "start_time": "2023-01-19T15:11:40.679Z"
   },
   {
    "duration": 8,
    "start_time": "2023-01-19T15:11:40.906Z"
   },
   {
    "duration": 286,
    "start_time": "2023-01-19T15:11:40.916Z"
   },
   {
    "duration": 251,
    "start_time": "2023-01-19T15:11:41.204Z"
   },
   {
    "duration": 262,
    "start_time": "2023-01-19T15:11:41.459Z"
   },
   {
    "duration": 255,
    "start_time": "2023-01-19T15:11:41.723Z"
   },
   {
    "duration": 246,
    "start_time": "2023-01-19T15:11:41.981Z"
   },
   {
    "duration": 269,
    "start_time": "2023-01-19T15:11:42.236Z"
   },
   {
    "duration": 213,
    "start_time": "2023-01-19T15:11:42.506Z"
   },
   {
    "duration": 215,
    "start_time": "2023-01-19T15:11:42.721Z"
   },
   {
    "duration": 331,
    "start_time": "2023-01-19T15:11:42.946Z"
   },
   {
    "duration": 196,
    "start_time": "2023-01-19T15:11:43.280Z"
   },
   {
    "duration": 16,
    "start_time": "2023-01-19T15:11:43.479Z"
   },
   {
    "duration": 9,
    "start_time": "2023-01-19T15:11:43.497Z"
   },
   {
    "duration": 53,
    "start_time": "2023-01-19T15:11:43.508Z"
   },
   {
    "duration": 7,
    "start_time": "2023-01-19T15:11:43.564Z"
   },
   {
    "duration": 16,
    "start_time": "2023-01-19T15:12:02.512Z"
   },
   {
    "duration": 9,
    "start_time": "2023-01-19T15:14:16.172Z"
   },
   {
    "duration": 15,
    "start_time": "2023-01-19T15:14:20.170Z"
   },
   {
    "duration": 16,
    "start_time": "2023-01-19T15:14:29.839Z"
   },
   {
    "duration": 5,
    "start_time": "2023-01-19T15:14:34.941Z"
   },
   {
    "duration": 12,
    "start_time": "2023-01-19T15:14:55.732Z"
   },
   {
    "duration": 15,
    "start_time": "2023-01-19T15:15:01.746Z"
   },
   {
    "duration": 5,
    "start_time": "2023-01-19T15:15:02.862Z"
   },
   {
    "duration": 7,
    "start_time": "2023-01-19T15:15:19.845Z"
   },
   {
    "duration": 16,
    "start_time": "2023-01-19T15:15:21.714Z"
   },
   {
    "duration": 6,
    "start_time": "2023-01-19T15:15:24.206Z"
   },
   {
    "duration": 14,
    "start_time": "2023-01-19T15:16:15.509Z"
   },
   {
    "duration": 5,
    "start_time": "2023-01-19T15:16:39.972Z"
   },
   {
    "duration": 6,
    "start_time": "2023-01-19T15:16:56.738Z"
   },
   {
    "duration": 15,
    "start_time": "2023-01-19T15:18:30.728Z"
   },
   {
    "duration": 5,
    "start_time": "2023-01-19T15:18:33.653Z"
   },
   {
    "duration": 7,
    "start_time": "2023-01-19T15:19:02.037Z"
   },
   {
    "duration": 10,
    "start_time": "2023-01-19T15:31:29.790Z"
   },
   {
    "duration": 104,
    "start_time": "2023-01-19T15:31:40.818Z"
   },
   {
    "duration": 10,
    "start_time": "2023-01-19T15:31:46.716Z"
   },
   {
    "duration": 10,
    "start_time": "2023-01-19T15:31:53.583Z"
   },
   {
    "duration": 10,
    "start_time": "2023-01-19T15:32:02.336Z"
   },
   {
    "duration": 15,
    "start_time": "2023-01-19T15:32:18.776Z"
   },
   {
    "duration": 13,
    "start_time": "2023-01-19T15:35:04.676Z"
   },
   {
    "duration": 28,
    "start_time": "2023-01-19T15:36:06.915Z"
   },
   {
    "duration": 15,
    "start_time": "2023-01-19T15:36:22.065Z"
   },
   {
    "duration": 5,
    "start_time": "2023-01-19T15:36:29.600Z"
   },
   {
    "duration": 10,
    "start_time": "2023-01-19T15:37:00.828Z"
   },
   {
    "duration": 8,
    "start_time": "2023-01-19T15:37:08.333Z"
   },
   {
    "duration": 8,
    "start_time": "2023-01-19T15:37:11.798Z"
   },
   {
    "duration": 14,
    "start_time": "2023-01-19T15:37:13.702Z"
   },
   {
    "duration": 6,
    "start_time": "2023-01-19T15:37:38.624Z"
   },
   {
    "duration": 14,
    "start_time": "2023-01-19T15:52:14.113Z"
   },
   {
    "duration": 5,
    "start_time": "2023-01-19T15:52:52.651Z"
   },
   {
    "duration": 1267,
    "start_time": "2023-01-20T05:41:01.169Z"
   },
   {
    "duration": 212,
    "start_time": "2023-01-20T05:41:02.438Z"
   },
   {
    "duration": 18,
    "start_time": "2023-01-20T05:41:02.652Z"
   },
   {
    "duration": 19,
    "start_time": "2023-01-20T05:41:02.672Z"
   },
   {
    "duration": 21,
    "start_time": "2023-01-20T05:41:02.693Z"
   },
   {
    "duration": 36,
    "start_time": "2023-01-20T05:41:02.716Z"
   },
   {
    "duration": 7,
    "start_time": "2023-01-20T05:41:02.754Z"
   },
   {
    "duration": 21,
    "start_time": "2023-01-20T05:41:02.762Z"
   },
   {
    "duration": 51,
    "start_time": "2023-01-20T05:41:02.784Z"
   },
   {
    "duration": 40,
    "start_time": "2023-01-20T05:41:02.837Z"
   },
   {
    "duration": 357,
    "start_time": "2023-01-20T05:41:02.879Z"
   },
   {
    "duration": 18,
    "start_time": "2023-01-20T05:41:03.237Z"
   },
   {
    "duration": 278,
    "start_time": "2023-01-20T05:41:03.257Z"
   },
   {
    "duration": 156,
    "start_time": "2023-01-20T05:41:03.543Z"
   },
   {
    "duration": 168,
    "start_time": "2023-01-20T05:41:03.701Z"
   },
   {
    "duration": 170,
    "start_time": "2023-01-20T05:41:03.870Z"
   },
   {
    "duration": 371,
    "start_time": "2023-01-20T05:41:04.044Z"
   },
   {
    "duration": 54,
    "start_time": "2023-01-20T05:41:04.417Z"
   },
   {
    "duration": 241,
    "start_time": "2023-01-20T05:41:04.472Z"
   },
   {
    "duration": 6,
    "start_time": "2023-01-20T05:41:04.715Z"
   },
   {
    "duration": 142,
    "start_time": "2023-01-20T05:41:04.723Z"
   },
   {
    "duration": 4,
    "start_time": "2023-01-20T05:41:04.867Z"
   },
   {
    "duration": 209,
    "start_time": "2023-01-20T05:41:04.873Z"
   },
   {
    "duration": 163,
    "start_time": "2023-01-20T05:41:05.084Z"
   },
   {
    "duration": 174,
    "start_time": "2023-01-20T05:41:05.249Z"
   },
   {
    "duration": 147,
    "start_time": "2023-01-20T05:41:05.425Z"
   },
   {
    "duration": 164,
    "start_time": "2023-01-20T05:41:05.574Z"
   },
   {
    "duration": 171,
    "start_time": "2023-01-20T05:41:05.744Z"
   },
   {
    "duration": 152,
    "start_time": "2023-01-20T05:41:05.917Z"
   },
   {
    "duration": 173,
    "start_time": "2023-01-20T05:41:06.071Z"
   },
   {
    "duration": 165,
    "start_time": "2023-01-20T05:41:06.246Z"
   },
   {
    "duration": 236,
    "start_time": "2023-01-20T05:41:06.412Z"
   },
   {
    "duration": 6,
    "start_time": "2023-01-20T05:41:06.650Z"
   },
   {
    "duration": 12,
    "start_time": "2023-01-20T05:41:06.657Z"
   },
   {
    "duration": 29,
    "start_time": "2023-01-20T05:41:06.671Z"
   },
   {
    "duration": 7,
    "start_time": "2023-01-20T05:41:06.702Z"
   },
   {
    "duration": 25,
    "start_time": "2023-01-20T05:41:06.711Z"
   },
   {
    "duration": 8,
    "start_time": "2023-01-20T05:41:06.737Z"
   },
   {
    "duration": 61,
    "start_time": "2023-01-20T06:02:37.505Z"
   },
   {
    "duration": 375,
    "start_time": "2023-01-20T06:06:04.897Z"
   },
   {
    "duration": 105,
    "start_time": "2023-01-20T06:07:09.640Z"
   },
   {
    "duration": 370,
    "start_time": "2023-01-20T06:07:20.119Z"
   },
   {
    "duration": 378,
    "start_time": "2023-01-20T06:13:48.205Z"
   },
   {
    "duration": 299,
    "start_time": "2023-01-20T06:14:17.671Z"
   },
   {
    "duration": 136,
    "start_time": "2023-01-20T06:23:34.387Z"
   },
   {
    "duration": 3,
    "start_time": "2023-01-20T06:32:33.271Z"
   },
   {
    "duration": 20,
    "start_time": "2023-01-20T06:33:15.781Z"
   },
   {
    "duration": 1464,
    "start_time": "2023-01-20T09:04:56.624Z"
   },
   {
    "duration": 217,
    "start_time": "2023-01-20T09:04:58.091Z"
   },
   {
    "duration": 22,
    "start_time": "2023-01-20T09:05:50.100Z"
   },
   {
    "duration": 18,
    "start_time": "2023-01-20T09:05:59.118Z"
   },
   {
    "duration": 15,
    "start_time": "2023-01-20T09:06:02.555Z"
   },
   {
    "duration": 27,
    "start_time": "2023-01-20T09:06:08.005Z"
   },
   {
    "duration": 3,
    "start_time": "2023-01-20T09:07:17.135Z"
   },
   {
    "duration": 27,
    "start_time": "2023-01-20T09:07:52.960Z"
   },
   {
    "duration": 8,
    "start_time": "2023-01-20T09:08:09.623Z"
   },
   {
    "duration": 4,
    "start_time": "2023-01-20T09:09:31.624Z"
   },
   {
    "duration": 7,
    "start_time": "2023-01-20T09:09:41.727Z"
   },
   {
    "duration": 24,
    "start_time": "2023-01-20T09:10:02.249Z"
   },
   {
    "duration": 4,
    "start_time": "2023-01-20T09:12:24.601Z"
   },
   {
    "duration": 8,
    "start_time": "2023-01-20T09:13:29.152Z"
   },
   {
    "duration": 15,
    "start_time": "2023-01-20T09:13:32.754Z"
   },
   {
    "duration": 9,
    "start_time": "2023-01-20T09:13:59.916Z"
   },
   {
    "duration": 8,
    "start_time": "2023-01-20T09:14:12.146Z"
   },
   {
    "duration": 20,
    "start_time": "2023-01-20T09:14:15.831Z"
   },
   {
    "duration": 21,
    "start_time": "2023-01-20T09:15:23.309Z"
   },
   {
    "duration": 10,
    "start_time": "2023-01-20T09:15:26.900Z"
   },
   {
    "duration": 6,
    "start_time": "2023-01-20T09:15:42.677Z"
   },
   {
    "duration": 16,
    "start_time": "2023-01-20T09:15:57.096Z"
   },
   {
    "duration": 21,
    "start_time": "2023-01-20T09:16:03.927Z"
   },
   {
    "duration": 33,
    "start_time": "2023-01-20T09:16:20.314Z"
   },
   {
    "duration": 386,
    "start_time": "2023-01-20T09:16:37.827Z"
   },
   {
    "duration": 15,
    "start_time": "2023-01-20T09:16:56.418Z"
   },
   {
    "duration": 317,
    "start_time": "2023-01-20T09:17:01.558Z"
   },
   {
    "duration": 185,
    "start_time": "2023-01-20T09:17:08.915Z"
   },
   {
    "duration": 183,
    "start_time": "2023-01-20T09:17:12.664Z"
   },
   {
    "duration": 179,
    "start_time": "2023-01-20T09:17:25.079Z"
   },
   {
    "duration": 142,
    "start_time": "2023-01-20T09:27:38.932Z"
   },
   {
    "duration": 184,
    "start_time": "2023-01-20T09:27:56.782Z"
   },
   {
    "duration": 1739,
    "start_time": "2023-01-20T09:29:17.569Z"
   },
   {
    "duration": 111,
    "start_time": "2023-01-20T09:30:16.361Z"
   },
   {
    "duration": 4938,
    "start_time": "2023-01-20T09:30:26.567Z"
   },
   {
    "duration": 317,
    "start_time": "2023-01-20T09:30:51.382Z"
   },
   {
    "duration": 350,
    "start_time": "2023-01-20T09:34:23.019Z"
   },
   {
    "duration": 167,
    "start_time": "2023-01-20T09:36:08.716Z"
   },
   {
    "duration": 176,
    "start_time": "2023-01-20T09:36:39.198Z"
   },
   {
    "duration": 26,
    "start_time": "2023-01-20T09:38:42.228Z"
   },
   {
    "duration": 204,
    "start_time": "2023-01-20T09:39:40.309Z"
   },
   {
    "duration": 26,
    "start_time": "2023-01-20T09:41:26.079Z"
   },
   {
    "duration": 181,
    "start_time": "2023-01-20T09:41:33.504Z"
   },
   {
    "duration": 164,
    "start_time": "2023-01-20T09:44:54.743Z"
   },
   {
    "duration": 177,
    "start_time": "2023-01-20T09:45:36.531Z"
   },
   {
    "duration": 158,
    "start_time": "2023-01-20T09:46:01.018Z"
   },
   {
    "duration": 207,
    "start_time": "2023-01-20T09:48:34.730Z"
   },
   {
    "duration": 188,
    "start_time": "2023-01-20T09:48:51.482Z"
   },
   {
    "duration": 197,
    "start_time": "2023-01-20T09:48:57.334Z"
   },
   {
    "duration": 196,
    "start_time": "2023-01-20T09:51:15.114Z"
   },
   {
    "duration": 259,
    "start_time": "2023-01-20T09:55:02.931Z"
   },
   {
    "duration": 173,
    "start_time": "2023-01-20T09:55:12.818Z"
   },
   {
    "duration": 173,
    "start_time": "2023-01-20T10:04:17.344Z"
   },
   {
    "duration": 184,
    "start_time": "2023-01-20T10:06:16.588Z"
   },
   {
    "duration": 173,
    "start_time": "2023-01-20T10:07:45.226Z"
   },
   {
    "duration": 179,
    "start_time": "2023-01-20T10:09:24.520Z"
   },
   {
    "duration": 44,
    "start_time": "2023-01-20T10:11:10.787Z"
   },
   {
    "duration": 253,
    "start_time": "2023-01-20T10:15:32.121Z"
   },
   {
    "duration": 253,
    "start_time": "2023-01-20T10:16:00.784Z"
   },
   {
    "duration": 267,
    "start_time": "2023-01-20T10:16:08.762Z"
   },
   {
    "duration": 270,
    "start_time": "2023-01-20T10:16:15.688Z"
   },
   {
    "duration": 237,
    "start_time": "2023-01-20T10:16:57.020Z"
   },
   {
    "duration": 255,
    "start_time": "2023-01-20T10:17:00.380Z"
   },
   {
    "duration": 273,
    "start_time": "2023-01-20T10:17:39.031Z"
   },
   {
    "duration": 626,
    "start_time": "2023-01-20T10:18:08.615Z"
   },
   {
    "duration": 50,
    "start_time": "2023-01-20T10:18:27.380Z"
   },
   {
    "duration": 331,
    "start_time": "2023-01-20T10:18:35.456Z"
   },
   {
    "duration": 319,
    "start_time": "2023-01-20T10:19:04.272Z"
   },
   {
    "duration": 348,
    "start_time": "2023-01-20T10:19:18.063Z"
   },
   {
    "duration": 324,
    "start_time": "2023-01-20T10:19:45.879Z"
   },
   {
    "duration": 53,
    "start_time": "2023-01-20T10:20:57.928Z"
   },
   {
    "duration": 56,
    "start_time": "2023-01-20T10:21:17.217Z"
   },
   {
    "duration": 325,
    "start_time": "2023-01-20T10:21:42.918Z"
   },
   {
    "duration": 333,
    "start_time": "2023-01-20T10:22:53.490Z"
   },
   {
    "duration": 310,
    "start_time": "2023-01-20T10:23:02.093Z"
   },
   {
    "duration": 299,
    "start_time": "2023-01-20T10:23:17.476Z"
   },
   {
    "duration": 497,
    "start_time": "2023-01-20T10:25:13.660Z"
   },
   {
    "duration": 67,
    "start_time": "2023-01-20T10:26:17.608Z"
   },
   {
    "duration": 577,
    "start_time": "2023-01-20T10:26:46.683Z"
   },
   {
    "duration": 8,
    "start_time": "2023-01-20T10:32:27.544Z"
   },
   {
    "duration": 47,
    "start_time": "2023-01-20T10:32:42.706Z"
   },
   {
    "duration": 372,
    "start_time": "2023-01-20T10:33:24.595Z"
   },
   {
    "duration": 367,
    "start_time": "2023-01-20T10:36:11.945Z"
   },
   {
    "duration": 427,
    "start_time": "2023-01-20T10:36:22.202Z"
   },
   {
    "duration": 57,
    "start_time": "2023-01-20T10:36:45.134Z"
   },
   {
    "duration": 52,
    "start_time": "2023-01-20T10:38:54.240Z"
   },
   {
    "duration": 54,
    "start_time": "2023-01-20T10:39:04.938Z"
   },
   {
    "duration": 50,
    "start_time": "2023-01-20T10:39:53.633Z"
   },
   {
    "duration": 382,
    "start_time": "2023-01-20T10:39:59.415Z"
   },
   {
    "duration": 447,
    "start_time": "2023-01-20T10:40:33.164Z"
   },
   {
    "duration": 358,
    "start_time": "2023-01-20T10:40:40.474Z"
   },
   {
    "duration": 371,
    "start_time": "2023-01-20T10:40:48.901Z"
   },
   {
    "duration": 341,
    "start_time": "2023-01-20T10:40:55.047Z"
   },
   {
    "duration": 366,
    "start_time": "2023-01-20T10:41:02.549Z"
   },
   {
    "duration": 356,
    "start_time": "2023-01-20T10:41:08.332Z"
   },
   {
    "duration": 365,
    "start_time": "2023-01-20T10:41:18.324Z"
   },
   {
    "duration": 568,
    "start_time": "2023-01-20T10:41:59.300Z"
   },
   {
    "duration": 701,
    "start_time": "2023-01-20T10:42:07.393Z"
   },
   {
    "duration": 708,
    "start_time": "2023-01-20T10:42:24.138Z"
   },
   {
    "duration": 689,
    "start_time": "2023-01-20T10:42:48.271Z"
   },
   {
    "duration": 784,
    "start_time": "2023-01-20T10:43:10.078Z"
   },
   {
    "duration": 899,
    "start_time": "2023-01-20T10:43:19.364Z"
   },
   {
    "duration": 579,
    "start_time": "2023-01-20T10:43:26.938Z"
   },
   {
    "duration": 229,
    "start_time": "2023-01-20T10:43:33.476Z"
   },
   {
    "duration": 229,
    "start_time": "2023-01-20T10:43:55.565Z"
   },
   {
    "duration": 52,
    "start_time": "2023-01-20T10:46:20.497Z"
   },
   {
    "duration": 163,
    "start_time": "2023-01-20T10:46:26.921Z"
   },
   {
    "duration": 17,
    "start_time": "2023-01-20T10:47:01.966Z"
   },
   {
    "duration": 21,
    "start_time": "2023-01-20T10:47:40.706Z"
   },
   {
    "duration": 15,
    "start_time": "2023-01-20T10:47:46.065Z"
   },
   {
    "duration": 226,
    "start_time": "2023-01-20T10:47:47.122Z"
   },
   {
    "duration": 21,
    "start_time": "2023-01-20T10:48:25.765Z"
   },
   {
    "duration": 55,
    "start_time": "2023-01-20T10:48:27.837Z"
   },
   {
    "duration": 19,
    "start_time": "2023-01-20T10:49:11.185Z"
   },
   {
    "duration": 9,
    "start_time": "2023-01-20T10:49:31.734Z"
   },
   {
    "duration": 758,
    "start_time": "2023-01-20T11:34:36.081Z"
   },
   {
    "duration": 24,
    "start_time": "2023-01-20T11:34:43.638Z"
   },
   {
    "duration": 14,
    "start_time": "2023-01-20T11:37:40.369Z"
   },
   {
    "duration": 15,
    "start_time": "2023-01-20T11:37:51.460Z"
   },
   {
    "duration": 19,
    "start_time": "2023-01-20T11:38:08.211Z"
   },
   {
    "duration": 11,
    "start_time": "2023-01-20T11:38:20.503Z"
   },
   {
    "duration": 28,
    "start_time": "2023-01-20T11:39:24.819Z"
   },
   {
    "duration": 23,
    "start_time": "2023-01-20T11:39:31.044Z"
   },
   {
    "duration": 25,
    "start_time": "2023-01-20T11:39:35.732Z"
   },
   {
    "duration": 49,
    "start_time": "2023-01-20T11:40:15.825Z"
   },
   {
    "duration": 54,
    "start_time": "2023-01-20T11:40:45.756Z"
   },
   {
    "duration": 27,
    "start_time": "2023-01-20T11:43:29.953Z"
   },
   {
    "duration": 9,
    "start_time": "2023-01-20T11:43:38.292Z"
   },
   {
    "duration": 21,
    "start_time": "2023-01-20T11:44:57.880Z"
   },
   {
    "duration": 9,
    "start_time": "2023-01-20T11:45:10.387Z"
   },
   {
    "duration": 6,
    "start_time": "2023-01-20T11:45:19.980Z"
   },
   {
    "duration": 12,
    "start_time": "2023-01-20T11:45:23.473Z"
   },
   {
    "duration": 9,
    "start_time": "2023-01-20T11:45:30.788Z"
   },
   {
    "duration": 38,
    "start_time": "2023-01-20T11:45:32.027Z"
   },
   {
    "duration": 9,
    "start_time": "2023-01-20T11:45:44.067Z"
   },
   {
    "duration": 14,
    "start_time": "2023-01-20T11:47:10.040Z"
   },
   {
    "duration": 12,
    "start_time": "2023-01-20T11:48:50.362Z"
   },
   {
    "duration": 15,
    "start_time": "2023-01-20T11:49:06.763Z"
   },
   {
    "duration": 47,
    "start_time": "2023-01-20T11:49:13.726Z"
   },
   {
    "duration": 15,
    "start_time": "2023-01-20T11:49:21.431Z"
   },
   {
    "duration": 37,
    "start_time": "2023-01-20T11:51:41.965Z"
   },
   {
    "duration": 244,
    "start_time": "2023-01-20T11:53:28.831Z"
   },
   {
    "duration": 217,
    "start_time": "2023-01-20T11:53:41.680Z"
   },
   {
    "duration": 237,
    "start_time": "2023-01-20T11:56:01.931Z"
   },
   {
    "duration": 19,
    "start_time": "2023-01-20T12:02:14.090Z"
   },
   {
    "duration": 10,
    "start_time": "2023-01-20T12:03:53.878Z"
   },
   {
    "duration": 11,
    "start_time": "2023-01-20T12:04:07.485Z"
   },
   {
    "duration": 13,
    "start_time": "2023-01-20T12:04:12.411Z"
   },
   {
    "duration": 10,
    "start_time": "2023-01-20T12:05:20.898Z"
   },
   {
    "duration": 4,
    "start_time": "2023-01-20T12:05:42.790Z"
   },
   {
    "duration": 9,
    "start_time": "2023-01-20T12:05:58.723Z"
   },
   {
    "duration": 9,
    "start_time": "2023-01-20T12:06:09.075Z"
   },
   {
    "duration": 274,
    "start_time": "2023-01-20T12:06:09.247Z"
   },
   {
    "duration": 9,
    "start_time": "2023-01-20T12:07:33.240Z"
   },
   {
    "duration": 8,
    "start_time": "2023-01-20T12:07:47.699Z"
   },
   {
    "duration": 9,
    "start_time": "2023-01-20T12:07:54.053Z"
   },
   {
    "duration": 837,
    "start_time": "2023-01-20T12:09:35.755Z"
   },
   {
    "duration": 11,
    "start_time": "2023-01-20T12:09:44.757Z"
   },
   {
    "duration": 778,
    "start_time": "2023-01-20T12:09:56.042Z"
   },
   {
    "duration": 8,
    "start_time": "2023-01-20T12:10:08.614Z"
   },
   {
    "duration": 32,
    "start_time": "2023-01-20T12:12:04.737Z"
   },
   {
    "duration": 10,
    "start_time": "2023-01-20T12:15:00.422Z"
   },
   {
    "duration": 5,
    "start_time": "2023-01-20T12:15:07.065Z"
   },
   {
    "duration": 10,
    "start_time": "2023-01-20T12:15:12.019Z"
   },
   {
    "duration": 2,
    "start_time": "2023-01-20T12:16:24.264Z"
   },
   {
    "duration": 5,
    "start_time": "2023-01-20T12:16:24.848Z"
   },
   {
    "duration": 14,
    "start_time": "2023-01-20T12:16:42.468Z"
   },
   {
    "duration": 29,
    "start_time": "2023-01-20T12:19:11.820Z"
   },
   {
    "duration": 30,
    "start_time": "2023-01-20T12:20:05.940Z"
   },
   {
    "duration": 29,
    "start_time": "2023-01-20T12:20:34.554Z"
   },
   {
    "duration": 3,
    "start_time": "2023-01-20T12:23:01.289Z"
   },
   {
    "duration": 68,
    "start_time": "2023-01-20T12:23:01.454Z"
   },
   {
    "duration": 28,
    "start_time": "2023-01-20T12:23:03.082Z"
   },
   {
    "duration": 15,
    "start_time": "2023-01-20T12:23:04.575Z"
   },
   {
    "duration": 10,
    "start_time": "2023-01-20T12:23:04.773Z"
   },
   {
    "duration": 26,
    "start_time": "2023-01-20T12:23:04.978Z"
   },
   {
    "duration": 8,
    "start_time": "2023-01-20T12:23:06.355Z"
   },
   {
    "duration": 4,
    "start_time": "2023-01-20T12:23:06.768Z"
   },
   {
    "duration": 8,
    "start_time": "2023-01-20T12:23:06.905Z"
   },
   {
    "duration": 17,
    "start_time": "2023-01-20T12:23:08.701Z"
   },
   {
    "duration": 12,
    "start_time": "2023-01-20T12:23:09.828Z"
   },
   {
    "duration": 22,
    "start_time": "2023-01-20T12:23:14.532Z"
   },
   {
    "duration": 373,
    "start_time": "2023-01-20T12:23:17.159Z"
   },
   {
    "duration": 14,
    "start_time": "2023-01-20T12:23:19.062Z"
   },
   {
    "duration": 371,
    "start_time": "2023-01-20T12:23:20.413Z"
   },
   {
    "duration": 327,
    "start_time": "2023-01-20T12:23:22.841Z"
   },
   {
    "duration": 183,
    "start_time": "2023-01-20T12:23:24.766Z"
   },
   {
    "duration": 174,
    "start_time": "2023-01-20T12:23:26.272Z"
   },
   {
    "duration": 171,
    "start_time": "2023-01-20T12:23:27.946Z"
   },
   {
    "duration": 180,
    "start_time": "2023-01-20T12:23:29.502Z"
   },
   {
    "duration": 163,
    "start_time": "2023-01-20T12:23:30.539Z"
   },
   {
    "duration": 272,
    "start_time": "2023-01-20T12:23:35.735Z"
   },
   {
    "duration": 177,
    "start_time": "2023-01-20T12:23:37.949Z"
   },
   {
    "duration": 192,
    "start_time": "2023-01-20T12:23:42.015Z"
   },
   {
    "duration": 7,
    "start_time": "2023-01-20T12:23:51.846Z"
   },
   {
    "duration": 224,
    "start_time": "2023-01-20T12:23:59.845Z"
   },
   {
    "duration": 27,
    "start_time": "2023-01-20T12:24:17.620Z"
   },
   {
    "duration": 65,
    "start_time": "2023-01-20T12:24:18.793Z"
   },
   {
    "duration": 13,
    "start_time": "2023-01-20T12:25:17.954Z"
   },
   {
    "duration": 15,
    "start_time": "2023-01-20T12:25:24.612Z"
   },
   {
    "duration": 14,
    "start_time": "2023-01-20T12:25:38.550Z"
   },
   {
    "duration": 15,
    "start_time": "2023-01-20T12:25:48.251Z"
   },
   {
    "duration": 15,
    "start_time": "2023-01-20T12:27:59.307Z"
   },
   {
    "duration": 23,
    "start_time": "2023-01-20T12:28:20.331Z"
   },
   {
    "duration": 16,
    "start_time": "2023-01-20T12:28:29.660Z"
   },
   {
    "duration": 26,
    "start_time": "2023-01-20T12:29:50.427Z"
   },
   {
    "duration": 27,
    "start_time": "2023-01-20T12:30:02.885Z"
   },
   {
    "duration": 16,
    "start_time": "2023-01-20T12:30:32.280Z"
   },
   {
    "duration": 27,
    "start_time": "2023-01-20T12:31:43.945Z"
   },
   {
    "duration": 20,
    "start_time": "2023-01-20T12:32:16.167Z"
   },
   {
    "duration": 36,
    "start_time": "2023-01-20T12:32:56.914Z"
   },
   {
    "duration": 65,
    "start_time": "2023-01-20T12:34:28.124Z"
   },
   {
    "duration": 1222,
    "start_time": "2023-01-20T18:14:04.428Z"
   },
   {
    "duration": 108,
    "start_time": "2023-01-20T18:14:05.652Z"
   },
   {
    "duration": 21,
    "start_time": "2023-01-20T18:14:05.762Z"
   },
   {
    "duration": 14,
    "start_time": "2023-01-20T18:14:05.785Z"
   },
   {
    "duration": 25,
    "start_time": "2023-01-20T18:14:05.800Z"
   },
   {
    "duration": 59,
    "start_time": "2023-01-20T18:14:05.826Z"
   },
   {
    "duration": 20,
    "start_time": "2023-01-20T18:14:05.886Z"
   },
   {
    "duration": 30,
    "start_time": "2023-01-20T18:14:05.908Z"
   },
   {
    "duration": 35,
    "start_time": "2023-01-20T18:14:05.939Z"
   },
   {
    "duration": 58,
    "start_time": "2023-01-20T18:14:05.976Z"
   },
   {
    "duration": 9,
    "start_time": "2023-01-20T18:14:06.036Z"
   },
   {
    "duration": 81,
    "start_time": "2023-01-20T18:14:06.046Z"
   },
   {
    "duration": 347,
    "start_time": "2023-01-20T18:14:06.129Z"
   },
   {
    "duration": 21,
    "start_time": "2023-01-20T18:14:06.478Z"
   },
   {
    "duration": 337,
    "start_time": "2023-01-20T18:14:06.500Z"
   },
   {
    "duration": 309,
    "start_time": "2023-01-20T18:14:06.839Z"
   },
   {
    "duration": 189,
    "start_time": "2023-01-20T18:14:07.151Z"
   },
   {
    "duration": 178,
    "start_time": "2023-01-20T18:14:07.343Z"
   },
   {
    "duration": 151,
    "start_time": "2023-01-20T18:14:07.523Z"
   },
   {
    "duration": 236,
    "start_time": "2023-01-20T18:14:07.676Z"
   },
   {
    "duration": 160,
    "start_time": "2023-01-20T18:14:07.914Z"
   },
   {
    "duration": 156,
    "start_time": "2023-01-20T18:14:08.076Z"
   },
   {
    "duration": 156,
    "start_time": "2023-01-20T18:14:08.234Z"
   },
   {
    "duration": 170,
    "start_time": "2023-01-20T18:14:08.392Z"
   },
   {
    "duration": 7,
    "start_time": "2023-01-20T18:14:08.564Z"
   },
   {
    "duration": 243,
    "start_time": "2023-01-20T18:14:08.572Z"
   },
   {
    "duration": 27,
    "start_time": "2023-01-20T18:14:08.817Z"
   },
   {
    "duration": 26,
    "start_time": "2023-01-20T18:14:08.848Z"
   },
   {
    "duration": 135,
    "start_time": "2023-01-20T18:14:08.875Z"
   },
   {
    "duration": 0,
    "start_time": "2023-01-20T18:14:09.012Z"
   },
   {
    "duration": 0,
    "start_time": "2023-01-20T18:14:09.013Z"
   },
   {
    "duration": 0,
    "start_time": "2023-01-20T18:14:09.014Z"
   },
   {
    "duration": 0,
    "start_time": "2023-01-20T18:14:09.015Z"
   },
   {
    "duration": 0,
    "start_time": "2023-01-20T18:14:09.016Z"
   },
   {
    "duration": 0,
    "start_time": "2023-01-20T18:14:09.017Z"
   },
   {
    "duration": 0,
    "start_time": "2023-01-20T18:14:09.018Z"
   },
   {
    "duration": 1,
    "start_time": "2023-01-20T18:14:09.018Z"
   },
   {
    "duration": 0,
    "start_time": "2023-01-20T18:14:09.019Z"
   },
   {
    "duration": 0,
    "start_time": "2023-01-20T18:14:09.020Z"
   },
   {
    "duration": 0,
    "start_time": "2023-01-20T18:14:09.021Z"
   },
   {
    "duration": 0,
    "start_time": "2023-01-20T18:14:09.022Z"
   },
   {
    "duration": 0,
    "start_time": "2023-01-20T18:14:09.023Z"
   },
   {
    "duration": 0,
    "start_time": "2023-01-20T18:14:09.024Z"
   },
   {
    "duration": 0,
    "start_time": "2023-01-20T18:14:09.025Z"
   },
   {
    "duration": 0,
    "start_time": "2023-01-20T18:14:09.026Z"
   },
   {
    "duration": 0,
    "start_time": "2023-01-20T18:14:09.027Z"
   },
   {
    "duration": 0,
    "start_time": "2023-01-20T18:14:09.028Z"
   },
   {
    "duration": 0,
    "start_time": "2023-01-20T18:14:09.029Z"
   },
   {
    "duration": 122,
    "start_time": "2023-01-20T18:19:36.717Z"
   },
   {
    "duration": 5,
    "start_time": "2023-01-20T18:19:39.834Z"
   },
   {
    "duration": 121,
    "start_time": "2023-01-20T18:19:40.241Z"
   },
   {
    "duration": 5,
    "start_time": "2023-01-20T18:19:43.120Z"
   },
   {
    "duration": 207,
    "start_time": "2023-01-20T18:19:45.297Z"
   },
   {
    "duration": 21,
    "start_time": "2023-01-20T18:19:50.012Z"
   },
   {
    "duration": 1214,
    "start_time": "2023-01-21T08:20:52.404Z"
   },
   {
    "duration": 102,
    "start_time": "2023-01-21T08:20:53.620Z"
   },
   {
    "duration": 20,
    "start_time": "2023-01-21T08:20:53.724Z"
   },
   {
    "duration": 15,
    "start_time": "2023-01-21T08:20:53.746Z"
   },
   {
    "duration": 8,
    "start_time": "2023-01-21T08:20:53.762Z"
   },
   {
    "duration": 33,
    "start_time": "2023-01-21T08:20:53.772Z"
   },
   {
    "duration": 7,
    "start_time": "2023-01-21T08:20:53.807Z"
   },
   {
    "duration": 22,
    "start_time": "2023-01-21T08:20:53.816Z"
   },
   {
    "duration": 8,
    "start_time": "2023-01-21T08:20:53.840Z"
   },
   {
    "duration": 14,
    "start_time": "2023-01-21T08:20:53.851Z"
   },
   {
    "duration": 9,
    "start_time": "2023-01-21T08:20:53.867Z"
   },
   {
    "duration": 23,
    "start_time": "2023-01-21T08:20:53.877Z"
   },
   {
    "duration": 362,
    "start_time": "2023-01-21T08:20:53.901Z"
   },
   {
    "duration": 12,
    "start_time": "2023-01-21T08:20:54.265Z"
   },
   {
    "duration": 285,
    "start_time": "2023-01-21T08:20:54.279Z"
   },
   {
    "duration": 295,
    "start_time": "2023-01-21T08:20:54.566Z"
   },
   {
    "duration": 162,
    "start_time": "2023-01-21T08:20:54.863Z"
   },
   {
    "duration": 246,
    "start_time": "2023-01-21T08:20:55.027Z"
   },
   {
    "duration": 309,
    "start_time": "2023-01-21T08:20:55.275Z"
   },
   {
    "duration": 512,
    "start_time": "2023-01-21T08:20:55.636Z"
   },
   {
    "duration": 293,
    "start_time": "2023-01-21T08:20:56.150Z"
   },
   {
    "duration": 257,
    "start_time": "2023-01-21T08:20:56.445Z"
   },
   {
    "duration": 175,
    "start_time": "2023-01-21T08:20:56.703Z"
   },
   {
    "duration": 170,
    "start_time": "2023-01-21T08:20:56.880Z"
   },
   {
    "duration": 7,
    "start_time": "2023-01-21T08:20:57.052Z"
   },
   {
    "duration": 261,
    "start_time": "2023-01-21T08:20:57.060Z"
   },
   {
    "duration": 25,
    "start_time": "2023-01-21T08:20:57.323Z"
   },
   {
    "duration": 22,
    "start_time": "2023-01-21T08:20:57.351Z"
   },
   {
    "duration": 133,
    "start_time": "2023-01-21T08:20:57.374Z"
   },
   {
    "duration": 0,
    "start_time": "2023-01-21T08:20:57.509Z"
   },
   {
    "duration": 0,
    "start_time": "2023-01-21T08:20:57.510Z"
   },
   {
    "duration": 0,
    "start_time": "2023-01-21T08:20:57.511Z"
   },
   {
    "duration": 0,
    "start_time": "2023-01-21T08:20:57.512Z"
   },
   {
    "duration": 0,
    "start_time": "2023-01-21T08:20:57.513Z"
   },
   {
    "duration": 0,
    "start_time": "2023-01-21T08:20:57.514Z"
   },
   {
    "duration": 0,
    "start_time": "2023-01-21T08:20:57.515Z"
   },
   {
    "duration": 0,
    "start_time": "2023-01-21T08:20:57.516Z"
   },
   {
    "duration": 0,
    "start_time": "2023-01-21T08:20:57.517Z"
   },
   {
    "duration": 0,
    "start_time": "2023-01-21T08:20:57.518Z"
   },
   {
    "duration": 0,
    "start_time": "2023-01-21T08:20:57.538Z"
   },
   {
    "duration": 0,
    "start_time": "2023-01-21T08:20:57.538Z"
   },
   {
    "duration": 0,
    "start_time": "2023-01-21T08:20:57.539Z"
   },
   {
    "duration": 0,
    "start_time": "2023-01-21T08:20:57.540Z"
   },
   {
    "duration": 0,
    "start_time": "2023-01-21T08:20:57.541Z"
   },
   {
    "duration": 0,
    "start_time": "2023-01-21T08:20:57.543Z"
   },
   {
    "duration": 0,
    "start_time": "2023-01-21T08:20:57.543Z"
   },
   {
    "duration": 0,
    "start_time": "2023-01-21T08:20:57.544Z"
   },
   {
    "duration": 0,
    "start_time": "2023-01-21T08:20:57.545Z"
   },
   {
    "duration": 135,
    "start_time": "2023-01-21T08:32:26.427Z"
   },
   {
    "duration": 4,
    "start_time": "2023-01-21T08:32:29.710Z"
   },
   {
    "duration": 120,
    "start_time": "2023-01-21T08:32:30.698Z"
   },
   {
    "duration": 5,
    "start_time": "2023-01-21T08:32:31.074Z"
   },
   {
    "duration": 188,
    "start_time": "2023-01-21T08:32:34.692Z"
   },
   {
    "duration": 19,
    "start_time": "2023-01-21T08:33:38.075Z"
   },
   {
    "duration": 160,
    "start_time": "2023-01-21T08:33:41.016Z"
   },
   {
    "duration": 167,
    "start_time": "2023-01-21T08:33:42.510Z"
   },
   {
    "duration": 218,
    "start_time": "2023-01-21T08:33:50.978Z"
   },
   {
    "duration": 1053,
    "start_time": "2023-01-21T08:34:14.257Z"
   },
   {
    "duration": 62,
    "start_time": "2023-01-21T08:34:15.312Z"
   },
   {
    "duration": 20,
    "start_time": "2023-01-21T08:34:15.375Z"
   },
   {
    "duration": 15,
    "start_time": "2023-01-21T08:34:15.396Z"
   },
   {
    "duration": 8,
    "start_time": "2023-01-21T08:34:15.413Z"
   },
   {
    "duration": 39,
    "start_time": "2023-01-21T08:34:15.423Z"
   },
   {
    "duration": 6,
    "start_time": "2023-01-21T08:34:15.464Z"
   },
   {
    "duration": 12,
    "start_time": "2023-01-21T08:34:15.471Z"
   },
   {
    "duration": 9,
    "start_time": "2023-01-21T08:34:15.484Z"
   },
   {
    "duration": 13,
    "start_time": "2023-01-21T08:34:15.495Z"
   },
   {
    "duration": 8,
    "start_time": "2023-01-21T08:34:15.509Z"
   },
   {
    "duration": 32,
    "start_time": "2023-01-21T08:34:15.518Z"
   },
   {
    "duration": 349,
    "start_time": "2023-01-21T08:34:15.552Z"
   },
   {
    "duration": 12,
    "start_time": "2023-01-21T08:34:15.904Z"
   },
   {
    "duration": 302,
    "start_time": "2023-01-21T08:34:15.917Z"
   },
   {
    "duration": 544,
    "start_time": "2023-01-21T08:34:16.221Z"
   },
   {
    "duration": 373,
    "start_time": "2023-01-21T08:34:16.766Z"
   },
   {
    "duration": 302,
    "start_time": "2023-01-21T08:34:17.140Z"
   },
   {
    "duration": 298,
    "start_time": "2023-01-21T08:34:17.444Z"
   },
   {
    "duration": 242,
    "start_time": "2023-01-21T08:34:17.744Z"
   },
   {
    "duration": 145,
    "start_time": "2023-01-21T08:34:17.988Z"
   },
   {
    "duration": 153,
    "start_time": "2023-01-21T08:34:18.136Z"
   },
   {
    "duration": 158,
    "start_time": "2023-01-21T08:34:18.291Z"
   },
   {
    "duration": 156,
    "start_time": "2023-01-21T08:34:18.451Z"
   },
   {
    "duration": 7,
    "start_time": "2023-01-21T08:34:18.608Z"
   },
   {
    "duration": 240,
    "start_time": "2023-01-21T08:34:18.616Z"
   },
   {
    "duration": 24,
    "start_time": "2023-01-21T08:34:18.858Z"
   },
   {
    "duration": 24,
    "start_time": "2023-01-21T08:34:18.883Z"
   },
   {
    "duration": 116,
    "start_time": "2023-01-21T08:34:18.908Z"
   },
   {
    "duration": 0,
    "start_time": "2023-01-21T08:34:19.026Z"
   },
   {
    "duration": 0,
    "start_time": "2023-01-21T08:34:19.027Z"
   },
   {
    "duration": 0,
    "start_time": "2023-01-21T08:34:19.028Z"
   },
   {
    "duration": 0,
    "start_time": "2023-01-21T08:34:19.029Z"
   },
   {
    "duration": 0,
    "start_time": "2023-01-21T08:34:19.037Z"
   },
   {
    "duration": 0,
    "start_time": "2023-01-21T08:34:19.038Z"
   },
   {
    "duration": 0,
    "start_time": "2023-01-21T08:34:19.039Z"
   },
   {
    "duration": 0,
    "start_time": "2023-01-21T08:34:19.040Z"
   },
   {
    "duration": 0,
    "start_time": "2023-01-21T08:34:19.041Z"
   },
   {
    "duration": 0,
    "start_time": "2023-01-21T08:34:19.042Z"
   },
   {
    "duration": 0,
    "start_time": "2023-01-21T08:34:19.042Z"
   },
   {
    "duration": 0,
    "start_time": "2023-01-21T08:34:19.043Z"
   },
   {
    "duration": 0,
    "start_time": "2023-01-21T08:34:19.044Z"
   },
   {
    "duration": 0,
    "start_time": "2023-01-21T08:34:19.045Z"
   },
   {
    "duration": 0,
    "start_time": "2023-01-21T08:34:19.046Z"
   },
   {
    "duration": 0,
    "start_time": "2023-01-21T08:34:19.047Z"
   },
   {
    "duration": 0,
    "start_time": "2023-01-21T08:34:19.048Z"
   },
   {
    "duration": 0,
    "start_time": "2023-01-21T08:34:19.048Z"
   },
   {
    "duration": 0,
    "start_time": "2023-01-21T08:34:19.049Z"
   },
   {
    "duration": 122,
    "start_time": "2023-01-21T08:34:37.956Z"
   },
   {
    "duration": 4,
    "start_time": "2023-01-21T08:34:38.263Z"
   },
   {
    "duration": 118,
    "start_time": "2023-01-21T08:34:38.659Z"
   },
   {
    "duration": 4,
    "start_time": "2023-01-21T08:34:39.052Z"
   },
   {
    "duration": 49,
    "start_time": "2023-01-21T09:35:12.384Z"
   },
   {
    "duration": 7,
    "start_time": "2023-01-21T09:36:25.715Z"
   },
   {
    "duration": 6,
    "start_time": "2023-01-21T09:36:25.894Z"
   },
   {
    "duration": 8,
    "start_time": "2023-01-21T09:36:26.089Z"
   },
   {
    "duration": 5,
    "start_time": "2023-01-21T09:36:26.966Z"
   },
   {
    "duration": 7,
    "start_time": "2023-01-21T09:36:27.166Z"
   },
   {
    "duration": 6,
    "start_time": "2023-01-21T09:36:27.363Z"
   },
   {
    "duration": 6,
    "start_time": "2023-01-21T09:36:27.552Z"
   },
   {
    "duration": 1417,
    "start_time": "2023-01-21T09:36:45.900Z"
   },
   {
    "duration": 118,
    "start_time": "2023-01-21T09:36:47.319Z"
   },
   {
    "duration": 25,
    "start_time": "2023-01-21T09:36:47.438Z"
   },
   {
    "duration": 14,
    "start_time": "2023-01-21T09:36:48.706Z"
   },
   {
    "duration": 10,
    "start_time": "2023-01-21T09:36:48.916Z"
   },
   {
    "duration": 26,
    "start_time": "2023-01-21T09:36:49.166Z"
   },
   {
    "duration": 8,
    "start_time": "2023-01-21T09:36:50.414Z"
   },
   {
    "duration": 5,
    "start_time": "2023-01-21T09:36:50.633Z"
   },
   {
    "duration": 9,
    "start_time": "2023-01-21T09:36:53.385Z"
   },
   {
    "duration": 15,
    "start_time": "2023-01-21T09:37:27.482Z"
   },
   {
    "duration": 11,
    "start_time": "2023-01-21T09:37:28.338Z"
   },
   {
    "duration": 23,
    "start_time": "2023-01-21T09:37:29.006Z"
   },
   {
    "duration": 350,
    "start_time": "2023-01-21T09:37:30.473Z"
   },
   {
    "duration": 15,
    "start_time": "2023-01-21T09:37:31.601Z"
   },
   {
    "duration": 295,
    "start_time": "2023-01-21T09:37:32.758Z"
   },
   {
    "duration": 343,
    "start_time": "2023-01-21T09:37:34.569Z"
   },
   {
    "duration": 168,
    "start_time": "2023-01-21T09:37:35.732Z"
   },
   {
    "duration": 172,
    "start_time": "2023-01-21T09:37:36.115Z"
   },
   {
    "duration": 174,
    "start_time": "2023-01-21T09:37:36.477Z"
   },
   {
    "duration": 248,
    "start_time": "2023-01-21T09:37:36.840Z"
   },
   {
    "duration": 157,
    "start_time": "2023-01-21T09:37:37.909Z"
   },
   {
    "duration": 179,
    "start_time": "2023-01-21T09:37:38.338Z"
   },
   {
    "duration": 156,
    "start_time": "2023-01-21T09:37:39.420Z"
   },
   {
    "duration": 179,
    "start_time": "2023-01-21T09:37:40.483Z"
   },
   {
    "duration": 7,
    "start_time": "2023-01-21T09:37:49.048Z"
   },
   {
    "duration": 271,
    "start_time": "2023-01-21T09:37:50.442Z"
   },
   {
    "duration": 212,
    "start_time": "2023-01-21T09:37:52.016Z"
   },
   {
    "duration": 72,
    "start_time": "2023-01-21T09:41:44.942Z"
   },
   {
    "duration": 16,
    "start_time": "2023-01-21T09:42:01.697Z"
   },
   {
    "duration": 2048,
    "start_time": "2023-01-21T09:45:16.565Z"
   },
   {
    "duration": 19,
    "start_time": "2023-01-21T09:45:33.550Z"
   },
   {
    "duration": 18,
    "start_time": "2023-01-21T09:46:34.736Z"
   },
   {
    "duration": 97535,
    "start_time": "2023-01-21T09:46:48.430Z"
   },
   {
    "duration": 4,
    "start_time": "2023-01-21T09:50:50.427Z"
   },
   {
    "duration": 58,
    "start_time": "2023-01-21T09:50:50.601Z"
   },
   {
    "duration": 23,
    "start_time": "2023-01-21T09:50:52.088Z"
   },
   {
    "duration": 14,
    "start_time": "2023-01-21T09:50:53.527Z"
   },
   {
    "duration": 12,
    "start_time": "2023-01-21T09:50:53.721Z"
   },
   {
    "duration": 34,
    "start_time": "2023-01-21T09:50:53.936Z"
   },
   {
    "duration": 9,
    "start_time": "2023-01-21T09:50:55.321Z"
   },
   {
    "duration": 3,
    "start_time": "2023-01-21T09:50:55.472Z"
   },
   {
    "duration": 4,
    "start_time": "2023-01-21T09:50:55.600Z"
   },
   {
    "duration": 21,
    "start_time": "2023-01-21T09:50:58.477Z"
   },
   {
    "duration": 10,
    "start_time": "2023-01-21T09:52:23.971Z"
   },
   {
    "duration": 16,
    "start_time": "2023-01-21T09:52:31.916Z"
   },
   {
    "duration": 6,
    "start_time": "2023-01-21T09:52:46.082Z"
   },
   {
    "duration": 17,
    "start_time": "2023-01-21T09:52:50.099Z"
   },
   {
    "duration": 9,
    "start_time": "2023-01-21T09:52:56.000Z"
   },
   {
    "duration": 22,
    "start_time": "2023-01-21T09:54:00.740Z"
   },
   {
    "duration": 3391,
    "start_time": "2023-01-21T09:54:03.084Z"
   },
   {
    "duration": 23,
    "start_time": "2023-01-21T09:54:06.476Z"
   },
   {
    "duration": 295,
    "start_time": "2023-01-21T09:54:06.501Z"
   },
   {
    "duration": 280,
    "start_time": "2023-01-21T09:54:07.336Z"
   },
   {
    "duration": 181,
    "start_time": "2023-01-21T09:54:07.618Z"
   },
   {
    "duration": 170,
    "start_time": "2023-01-21T09:54:07.800Z"
   },
   {
    "duration": 151,
    "start_time": "2023-01-21T09:54:08.063Z"
   },
   {
    "duration": 177,
    "start_time": "2023-01-21T09:54:08.252Z"
   },
   {
    "duration": 150,
    "start_time": "2023-01-21T09:54:08.436Z"
   },
   {
    "duration": 162,
    "start_time": "2023-01-21T09:54:08.789Z"
   },
   {
    "duration": 157,
    "start_time": "2023-01-21T09:54:09.168Z"
   },
   {
    "duration": 159,
    "start_time": "2023-01-21T09:54:10.514Z"
   },
   {
    "duration": 12336,
    "start_time": "2023-01-21T09:54:11.663Z"
   },
   {
    "duration": 26,
    "start_time": "2023-01-21T09:57:37.472Z"
   },
   {
    "duration": 26,
    "start_time": "2023-01-21T09:57:55.072Z"
   },
   {
    "duration": 74,
    "start_time": "2023-01-21T09:58:08.500Z"
   },
   {
    "duration": 156,
    "start_time": "2023-01-21T09:58:38.508Z"
   },
   {
    "duration": 20,
    "start_time": "2023-01-21T10:00:05.294Z"
   },
   {
    "duration": 21,
    "start_time": "2023-01-21T10:00:30.966Z"
   },
   {
    "duration": 1284,
    "start_time": "2023-01-21T10:04:32.062Z"
   },
   {
    "duration": 235,
    "start_time": "2023-01-21T10:05:13.364Z"
   },
   {
    "duration": 16,
    "start_time": "2023-01-21T10:09:33.209Z"
   },
   {
    "duration": 172,
    "start_time": "2023-01-21T10:10:13.720Z"
   },
   {
    "duration": 23,
    "start_time": "2023-01-21T10:11:12.201Z"
   },
   {
    "duration": 1212,
    "start_time": "2023-01-21T10:15:17.699Z"
   },
   {
    "duration": 154,
    "start_time": "2023-01-21T10:15:31.658Z"
   },
   {
    "duration": 127,
    "start_time": "2023-01-21T10:17:01.617Z"
   },
   {
    "duration": 13,
    "start_time": "2023-01-21T10:25:11.021Z"
   },
   {
    "duration": 32,
    "start_time": "2023-01-21T10:25:18.248Z"
   },
   {
    "duration": 5,
    "start_time": "2023-01-21T10:25:55.015Z"
   },
   {
    "duration": 3,
    "start_time": "2023-01-21T10:26:29.314Z"
   },
   {
    "duration": 61,
    "start_time": "2023-01-21T10:26:29.515Z"
   },
   {
    "duration": 20,
    "start_time": "2023-01-21T10:26:30.985Z"
   },
   {
    "duration": 14,
    "start_time": "2023-01-21T10:26:32.267Z"
   },
   {
    "duration": 9,
    "start_time": "2023-01-21T10:26:32.519Z"
   },
   {
    "duration": 25,
    "start_time": "2023-01-21T10:26:32.746Z"
   },
   {
    "duration": 12,
    "start_time": "2023-01-21T10:26:33.898Z"
   },
   {
    "duration": 2,
    "start_time": "2023-01-21T10:26:34.161Z"
   },
   {
    "duration": 6,
    "start_time": "2023-01-21T10:26:34.320Z"
   },
   {
    "duration": 17,
    "start_time": "2023-01-21T10:26:34.620Z"
   },
   {
    "duration": 9,
    "start_time": "2023-01-21T10:26:35.259Z"
   },
   {
    "duration": 34,
    "start_time": "2023-01-21T10:26:48.826Z"
   },
   {
    "duration": 340,
    "start_time": "2023-01-21T10:26:54.523Z"
   },
   {
    "duration": 19,
    "start_time": "2023-01-21T10:26:58.446Z"
   },
   {
    "duration": 299,
    "start_time": "2023-01-21T10:26:59.845Z"
   },
   {
    "duration": 304,
    "start_time": "2023-01-21T10:27:02.595Z"
   },
   {
    "duration": 166,
    "start_time": "2023-01-21T10:27:04.307Z"
   },
   {
    "duration": 155,
    "start_time": "2023-01-21T10:27:06.020Z"
   },
   {
    "duration": 179,
    "start_time": "2023-01-21T10:27:07.703Z"
   },
   {
    "duration": 182,
    "start_time": "2023-01-21T10:27:09.538Z"
   },
   {
    "duration": 153,
    "start_time": "2023-01-21T10:27:10.265Z"
   },
   {
    "duration": 215,
    "start_time": "2023-01-21T10:27:12.339Z"
   },
   {
    "duration": 176,
    "start_time": "2023-01-21T10:27:14.126Z"
   },
   {
    "duration": 167,
    "start_time": "2023-01-21T10:27:16.041Z"
   },
   {
    "duration": 174,
    "start_time": "2023-01-21T10:27:17.607Z"
   },
   {
    "duration": 33,
    "start_time": "2023-01-21T10:27:46.088Z"
   },
   {
    "duration": 6,
    "start_time": "2023-01-21T10:28:09.620Z"
   },
   {
    "duration": 260,
    "start_time": "2023-01-21T10:35:09.010Z"
   },
   {
    "duration": 159,
    "start_time": "2023-01-21T10:35:21.023Z"
   },
   {
    "duration": 5,
    "start_time": "2023-01-21T10:36:18.904Z"
   },
   {
    "duration": 167,
    "start_time": "2023-01-21T10:38:10.941Z"
   },
   {
    "duration": 190,
    "start_time": "2023-01-21T10:41:42.877Z"
   },
   {
    "duration": 173,
    "start_time": "2023-01-21T10:42:18.357Z"
   },
   {
    "duration": 72,
    "start_time": "2023-01-21T10:42:47.793Z"
   },
   {
    "duration": 15,
    "start_time": "2023-01-21T10:42:53.039Z"
   },
   {
    "duration": 176,
    "start_time": "2023-01-21T10:43:00.095Z"
   },
   {
    "duration": 7,
    "start_time": "2023-01-21T10:43:18.080Z"
   },
   {
    "duration": 237,
    "start_time": "2023-01-21T10:43:18.768Z"
   },
   {
    "duration": 212,
    "start_time": "2023-01-21T10:43:19.050Z"
   },
   {
    "duration": 33,
    "start_time": "2023-01-21T10:43:51.904Z"
   },
   {
    "duration": 13,
    "start_time": "2023-01-21T10:44:57.790Z"
   },
   {
    "duration": 39,
    "start_time": "2023-01-21T10:45:15.121Z"
   },
   {
    "duration": 15,
    "start_time": "2023-01-21T10:49:15.882Z"
   },
   {
    "duration": 14,
    "start_time": "2023-01-21T10:49:43.486Z"
   },
   {
    "duration": 47,
    "start_time": "2023-01-21T10:52:54.704Z"
   },
   {
    "duration": 60,
    "start_time": "2023-01-21T10:53:18.213Z"
   },
   {
    "duration": 70,
    "start_time": "2023-01-21T10:53:28.365Z"
   },
   {
    "duration": 76,
    "start_time": "2023-01-21T10:54:01.238Z"
   },
   {
    "duration": 70,
    "start_time": "2023-01-21T10:54:52.792Z"
   },
   {
    "duration": 50,
    "start_time": "2023-01-21T10:55:08.442Z"
   },
   {
    "duration": 3,
    "start_time": "2023-01-21T10:58:51.543Z"
   },
   {
    "duration": 13,
    "start_time": "2023-01-21T11:00:20.446Z"
   },
   {
    "duration": 4,
    "start_time": "2023-01-21T11:02:18.781Z"
   },
   {
    "duration": 75,
    "start_time": "2023-01-21T11:03:52.576Z"
   },
   {
    "duration": 71,
    "start_time": "2023-01-21T11:03:58.343Z"
   },
   {
    "duration": 48,
    "start_time": "2023-01-21T11:04:05.572Z"
   },
   {
    "duration": 14,
    "start_time": "2023-01-21T11:04:33.416Z"
   },
   {
    "duration": 4,
    "start_time": "2023-01-21T11:07:10.442Z"
   },
   {
    "duration": 57,
    "start_time": "2023-01-21T11:07:15.555Z"
   },
   {
    "duration": 17,
    "start_time": "2023-01-21T11:07:31.632Z"
   },
   {
    "duration": 8,
    "start_time": "2023-01-21T11:07:39.544Z"
   },
   {
    "duration": 4,
    "start_time": "2023-01-21T11:08:03.422Z"
   },
   {
    "duration": 10,
    "start_time": "2023-01-21T11:08:04.174Z"
   },
   {
    "duration": 25,
    "start_time": "2023-01-21T11:09:03.616Z"
   },
   {
    "duration": 9,
    "start_time": "2023-01-21T11:09:04.678Z"
   },
   {
    "duration": 6,
    "start_time": "2023-01-21T11:09:21.248Z"
   },
   {
    "duration": 9,
    "start_time": "2023-01-21T11:09:22.597Z"
   },
   {
    "duration": 36,
    "start_time": "2023-01-21T11:09:33.057Z"
   },
   {
    "duration": 9,
    "start_time": "2023-01-21T11:09:50.338Z"
   },
   {
    "duration": 8,
    "start_time": "2023-01-21T11:09:51.055Z"
   },
   {
    "duration": 38,
    "start_time": "2023-01-21T11:09:56.515Z"
   },
   {
    "duration": 127,
    "start_time": "2023-01-21T11:11:04.554Z"
   },
   {
    "duration": 5,
    "start_time": "2023-01-21T11:11:06.332Z"
   },
   {
    "duration": 502,
    "start_time": "2023-01-21T11:11:07.687Z"
   },
   {
    "duration": 5,
    "start_time": "2023-01-21T11:11:08.680Z"
   },
   {
    "duration": 13,
    "start_time": "2023-01-21T11:13:53.647Z"
   },
   {
    "duration": 14,
    "start_time": "2023-01-21T11:13:56.031Z"
   },
   {
    "duration": 5,
    "start_time": "2023-01-21T11:13:56.995Z"
   },
   {
    "duration": 14,
    "start_time": "2023-01-21T11:16:20.120Z"
   },
   {
    "duration": 12,
    "start_time": "2023-01-21T11:16:29.147Z"
   },
   {
    "duration": 13,
    "start_time": "2023-01-21T11:16:40.080Z"
   },
   {
    "duration": 9,
    "start_time": "2023-01-21T11:17:35.660Z"
   },
   {
    "duration": 39,
    "start_time": "2023-01-21T11:17:36.484Z"
   },
   {
    "duration": 7,
    "start_time": "2023-01-21T11:17:49.210Z"
   },
   {
    "duration": 13,
    "start_time": "2023-01-21T11:17:51.193Z"
   },
   {
    "duration": 14,
    "start_time": "2023-01-21T11:18:11.658Z"
   },
   {
    "duration": 11,
    "start_time": "2023-01-21T11:18:26.257Z"
   },
   {
    "duration": 212,
    "start_time": "2023-01-21T11:27:36.776Z"
   },
   {
    "duration": 11,
    "start_time": "2023-01-21T11:29:59.254Z"
   },
   {
    "duration": 11,
    "start_time": "2023-01-21T11:32:24.703Z"
   },
   {
    "duration": 13,
    "start_time": "2023-01-21T11:33:43.306Z"
   },
   {
    "duration": 3,
    "start_time": "2023-01-21T12:50:42.641Z"
   },
   {
    "duration": 63,
    "start_time": "2023-01-21T12:50:42.817Z"
   },
   {
    "duration": 26,
    "start_time": "2023-01-21T12:50:44.690Z"
   },
   {
    "duration": 15,
    "start_time": "2023-01-21T12:50:46.283Z"
   },
   {
    "duration": 10,
    "start_time": "2023-01-21T12:50:46.560Z"
   },
   {
    "duration": 30,
    "start_time": "2023-01-21T12:50:46.814Z"
   },
   {
    "duration": 9,
    "start_time": "2023-01-21T12:50:48.358Z"
   },
   {
    "duration": 2,
    "start_time": "2023-01-21T12:50:48.578Z"
   },
   {
    "duration": 6,
    "start_time": "2023-01-21T12:50:48.702Z"
   },
   {
    "duration": 16,
    "start_time": "2023-01-21T12:50:49.004Z"
   },
   {
    "duration": 9,
    "start_time": "2023-01-21T12:50:49.229Z"
   },
   {
    "duration": 23,
    "start_time": "2023-01-21T12:50:49.519Z"
   },
   {
    "duration": 333,
    "start_time": "2023-01-21T12:50:51.099Z"
   },
   {
    "duration": 16,
    "start_time": "2023-01-21T12:50:52.302Z"
   },
   {
    "duration": 327,
    "start_time": "2023-01-21T12:50:53.717Z"
   },
   {
    "duration": 308,
    "start_time": "2023-01-21T12:50:55.914Z"
   },
   {
    "duration": 161,
    "start_time": "2023-01-21T12:50:58.943Z"
   },
   {
    "duration": 160,
    "start_time": "2023-01-21T12:51:00.885Z"
   },
   {
    "duration": 148,
    "start_time": "2023-01-21T12:51:01.965Z"
   },
   {
    "duration": 164,
    "start_time": "2023-01-21T12:51:03.215Z"
   },
   {
    "duration": 201,
    "start_time": "2023-01-21T12:51:03.938Z"
   },
   {
    "duration": 163,
    "start_time": "2023-01-21T12:51:05.908Z"
   },
   {
    "duration": 150,
    "start_time": "2023-01-21T12:51:07.673Z"
   },
   {
    "duration": 164,
    "start_time": "2023-01-21T12:51:09.393Z"
   },
   {
    "duration": 228,
    "start_time": "2023-01-21T12:51:13.778Z"
   },
   {
    "duration": 200,
    "start_time": "2023-01-21T12:51:45.870Z"
   },
   {
    "duration": 8,
    "start_time": "2023-01-21T12:51:58.198Z"
   },
   {
    "duration": 231,
    "start_time": "2023-01-21T12:51:58.946Z"
   },
   {
    "duration": 224,
    "start_time": "2023-01-21T12:52:01.400Z"
   },
   {
    "duration": 2,
    "start_time": "2023-01-21T12:52:08.763Z"
   },
   {
    "duration": 68,
    "start_time": "2023-01-21T12:52:20.585Z"
   },
   {
    "duration": 15,
    "start_time": "2023-01-21T12:53:27.465Z"
   },
   {
    "duration": 14,
    "start_time": "2023-01-21T12:53:36.349Z"
   },
   {
    "duration": 23,
    "start_time": "2023-01-21T12:53:47.910Z"
   },
   {
    "duration": 13,
    "start_time": "2023-01-21T12:54:17.515Z"
   },
   {
    "duration": 17,
    "start_time": "2023-01-21T12:54:24.065Z"
   },
   {
    "duration": 16,
    "start_time": "2023-01-21T12:55:35.849Z"
   },
   {
    "duration": 13,
    "start_time": "2023-01-21T12:55:41.567Z"
   },
   {
    "duration": 10,
    "start_time": "2023-01-21T12:59:39.938Z"
   },
   {
    "duration": 10,
    "start_time": "2023-01-21T12:59:59.597Z"
   },
   {
    "duration": 10,
    "start_time": "2023-01-21T13:05:49.156Z"
   },
   {
    "duration": 7,
    "start_time": "2023-01-21T13:06:49.223Z"
   },
   {
    "duration": 24,
    "start_time": "2023-01-21T13:07:16.760Z"
   },
   {
    "duration": 6,
    "start_time": "2023-01-21T13:07:38.631Z"
   },
   {
    "duration": 23,
    "start_time": "2023-01-21T13:07:55.962Z"
   },
   {
    "duration": 10,
    "start_time": "2023-01-21T13:09:40.947Z"
   },
   {
    "duration": 10,
    "start_time": "2023-01-21T13:09:56.621Z"
   },
   {
    "duration": 70,
    "start_time": "2023-01-21T13:10:49.723Z"
   },
   {
    "duration": 4,
    "start_time": "2023-01-21T13:12:31.371Z"
   },
   {
    "duration": 20,
    "start_time": "2023-01-21T13:12:49.262Z"
   },
   {
    "duration": 10,
    "start_time": "2023-01-21T13:16:31.695Z"
   },
   {
    "duration": 1085,
    "start_time": "2023-01-21T13:17:17.143Z"
   },
   {
    "duration": 34,
    "start_time": "2023-01-21T13:17:42.231Z"
   },
   {
    "duration": 32,
    "start_time": "2023-01-21T13:18:05.885Z"
   },
   {
    "duration": 4,
    "start_time": "2023-01-21T13:20:55.578Z"
   },
   {
    "duration": 62,
    "start_time": "2023-01-21T13:20:55.742Z"
   },
   {
    "duration": 23,
    "start_time": "2023-01-21T13:20:57.162Z"
   },
   {
    "duration": 15,
    "start_time": "2023-01-21T13:20:58.407Z"
   },
   {
    "duration": 9,
    "start_time": "2023-01-21T13:20:58.602Z"
   },
   {
    "duration": 26,
    "start_time": "2023-01-21T13:20:58.825Z"
   },
   {
    "duration": 8,
    "start_time": "2023-01-21T13:21:00.152Z"
   },
   {
    "duration": 3,
    "start_time": "2023-01-21T13:21:00.351Z"
   },
   {
    "duration": 7,
    "start_time": "2023-01-21T13:21:00.487Z"
   },
   {
    "duration": 79,
    "start_time": "2023-01-21T13:21:01.398Z"
   },
   {
    "duration": 23,
    "start_time": "2023-01-21T13:21:10.848Z"
   },
   {
    "duration": 10,
    "start_time": "2023-01-21T13:21:17.607Z"
   },
   {
    "duration": 24,
    "start_time": "2023-01-21T13:21:22.114Z"
   },
   {
    "duration": 306,
    "start_time": "2023-01-21T13:21:28.004Z"
   },
   {
    "duration": 14,
    "start_time": "2023-01-21T13:21:28.734Z"
   },
   {
    "duration": 306,
    "start_time": "2023-01-21T13:21:31.966Z"
   },
   {
    "duration": 285,
    "start_time": "2023-01-21T13:21:32.577Z"
   },
   {
    "duration": 195,
    "start_time": "2023-01-21T13:21:35.791Z"
   },
   {
    "duration": 168,
    "start_time": "2023-01-21T13:21:36.141Z"
   },
   {
    "duration": 149,
    "start_time": "2023-01-21T13:21:39.333Z"
   },
   {
    "duration": 172,
    "start_time": "2023-01-21T13:21:42.498Z"
   },
   {
    "duration": 194,
    "start_time": "2023-01-21T13:21:44.957Z"
   },
   {
    "duration": 183,
    "start_time": "2023-01-21T13:21:46.569Z"
   },
   {
    "duration": 800,
    "start_time": "2023-01-21T13:21:49.897Z"
   },
   {
    "duration": 163,
    "start_time": "2023-01-21T13:21:50.914Z"
   },
   {
    "duration": 209,
    "start_time": "2023-01-21T13:21:53.981Z"
   },
   {
    "duration": 8,
    "start_time": "2023-01-21T13:22:01.232Z"
   },
   {
    "duration": 295,
    "start_time": "2023-01-21T13:22:03.885Z"
   },
   {
    "duration": 226,
    "start_time": "2023-01-21T13:22:04.181Z"
   },
   {
    "duration": 2,
    "start_time": "2023-01-21T13:22:11.099Z"
   },
   {
    "duration": 4,
    "start_time": "2023-01-21T13:22:12.109Z"
   },
   {
    "duration": 37,
    "start_time": "2023-01-21T13:22:12.924Z"
   },
   {
    "duration": 4,
    "start_time": "2023-01-21T13:24:00.554Z"
   },
   {
    "duration": 12,
    "start_time": "2023-01-21T13:24:09.797Z"
   },
   {
    "duration": 7,
    "start_time": "2023-01-21T13:24:27.331Z"
   },
   {
    "duration": 15,
    "start_time": "2023-01-21T13:24:27.945Z"
   },
   {
    "duration": 21,
    "start_time": "2023-01-21T13:24:55.089Z"
   },
   {
    "duration": 9,
    "start_time": "2023-01-21T13:25:07.921Z"
   },
   {
    "duration": 23,
    "start_time": "2023-01-21T13:25:08.421Z"
   },
   {
    "duration": 339,
    "start_time": "2023-01-21T13:25:14.737Z"
   },
   {
    "duration": 13,
    "start_time": "2023-01-21T13:25:16.110Z"
   },
   {
    "duration": 285,
    "start_time": "2023-01-21T13:25:17.609Z"
   },
   {
    "duration": 277,
    "start_time": "2023-01-21T13:25:17.899Z"
   },
   {
    "duration": 158,
    "start_time": "2023-01-21T13:25:20.851Z"
   },
   {
    "duration": 252,
    "start_time": "2023-01-21T13:25:21.248Z"
   },
   {
    "duration": 156,
    "start_time": "2023-01-21T13:25:22.085Z"
   },
   {
    "duration": 169,
    "start_time": "2023-01-21T13:25:23.122Z"
   },
   {
    "duration": 153,
    "start_time": "2023-01-21T13:25:23.304Z"
   },
   {
    "duration": 160,
    "start_time": "2023-01-21T13:25:24.788Z"
   },
   {
    "duration": 162,
    "start_time": "2023-01-21T13:25:25.909Z"
   },
   {
    "duration": 158,
    "start_time": "2023-01-21T13:25:27.235Z"
   },
   {
    "duration": 173,
    "start_time": "2023-01-21T13:25:28.304Z"
   },
   {
    "duration": 8,
    "start_time": "2023-01-21T13:25:36.422Z"
   },
   {
    "duration": 238,
    "start_time": "2023-01-21T13:25:37.335Z"
   },
   {
    "duration": 224,
    "start_time": "2023-01-21T13:25:37.575Z"
   },
   {
    "duration": 3,
    "start_time": "2023-01-21T13:25:38.173Z"
   },
   {
    "duration": 3,
    "start_time": "2023-01-21T13:25:40.625Z"
   },
   {
    "duration": 35,
    "start_time": "2023-01-21T13:25:41.518Z"
   },
   {
    "duration": 42,
    "start_time": "2023-01-21T13:27:20.061Z"
   },
   {
    "duration": 41,
    "start_time": "2023-01-21T13:27:36.648Z"
   },
   {
    "duration": 68,
    "start_time": "2023-01-21T14:22:57.559Z"
   },
   {
    "duration": 172,
    "start_time": "2023-01-21T14:40:51.804Z"
   },
   {
    "duration": 249,
    "start_time": "2023-01-21T14:42:29.750Z"
   },
   {
    "duration": 3,
    "start_time": "2023-01-21T14:44:42.717Z"
   },
   {
    "duration": 62,
    "start_time": "2023-01-21T14:44:42.925Z"
   },
   {
    "duration": 24,
    "start_time": "2023-01-21T14:44:44.597Z"
   },
   {
    "duration": 13,
    "start_time": "2023-01-21T14:44:46.057Z"
   },
   {
    "duration": 10,
    "start_time": "2023-01-21T14:44:46.238Z"
   },
   {
    "duration": 28,
    "start_time": "2023-01-21T14:44:46.609Z"
   },
   {
    "duration": 8,
    "start_time": "2023-01-21T14:44:48.048Z"
   },
   {
    "duration": 3,
    "start_time": "2023-01-21T14:44:48.386Z"
   },
   {
    "duration": 9,
    "start_time": "2023-01-21T14:44:48.559Z"
   },
   {
    "duration": 15,
    "start_time": "2023-01-21T14:44:48.730Z"
   },
   {
    "duration": 27,
    "start_time": "2023-01-21T14:44:49.077Z"
   },
   {
    "duration": 10,
    "start_time": "2023-01-21T14:44:49.297Z"
   },
   {
    "duration": 23,
    "start_time": "2023-01-21T14:44:52.246Z"
   },
   {
    "duration": 305,
    "start_time": "2023-01-21T14:44:55.168Z"
   },
   {
    "duration": 14,
    "start_time": "2023-01-21T14:44:57.276Z"
   },
   {
    "duration": 292,
    "start_time": "2023-01-21T14:44:58.493Z"
   },
   {
    "duration": 297,
    "start_time": "2023-01-21T14:45:00.756Z"
   },
   {
    "duration": 158,
    "start_time": "2023-01-21T14:45:02.380Z"
   },
   {
    "duration": 170,
    "start_time": "2023-01-21T14:45:04.039Z"
   },
   {
    "duration": 154,
    "start_time": "2023-01-21T14:45:05.867Z"
   },
   {
    "duration": 182,
    "start_time": "2023-01-21T14:45:06.988Z"
   },
   {
    "duration": 147,
    "start_time": "2023-01-21T14:45:07.491Z"
   },
   {
    "duration": 253,
    "start_time": "2023-01-21T14:45:08.988Z"
   },
   {
    "duration": 147,
    "start_time": "2023-01-21T14:45:10.645Z"
   },
   {
    "duration": 223,
    "start_time": "2023-01-21T14:45:12.552Z"
   },
   {
    "duration": 179,
    "start_time": "2023-01-21T14:45:14.206Z"
   },
   {
    "duration": 157,
    "start_time": "2023-01-21T14:45:15.809Z"
   },
   {
    "duration": 177,
    "start_time": "2023-01-21T14:45:17.593Z"
   },
   {
    "duration": 23,
    "start_time": "2023-01-21T14:49:08.242Z"
   },
   {
    "duration": 153,
    "start_time": "2023-01-21T14:49:29.369Z"
   },
   {
    "duration": 156,
    "start_time": "2023-01-21T14:49:37.887Z"
   },
   {
    "duration": 5,
    "start_time": "2023-01-21T14:56:55.059Z"
   },
   {
    "duration": 9,
    "start_time": "2023-01-21T14:58:14.881Z"
   },
   {
    "duration": 212,
    "start_time": "2023-01-21T14:58:25.475Z"
   },
   {
    "duration": 200,
    "start_time": "2023-01-21T14:58:28.438Z"
   },
   {
    "duration": 2,
    "start_time": "2023-01-21T14:58:34.264Z"
   },
   {
    "duration": 8,
    "start_time": "2023-01-21T14:58:51.633Z"
   },
   {
    "duration": 4,
    "start_time": "2023-01-21T14:58:52.215Z"
   },
   {
    "duration": 39,
    "start_time": "2023-01-21T14:58:53.017Z"
   },
   {
    "duration": 7,
    "start_time": "2023-01-21T14:59:19.191Z"
   },
   {
    "duration": 258,
    "start_time": "2023-01-21T14:59:19.827Z"
   },
   {
    "duration": 361,
    "start_time": "2023-01-21T14:59:22.570Z"
   },
   {
    "duration": 2,
    "start_time": "2023-01-21T14:59:29.538Z"
   },
   {
    "duration": 8,
    "start_time": "2023-01-21T14:59:46.618Z"
   },
   {
    "duration": 3,
    "start_time": "2023-01-21T14:59:47.105Z"
   },
   {
    "duration": 41,
    "start_time": "2023-01-21T14:59:48.850Z"
   },
   {
    "duration": 76,
    "start_time": "2023-01-21T15:00:12.674Z"
   },
   {
    "duration": 15,
    "start_time": "2023-01-21T15:09:22.817Z"
   },
   {
    "duration": 3,
    "start_time": "2023-01-21T15:12:38.872Z"
   },
   {
    "duration": 59,
    "start_time": "2023-01-21T15:12:39.032Z"
   },
   {
    "duration": 19,
    "start_time": "2023-01-21T15:12:40.568Z"
   },
   {
    "duration": 15,
    "start_time": "2023-01-21T15:12:42.026Z"
   },
   {
    "duration": 9,
    "start_time": "2023-01-21T15:12:43.693Z"
   },
   {
    "duration": 30,
    "start_time": "2023-01-21T15:12:45.701Z"
   },
   {
    "duration": 7,
    "start_time": "2023-01-21T15:12:49.153Z"
   },
   {
    "duration": 3,
    "start_time": "2023-01-21T15:12:51.240Z"
   },
   {
    "duration": 9,
    "start_time": "2023-01-21T15:12:54.890Z"
   },
   {
    "duration": 15,
    "start_time": "2023-01-21T15:12:55.474Z"
   },
   {
    "duration": 15,
    "start_time": "2023-01-21T15:13:05.696Z"
   },
   {
    "duration": 4,
    "start_time": "2023-01-21T15:14:17.117Z"
   },
   {
    "duration": 60,
    "start_time": "2023-01-21T15:14:17.259Z"
   },
   {
    "duration": 22,
    "start_time": "2023-01-21T15:14:18.729Z"
   },
   {
    "duration": 15,
    "start_time": "2023-01-21T15:14:20.172Z"
   },
   {
    "duration": 10,
    "start_time": "2023-01-21T15:14:20.571Z"
   },
   {
    "duration": 30,
    "start_time": "2023-01-21T15:14:22.585Z"
   },
   {
    "duration": 7,
    "start_time": "2023-01-21T15:14:26.007Z"
   },
   {
    "duration": 2,
    "start_time": "2023-01-21T15:14:28.097Z"
   },
   {
    "duration": 10,
    "start_time": "2023-01-21T15:14:28.725Z"
   },
   {
    "duration": 15,
    "start_time": "2023-01-21T15:14:30.576Z"
   },
   {
    "duration": 25,
    "start_time": "2023-01-21T15:14:33.298Z"
   },
   {
    "duration": 1374,
    "start_time": "2023-01-21T17:49:21.124Z"
   },
   {
    "duration": 228,
    "start_time": "2023-01-21T17:49:22.500Z"
   },
   {
    "duration": 22,
    "start_time": "2023-01-21T17:49:22.731Z"
   },
   {
    "duration": 16,
    "start_time": "2023-01-21T17:49:22.755Z"
   },
   {
    "duration": 13,
    "start_time": "2023-01-21T17:49:22.895Z"
   },
   {
    "duration": 34,
    "start_time": "2023-01-21T17:49:23.654Z"
   },
   {
    "duration": 9,
    "start_time": "2023-01-21T17:49:26.212Z"
   },
   {
    "duration": 12,
    "start_time": "2023-01-21T17:49:29.345Z"
   },
   {
    "duration": 20,
    "start_time": "2023-01-21T17:49:29.758Z"
   },
   {
    "duration": 31,
    "start_time": "2023-01-21T17:49:32.059Z"
   },
   {
    "duration": 8,
    "start_time": "2023-01-21T17:49:37.272Z"
   },
   {
    "duration": 32,
    "start_time": "2023-01-21T17:49:37.971Z"
   },
   {
    "duration": 436,
    "start_time": "2023-01-21T17:49:38.660Z"
   },
   {
    "duration": 20,
    "start_time": "2023-01-21T17:51:02.262Z"
   },
   {
    "duration": 460,
    "start_time": "2023-01-21T17:51:03.718Z"
   },
   {
    "duration": 457,
    "start_time": "2023-01-21T17:51:12.873Z"
   },
   {
    "duration": 173,
    "start_time": "2023-01-21T17:52:40.655Z"
   },
   {
    "duration": 196,
    "start_time": "2023-01-21T17:52:55.788Z"
   },
   {
    "duration": 299,
    "start_time": "2023-01-21T17:53:20.766Z"
   },
   {
    "duration": 243,
    "start_time": "2023-01-21T17:53:22.623Z"
   },
   {
    "duration": 200,
    "start_time": "2023-01-21T17:53:33.551Z"
   },
   {
    "duration": 171,
    "start_time": "2023-01-21T17:53:40.509Z"
   },
   {
    "duration": 309,
    "start_time": "2023-01-21T18:04:53.648Z"
   },
   {
    "duration": 374,
    "start_time": "2023-01-21T18:05:00.421Z"
   },
   {
    "duration": 352,
    "start_time": "2023-01-21T18:05:10.905Z"
   },
   {
    "duration": 401,
    "start_time": "2023-01-21T18:05:16.351Z"
   },
   {
    "duration": 1157,
    "start_time": "2023-01-21T18:06:46.097Z"
   },
   {
    "duration": 9,
    "start_time": "2023-01-21T18:07:34.269Z"
   },
   {
    "duration": 67,
    "start_time": "2023-01-21T18:07:38.329Z"
   },
   {
    "duration": 220,
    "start_time": "2023-01-21T18:07:43.953Z"
   },
   {
    "duration": 209,
    "start_time": "2023-01-21T18:08:02.454Z"
   },
   {
    "duration": 352,
    "start_time": "2023-01-21T18:08:15.983Z"
   },
   {
    "duration": 253,
    "start_time": "2023-01-21T18:10:29.369Z"
   },
   {
    "duration": 364,
    "start_time": "2023-01-21T18:11:26.395Z"
   },
   {
    "duration": 188,
    "start_time": "2023-01-21T18:12:01.009Z"
   },
   {
    "duration": 35,
    "start_time": "2023-01-21T18:18:41.665Z"
   },
   {
    "duration": 14,
    "start_time": "2023-01-21T18:18:47.852Z"
   },
   {
    "duration": 404,
    "start_time": "2023-01-21T18:18:56.626Z"
   },
   {
    "duration": 399,
    "start_time": "2023-01-21T18:18:59.662Z"
   },
   {
    "duration": 428,
    "start_time": "2023-01-21T18:19:17.798Z"
   },
   {
    "duration": 315,
    "start_time": "2023-01-21T18:33:08.262Z"
   },
   {
    "duration": 427,
    "start_time": "2023-01-21T18:33:25.338Z"
   },
   {
    "duration": 12,
    "start_time": "2023-01-21T18:34:54.038Z"
   },
   {
    "duration": 321,
    "start_time": "2023-01-21T18:34:54.998Z"
   },
   {
    "duration": 247,
    "start_time": "2023-01-21T18:35:18.040Z"
   },
   {
    "duration": 10,
    "start_time": "2023-01-21T18:35:47.116Z"
   },
   {
    "duration": 225,
    "start_time": "2023-01-21T18:35:48.949Z"
   },
   {
    "duration": 252,
    "start_time": "2023-01-21T18:35:58.845Z"
   },
   {
    "duration": 10,
    "start_time": "2023-01-21T18:38:15.755Z"
   },
   {
    "duration": 3,
    "start_time": "2023-01-21T18:38:57.965Z"
   },
   {
    "duration": 3,
    "start_time": "2023-01-21T18:39:13.484Z"
   },
   {
    "duration": 15,
    "start_time": "2023-01-21T18:39:15.250Z"
   },
   {
    "duration": 3,
    "start_time": "2023-01-21T18:40:33.493Z"
   },
   {
    "duration": 3,
    "start_time": "2023-01-21T18:40:34.637Z"
   },
   {
    "duration": 31,
    "start_time": "2023-01-21T18:43:09.286Z"
   },
   {
    "duration": 8,
    "start_time": "2023-01-21T18:43:15.469Z"
   },
   {
    "duration": 4,
    "start_time": "2023-01-21T18:43:36.657Z"
   },
   {
    "duration": 11,
    "start_time": "2023-01-21T18:43:47.868Z"
   },
   {
    "duration": 36,
    "start_time": "2023-01-21T18:43:57.198Z"
   },
   {
    "duration": 8,
    "start_time": "2023-01-21T18:44:02.627Z"
   },
   {
    "duration": 26,
    "start_time": "2023-01-21T18:48:29.397Z"
   },
   {
    "duration": 23,
    "start_time": "2023-01-21T18:48:35.636Z"
   },
   {
    "duration": 27,
    "start_time": "2023-01-21T18:48:57.678Z"
   },
   {
    "duration": 218,
    "start_time": "2023-01-21T18:49:16.560Z"
   },
   {
    "duration": 200,
    "start_time": "2023-01-21T18:49:24.414Z"
   },
   {
    "duration": 229,
    "start_time": "2023-01-21T18:49:48.682Z"
   },
   {
    "duration": 210,
    "start_time": "2023-01-21T18:50:20.838Z"
   },
   {
    "duration": 56,
    "start_time": "2023-01-21T18:52:05.622Z"
   },
   {
    "duration": 49,
    "start_time": "2023-01-21T18:52:34.117Z"
   },
   {
    "duration": 219,
    "start_time": "2023-01-21T18:52:52.287Z"
   },
   {
    "duration": 276,
    "start_time": "2023-01-21T18:53:21.461Z"
   },
   {
    "duration": 287,
    "start_time": "2023-01-21T18:54:00.050Z"
   },
   {
    "duration": 14,
    "start_time": "2023-01-21T19:00:11.403Z"
   },
   {
    "duration": 12,
    "start_time": "2023-01-21T19:00:20.273Z"
   },
   {
    "duration": 15,
    "start_time": "2023-01-21T19:00:27.572Z"
   },
   {
    "duration": 15,
    "start_time": "2023-01-21T19:00:35.222Z"
   },
   {
    "duration": 18,
    "start_time": "2023-01-21T19:02:32.927Z"
   },
   {
    "duration": 165,
    "start_time": "2023-01-21T19:03:06.000Z"
   },
   {
    "duration": 178,
    "start_time": "2023-01-21T19:04:08.430Z"
   },
   {
    "duration": 149,
    "start_time": "2023-01-21T19:05:06.788Z"
   },
   {
    "duration": 185,
    "start_time": "2023-01-21T19:05:43.329Z"
   },
   {
    "duration": 179,
    "start_time": "2023-01-21T19:06:21.748Z"
   },
   {
    "duration": 158,
    "start_time": "2023-01-21T19:06:38.166Z"
   },
   {
    "duration": 177,
    "start_time": "2023-01-21T19:06:46.511Z"
   },
   {
    "duration": 148,
    "start_time": "2023-01-21T19:07:44.552Z"
   },
   {
    "duration": 162,
    "start_time": "2023-01-21T19:08:24.600Z"
   },
   {
    "duration": 24,
    "start_time": "2023-01-21T19:14:55.811Z"
   },
   {
    "duration": 16,
    "start_time": "2023-01-21T19:15:06.901Z"
   },
   {
    "duration": 15,
    "start_time": "2023-01-21T19:20:39.528Z"
   },
   {
    "duration": 56,
    "start_time": "2023-01-21T19:23:59.083Z"
   },
   {
    "duration": 39,
    "start_time": "2023-01-21T19:24:59.153Z"
   },
   {
    "duration": 193,
    "start_time": "2023-01-21T19:29:36.098Z"
   },
   {
    "duration": 13,
    "start_time": "2023-01-21T19:45:22.913Z"
   },
   {
    "duration": 10,
    "start_time": "2023-01-21T19:45:29.631Z"
   },
   {
    "duration": 11,
    "start_time": "2023-01-21T19:45:40.611Z"
   },
   {
    "duration": 10,
    "start_time": "2023-01-21T19:46:23.163Z"
   },
   {
    "duration": 11,
    "start_time": "2023-01-21T19:49:11.310Z"
   },
   {
    "duration": 15,
    "start_time": "2023-01-21T19:49:24.231Z"
   },
   {
    "duration": 11,
    "start_time": "2023-01-21T19:51:01.725Z"
   },
   {
    "duration": 5,
    "start_time": "2023-01-21T19:58:14.259Z"
   },
   {
    "duration": 4,
    "start_time": "2023-01-21T19:58:18.899Z"
   },
   {
    "duration": 673,
    "start_time": "2023-01-21T19:58:25.374Z"
   },
   {
    "duration": 251,
    "start_time": "2023-01-21T19:58:46.485Z"
   },
   {
    "duration": 206,
    "start_time": "2023-01-21T19:59:45.991Z"
   },
   {
    "duration": 188,
    "start_time": "2023-01-21T20:00:07.438Z"
   },
   {
    "duration": 176,
    "start_time": "2023-01-21T20:00:15.165Z"
   },
   {
    "duration": 112,
    "start_time": "2023-01-21T20:00:27.612Z"
   },
   {
    "duration": 114,
    "start_time": "2023-01-21T20:00:33.417Z"
   },
   {
    "duration": 166,
    "start_time": "2023-01-21T20:00:40.073Z"
   },
   {
    "duration": 174,
    "start_time": "2023-01-21T20:00:52.501Z"
   },
   {
    "duration": 165,
    "start_time": "2023-01-21T20:01:11.225Z"
   },
   {
    "duration": 1,
    "start_time": "2023-01-21T20:02:11.615Z"
   },
   {
    "duration": 164,
    "start_time": "2023-01-21T20:03:29.154Z"
   },
   {
    "duration": 51,
    "start_time": "2023-01-21T20:04:03.158Z"
   },
   {
    "duration": 178,
    "start_time": "2023-01-21T20:04:07.775Z"
   },
   {
    "duration": 174,
    "start_time": "2023-01-21T20:04:41.528Z"
   },
   {
    "duration": 217,
    "start_time": "2023-01-21T20:04:50.134Z"
   },
   {
    "duration": 1163,
    "start_time": "2023-01-21T20:05:33.388Z"
   },
   {
    "duration": 213,
    "start_time": "2023-01-21T20:05:43.636Z"
   },
   {
    "duration": 178,
    "start_time": "2023-01-21T20:06:27.619Z"
   },
   {
    "duration": 245,
    "start_time": "2023-01-21T20:06:44.340Z"
   },
   {
    "duration": 251,
    "start_time": "2023-01-21T20:06:51.263Z"
   },
   {
    "duration": 1144,
    "start_time": "2023-01-21T20:08:47.899Z"
   },
   {
    "duration": 94,
    "start_time": "2023-01-21T20:08:49.048Z"
   },
   {
    "duration": 26,
    "start_time": "2023-01-21T20:08:49.144Z"
   },
   {
    "duration": 19,
    "start_time": "2023-01-21T20:08:49.173Z"
   },
   {
    "duration": 8,
    "start_time": "2023-01-21T20:08:49.194Z"
   },
   {
    "duration": 53,
    "start_time": "2023-01-21T20:08:49.205Z"
   },
   {
    "duration": 8,
    "start_time": "2023-01-21T20:08:49.260Z"
   },
   {
    "duration": 20,
    "start_time": "2023-01-21T20:08:49.270Z"
   },
   {
    "duration": 18,
    "start_time": "2023-01-21T20:08:49.292Z"
   },
   {
    "duration": 39,
    "start_time": "2023-01-21T20:08:49.312Z"
   },
   {
    "duration": 14,
    "start_time": "2023-01-21T20:08:49.353Z"
   },
   {
    "duration": 29,
    "start_time": "2023-01-21T20:08:49.368Z"
   },
   {
    "duration": 379,
    "start_time": "2023-01-21T20:08:49.403Z"
   },
   {
    "duration": 16,
    "start_time": "2023-01-21T20:08:49.784Z"
   },
   {
    "duration": 327,
    "start_time": "2023-01-21T20:08:49.802Z"
   },
   {
    "duration": 338,
    "start_time": "2023-01-21T20:08:50.131Z"
   },
   {
    "duration": 198,
    "start_time": "2023-01-21T20:08:50.472Z"
   },
   {
    "duration": 179,
    "start_time": "2023-01-21T20:08:50.672Z"
   },
   {
    "duration": 174,
    "start_time": "2023-01-21T20:08:50.852Z"
   },
   {
    "duration": 339,
    "start_time": "2023-01-21T20:08:51.028Z"
   },
   {
    "duration": 193,
    "start_time": "2023-01-21T20:08:51.369Z"
   },
   {
    "duration": 176,
    "start_time": "2023-01-21T20:08:51.564Z"
   },
   {
    "duration": 163,
    "start_time": "2023-01-21T20:08:51.742Z"
   },
   {
    "duration": 207,
    "start_time": "2023-01-21T20:08:51.907Z"
   },
   {
    "duration": 178,
    "start_time": "2023-01-21T20:08:52.115Z"
   },
   {
    "duration": 229,
    "start_time": "2023-01-21T20:08:52.295Z"
   },
   {
    "duration": 187,
    "start_time": "2023-01-21T20:08:52.525Z"
   },
   {
    "duration": 6,
    "start_time": "2023-01-21T20:08:52.715Z"
   },
   {
    "duration": 233,
    "start_time": "2023-01-21T20:08:52.723Z"
   },
   {
    "duration": 216,
    "start_time": "2023-01-21T20:08:52.958Z"
   },
   {
    "duration": 6,
    "start_time": "2023-01-21T20:08:53.177Z"
   },
   {
    "duration": 31,
    "start_time": "2023-01-21T20:08:53.184Z"
   },
   {
    "duration": 200,
    "start_time": "2023-01-21T20:08:53.217Z"
   },
   {
    "duration": 287,
    "start_time": "2023-01-21T20:08:53.419Z"
   },
   {
    "duration": 15,
    "start_time": "2023-01-21T20:08:53.708Z"
   },
   {
    "duration": 257,
    "start_time": "2023-01-21T20:08:53.725Z"
   },
   {
    "duration": 176,
    "start_time": "2023-01-21T20:08:53.984Z"
   },
   {
    "duration": 178,
    "start_time": "2023-01-21T20:08:54.162Z"
   },
   {
    "duration": 182,
    "start_time": "2023-01-21T20:08:54.342Z"
   },
   {
    "duration": 229,
    "start_time": "2023-01-21T20:08:54.526Z"
   },
   {
    "duration": 186,
    "start_time": "2023-01-21T20:08:54.757Z"
   },
   {
    "duration": 225,
    "start_time": "2023-01-21T20:08:54.949Z"
   },
   {
    "duration": 195,
    "start_time": "2023-01-21T20:08:55.175Z"
   },
   {
    "duration": 171,
    "start_time": "2023-01-21T20:08:55.372Z"
   },
   {
    "duration": 174,
    "start_time": "2023-01-21T20:08:55.549Z"
   },
   {
    "duration": 25,
    "start_time": "2023-01-21T20:08:55.725Z"
   },
   {
    "duration": 13,
    "start_time": "2023-01-21T20:08:55.751Z"
   },
   {
    "duration": 1293,
    "start_time": "2023-01-22T09:57:19.712Z"
   },
   {
    "duration": 82,
    "start_time": "2023-01-22T09:57:21.008Z"
   },
   {
    "duration": 23,
    "start_time": "2023-01-22T09:57:21.092Z"
   },
   {
    "duration": 57,
    "start_time": "2023-01-22T09:57:21.117Z"
   },
   {
    "duration": 10,
    "start_time": "2023-01-22T09:57:21.177Z"
   },
   {
    "duration": 46,
    "start_time": "2023-01-22T09:57:21.188Z"
   },
   {
    "duration": 14,
    "start_time": "2023-01-22T09:57:21.237Z"
   },
   {
    "duration": 19,
    "start_time": "2023-01-22T09:57:21.252Z"
   },
   {
    "duration": 79,
    "start_time": "2023-01-22T09:57:21.273Z"
   },
   {
    "duration": 44,
    "start_time": "2023-01-22T09:57:21.355Z"
   },
   {
    "duration": 23,
    "start_time": "2023-01-22T09:57:21.401Z"
   },
   {
    "duration": 57,
    "start_time": "2023-01-22T09:57:21.426Z"
   },
   {
    "duration": 444,
    "start_time": "2023-01-22T09:57:21.485Z"
   },
   {
    "duration": 20,
    "start_time": "2023-01-22T09:57:21.941Z"
   },
   {
    "duration": 400,
    "start_time": "2023-01-22T09:57:21.963Z"
   },
   {
    "duration": 369,
    "start_time": "2023-01-22T09:57:22.366Z"
   },
   {
    "duration": 197,
    "start_time": "2023-01-22T09:57:22.736Z"
   },
   {
    "duration": 191,
    "start_time": "2023-01-22T09:57:22.935Z"
   },
   {
    "duration": 197,
    "start_time": "2023-01-22T09:57:23.128Z"
   },
   {
    "duration": 277,
    "start_time": "2023-01-22T09:57:23.327Z"
   },
   {
    "duration": 181,
    "start_time": "2023-01-22T09:57:23.605Z"
   },
   {
    "duration": 199,
    "start_time": "2023-01-22T09:57:23.788Z"
   },
   {
    "duration": 194,
    "start_time": "2023-01-22T09:57:23.988Z"
   },
   {
    "duration": 225,
    "start_time": "2023-01-22T09:57:24.184Z"
   },
   {
    "duration": 203,
    "start_time": "2023-01-22T09:57:24.411Z"
   },
   {
    "duration": 193,
    "start_time": "2023-01-22T09:57:24.617Z"
   },
   {
    "duration": 205,
    "start_time": "2023-01-22T09:57:24.812Z"
   },
   {
    "duration": 7,
    "start_time": "2023-01-22T09:57:25.019Z"
   },
   {
    "duration": 266,
    "start_time": "2023-01-22T09:57:25.027Z"
   },
   {
    "duration": 265,
    "start_time": "2023-01-22T09:57:25.294Z"
   },
   {
    "duration": 3,
    "start_time": "2023-01-22T09:57:25.560Z"
   },
   {
    "duration": 29,
    "start_time": "2023-01-22T09:57:25.565Z"
   },
   {
    "duration": 225,
    "start_time": "2023-01-22T09:57:25.595Z"
   },
   {
    "duration": 302,
    "start_time": "2023-01-22T09:57:25.822Z"
   },
   {
    "duration": 28,
    "start_time": "2023-01-22T09:57:26.125Z"
   },
   {
    "duration": 234,
    "start_time": "2023-01-22T09:57:26.155Z"
   },
   {
    "duration": 215,
    "start_time": "2023-01-22T09:57:26.391Z"
   },
   {
    "duration": 206,
    "start_time": "2023-01-22T09:57:26.608Z"
   },
   {
    "duration": 178,
    "start_time": "2023-01-22T09:57:26.815Z"
   },
   {
    "duration": 200,
    "start_time": "2023-01-22T09:57:26.994Z"
   },
   {
    "duration": 203,
    "start_time": "2023-01-22T09:57:27.198Z"
   },
   {
    "duration": 181,
    "start_time": "2023-01-22T09:57:27.405Z"
   },
   {
    "duration": 200,
    "start_time": "2023-01-22T09:57:27.587Z"
   },
   {
    "duration": 188,
    "start_time": "2023-01-22T09:57:27.789Z"
   },
   {
    "duration": 205,
    "start_time": "2023-01-22T09:57:27.979Z"
   },
   {
    "duration": 16,
    "start_time": "2023-01-22T09:57:28.187Z"
   },
   {
    "duration": 52,
    "start_time": "2023-01-22T09:57:28.205Z"
   },
   {
    "duration": 474,
    "start_time": "2023-01-22T10:04:20.595Z"
   },
   {
    "duration": 200,
    "start_time": "2023-01-22T10:04:50.777Z"
   },
   {
    "duration": 244,
    "start_time": "2023-01-22T10:05:12.877Z"
   },
   {
    "duration": 237,
    "start_time": "2023-01-22T10:05:42.174Z"
   },
   {
    "duration": 205,
    "start_time": "2023-01-22T10:05:51.620Z"
   },
   {
    "duration": 12,
    "start_time": "2023-01-22T10:16:40.864Z"
   },
   {
    "duration": 10,
    "start_time": "2023-01-22T10:17:00.966Z"
   },
   {
    "duration": 1241,
    "start_time": "2023-01-22T10:21:46.864Z"
   },
   {
    "duration": 87,
    "start_time": "2023-01-22T10:21:48.107Z"
   },
   {
    "duration": 25,
    "start_time": "2023-01-22T10:21:48.196Z"
   },
   {
    "duration": 69,
    "start_time": "2023-01-22T10:21:48.223Z"
   },
   {
    "duration": 24,
    "start_time": "2023-01-22T10:21:48.294Z"
   },
   {
    "duration": 41,
    "start_time": "2023-01-22T10:21:48.320Z"
   },
   {
    "duration": 21,
    "start_time": "2023-01-22T10:21:48.363Z"
   },
   {
    "duration": 33,
    "start_time": "2023-01-22T10:21:48.385Z"
   },
   {
    "duration": 42,
    "start_time": "2023-01-22T10:21:48.420Z"
   },
   {
    "duration": 31,
    "start_time": "2023-01-22T10:21:48.464Z"
   },
   {
    "duration": 11,
    "start_time": "2023-01-22T10:21:48.497Z"
   },
   {
    "duration": 28,
    "start_time": "2023-01-22T10:21:48.510Z"
   },
   {
    "duration": 460,
    "start_time": "2023-01-22T10:21:48.539Z"
   },
   {
    "duration": 17,
    "start_time": "2023-01-22T10:21:49.004Z"
   },
   {
    "duration": 426,
    "start_time": "2023-01-22T10:21:49.024Z"
   },
   {
    "duration": 341,
    "start_time": "2023-01-22T10:21:49.452Z"
   },
   {
    "duration": 207,
    "start_time": "2023-01-22T10:21:49.795Z"
   },
   {
    "duration": 211,
    "start_time": "2023-01-22T10:21:50.004Z"
   },
   {
    "duration": 218,
    "start_time": "2023-01-22T10:21:50.217Z"
   },
   {
    "duration": 305,
    "start_time": "2023-01-22T10:21:50.437Z"
   },
   {
    "duration": 192,
    "start_time": "2023-01-22T10:21:50.743Z"
   },
   {
    "duration": 208,
    "start_time": "2023-01-22T10:21:50.939Z"
   },
   {
    "duration": 201,
    "start_time": "2023-01-22T10:21:51.149Z"
   },
   {
    "duration": 215,
    "start_time": "2023-01-22T10:21:51.352Z"
   },
   {
    "duration": 193,
    "start_time": "2023-01-22T10:21:51.570Z"
   },
   {
    "duration": 227,
    "start_time": "2023-01-22T10:21:51.766Z"
   },
   {
    "duration": 225,
    "start_time": "2023-01-22T10:21:51.995Z"
   },
   {
    "duration": 8,
    "start_time": "2023-01-22T10:21:52.222Z"
   },
   {
    "duration": 275,
    "start_time": "2023-01-22T10:21:52.244Z"
   },
   {
    "duration": 247,
    "start_time": "2023-01-22T10:21:52.521Z"
   },
   {
    "duration": 3,
    "start_time": "2023-01-22T10:21:52.769Z"
   },
   {
    "duration": 122,
    "start_time": "2023-01-22T10:21:52.774Z"
   },
   {
    "duration": 222,
    "start_time": "2023-01-22T10:21:52.898Z"
   },
   {
    "duration": 350,
    "start_time": "2023-01-22T10:21:53.123Z"
   },
   {
    "duration": 17,
    "start_time": "2023-01-22T10:21:53.475Z"
   },
   {
    "duration": 241,
    "start_time": "2023-01-22T10:21:53.494Z"
   },
   {
    "duration": 220,
    "start_time": "2023-01-22T10:21:53.737Z"
   },
   {
    "duration": 222,
    "start_time": "2023-01-22T10:21:53.963Z"
   },
   {
    "duration": 215,
    "start_time": "2023-01-22T10:21:54.188Z"
   },
   {
    "duration": 216,
    "start_time": "2023-01-22T10:21:54.405Z"
   },
   {
    "duration": 222,
    "start_time": "2023-01-22T10:21:54.625Z"
   },
   {
    "duration": 183,
    "start_time": "2023-01-22T10:21:54.855Z"
   },
   {
    "duration": 237,
    "start_time": "2023-01-22T10:21:55.041Z"
   },
   {
    "duration": 207,
    "start_time": "2023-01-22T10:21:55.280Z"
   },
   {
    "duration": 203,
    "start_time": "2023-01-22T10:21:55.490Z"
   },
   {
    "duration": 15,
    "start_time": "2023-01-22T10:21:55.695Z"
   },
   {
    "duration": 38,
    "start_time": "2023-01-22T10:21:55.713Z"
   },
   {
    "duration": 1256,
    "start_time": "2023-01-22T11:08:19.749Z"
   },
   {
    "duration": 112,
    "start_time": "2023-01-22T11:08:21.007Z"
   },
   {
    "duration": 21,
    "start_time": "2023-01-22T11:08:21.121Z"
   },
   {
    "duration": 25,
    "start_time": "2023-01-22T11:08:21.143Z"
   },
   {
    "duration": 9,
    "start_time": "2023-01-22T11:08:21.170Z"
   },
   {
    "duration": 51,
    "start_time": "2023-01-22T11:08:21.180Z"
   },
   {
    "duration": 7,
    "start_time": "2023-01-22T11:08:21.233Z"
   },
   {
    "duration": 18,
    "start_time": "2023-01-22T11:08:21.242Z"
   },
   {
    "duration": 14,
    "start_time": "2023-01-22T11:08:21.262Z"
   },
   {
    "duration": 22,
    "start_time": "2023-01-22T11:08:21.278Z"
   },
   {
    "duration": 8,
    "start_time": "2023-01-22T11:08:21.301Z"
   },
   {
    "duration": 29,
    "start_time": "2023-01-22T11:08:21.311Z"
   },
   {
    "duration": 346,
    "start_time": "2023-01-22T11:08:21.342Z"
   },
   {
    "duration": 18,
    "start_time": "2023-01-22T11:08:21.691Z"
   },
   {
    "duration": 297,
    "start_time": "2023-01-22T11:08:21.711Z"
   },
   {
    "duration": 285,
    "start_time": "2023-01-22T11:08:22.010Z"
   },
   {
    "duration": 179,
    "start_time": "2023-01-22T11:08:22.298Z"
   },
   {
    "duration": 176,
    "start_time": "2023-01-22T11:08:22.478Z"
   },
   {
    "duration": 162,
    "start_time": "2023-01-22T11:08:22.655Z"
   },
   {
    "duration": 248,
    "start_time": "2023-01-22T11:08:22.819Z"
   },
   {
    "duration": 169,
    "start_time": "2023-01-22T11:08:23.069Z"
   },
   {
    "duration": 178,
    "start_time": "2023-01-22T11:08:23.239Z"
   },
   {
    "duration": 159,
    "start_time": "2023-01-22T11:08:23.418Z"
   },
   {
    "duration": 188,
    "start_time": "2023-01-22T11:08:23.578Z"
   },
   {
    "duration": 177,
    "start_time": "2023-01-22T11:08:23.767Z"
   },
   {
    "duration": 221,
    "start_time": "2023-01-22T11:08:23.946Z"
   },
   {
    "duration": 210,
    "start_time": "2023-01-22T11:08:24.170Z"
   },
   {
    "duration": 8,
    "start_time": "2023-01-22T11:08:24.382Z"
   },
   {
    "duration": 246,
    "start_time": "2023-01-22T11:08:24.398Z"
   },
   {
    "duration": 216,
    "start_time": "2023-01-22T11:08:24.646Z"
   },
   {
    "duration": 3,
    "start_time": "2023-01-22T11:08:24.864Z"
   },
   {
    "duration": 32,
    "start_time": "2023-01-22T11:08:24.869Z"
   },
   {
    "duration": 192,
    "start_time": "2023-01-22T11:08:24.903Z"
   },
   {
    "duration": 267,
    "start_time": "2023-01-22T11:08:25.099Z"
   },
   {
    "duration": 13,
    "start_time": "2023-01-22T11:08:25.367Z"
   },
   {
    "duration": 204,
    "start_time": "2023-01-22T11:08:25.382Z"
   },
   {
    "duration": 177,
    "start_time": "2023-01-22T11:08:25.588Z"
   },
   {
    "duration": 179,
    "start_time": "2023-01-22T11:08:25.767Z"
   },
   {
    "duration": 155,
    "start_time": "2023-01-22T11:08:25.948Z"
   },
   {
    "duration": 188,
    "start_time": "2023-01-22T11:08:26.105Z"
   },
   {
    "duration": 171,
    "start_time": "2023-01-22T11:08:26.299Z"
   },
   {
    "duration": 169,
    "start_time": "2023-01-22T11:08:26.471Z"
   },
   {
    "duration": 175,
    "start_time": "2023-01-22T11:08:26.643Z"
   },
   {
    "duration": 181,
    "start_time": "2023-01-22T11:08:26.820Z"
   },
   {
    "duration": 199,
    "start_time": "2023-01-22T11:08:27.003Z"
   },
   {
    "duration": 15,
    "start_time": "2023-01-22T11:08:27.204Z"
   },
   {
    "duration": 25,
    "start_time": "2023-01-22T11:08:27.221Z"
   },
   {
    "duration": 393,
    "start_time": "2023-01-22T11:12:35.166Z"
   },
   {
    "duration": 163,
    "start_time": "2023-01-22T11:15:29.352Z"
   },
   {
    "duration": 329,
    "start_time": "2023-01-22T11:16:02.133Z"
   },
   {
    "duration": 211,
    "start_time": "2023-01-22T11:16:26.602Z"
   },
   {
    "duration": 175,
    "start_time": "2023-01-22T11:16:59.364Z"
   },
   {
    "duration": 367,
    "start_time": "2023-01-22T11:17:15.465Z"
   },
   {
    "duration": 174,
    "start_time": "2023-01-22T11:19:42.963Z"
   },
   {
    "duration": 173,
    "start_time": "2023-01-22T11:19:52.891Z"
   },
   {
    "duration": 188,
    "start_time": "2023-01-22T11:20:05.926Z"
   },
   {
    "duration": 85,
    "start_time": "2023-01-22T11:21:02.068Z"
   },
   {
    "duration": 173,
    "start_time": "2023-01-22T11:21:16.255Z"
   },
   {
    "duration": 156,
    "start_time": "2023-01-22T11:21:41.364Z"
   },
   {
    "duration": 87,
    "start_time": "2023-01-22T11:23:27.320Z"
   },
   {
    "duration": 69,
    "start_time": "2023-01-22T11:23:35.381Z"
   },
   {
    "duration": 69,
    "start_time": "2023-01-22T11:24:17.672Z"
   },
   {
    "duration": 234,
    "start_time": "2023-01-22T11:25:25.240Z"
   },
   {
    "duration": 183,
    "start_time": "2023-01-22T11:25:31.191Z"
   },
   {
    "duration": 93,
    "start_time": "2023-01-22T11:25:49.678Z"
   },
   {
    "duration": 102,
    "start_time": "2023-01-22T11:26:19.059Z"
   },
   {
    "duration": 88,
    "start_time": "2023-01-22T11:26:27.905Z"
   },
   {
    "duration": 92,
    "start_time": "2023-01-22T11:26:32.620Z"
   },
   {
    "duration": 97,
    "start_time": "2023-01-22T11:26:35.557Z"
   },
   {
    "duration": 90,
    "start_time": "2023-01-22T11:26:38.070Z"
   },
   {
    "duration": 86,
    "start_time": "2023-01-22T11:26:40.778Z"
   },
   {
    "duration": 108,
    "start_time": "2023-01-22T11:26:44.078Z"
   },
   {
    "duration": 112,
    "start_time": "2023-01-22T11:26:47.030Z"
   },
   {
    "duration": 1444,
    "start_time": "2023-01-22T17:00:18.750Z"
   },
   {
    "duration": 210,
    "start_time": "2023-01-22T17:00:20.197Z"
   },
   {
    "duration": 35,
    "start_time": "2023-01-22T17:00:20.410Z"
   },
   {
    "duration": 21,
    "start_time": "2023-01-22T17:00:20.448Z"
   },
   {
    "duration": 46,
    "start_time": "2023-01-22T17:00:20.471Z"
   },
   {
    "duration": 75,
    "start_time": "2023-01-22T17:00:20.519Z"
   },
   {
    "duration": 14,
    "start_time": "2023-01-22T17:00:20.596Z"
   },
   {
    "duration": 25,
    "start_time": "2023-01-22T17:00:20.612Z"
   },
   {
    "duration": 30,
    "start_time": "2023-01-22T17:00:20.640Z"
   },
   {
    "duration": 38,
    "start_time": "2023-01-22T17:00:20.672Z"
   },
   {
    "duration": 25,
    "start_time": "2023-01-22T17:00:20.712Z"
   },
   {
    "duration": 47,
    "start_time": "2023-01-22T17:00:20.742Z"
   },
   {
    "duration": 405,
    "start_time": "2023-01-22T17:00:20.791Z"
   },
   {
    "duration": 17,
    "start_time": "2023-01-22T17:00:21.198Z"
   },
   {
    "duration": 355,
    "start_time": "2023-01-22T17:00:21.216Z"
   },
   {
    "duration": 379,
    "start_time": "2023-01-22T17:00:21.574Z"
   },
   {
    "duration": 401,
    "start_time": "2023-01-22T17:00:21.955Z"
   },
   {
    "duration": 409,
    "start_time": "2023-01-22T17:00:22.358Z"
   },
   {
    "duration": 378,
    "start_time": "2023-01-22T17:00:22.768Z"
   },
   {
    "duration": 533,
    "start_time": "2023-01-22T17:00:23.148Z"
   },
   {
    "duration": 277,
    "start_time": "2023-01-22T17:00:23.683Z"
   },
   {
    "duration": 200,
    "start_time": "2023-01-22T17:00:23.962Z"
   },
   {
    "duration": 204,
    "start_time": "2023-01-22T17:00:24.164Z"
   },
   {
    "duration": 204,
    "start_time": "2023-01-22T17:00:24.370Z"
   },
   {
    "duration": 185,
    "start_time": "2023-01-22T17:00:24.576Z"
   },
   {
    "duration": 188,
    "start_time": "2023-01-22T17:00:24.763Z"
   },
   {
    "duration": 204,
    "start_time": "2023-01-22T17:00:24.953Z"
   },
   {
    "duration": 8,
    "start_time": "2023-01-22T17:00:25.159Z"
   },
   {
    "duration": 275,
    "start_time": "2023-01-22T17:00:25.169Z"
   },
   {
    "duration": 249,
    "start_time": "2023-01-22T17:00:25.446Z"
   },
   {
    "duration": 4,
    "start_time": "2023-01-22T17:00:25.697Z"
   },
   {
    "duration": 47,
    "start_time": "2023-01-22T17:00:25.703Z"
   },
   {
    "duration": 248,
    "start_time": "2023-01-22T17:00:25.752Z"
   },
   {
    "duration": 322,
    "start_time": "2023-01-22T17:00:26.002Z"
   },
   {
    "duration": 20,
    "start_time": "2023-01-22T17:00:26.327Z"
   },
   {
    "duration": 239,
    "start_time": "2023-01-22T17:00:26.352Z"
   },
   {
    "duration": 115,
    "start_time": "2023-01-22T17:00:26.593Z"
   },
   {
    "duration": 121,
    "start_time": "2023-01-22T17:00:26.710Z"
   },
   {
    "duration": 126,
    "start_time": "2023-01-22T17:00:26.837Z"
   },
   {
    "duration": 113,
    "start_time": "2023-01-22T17:00:26.965Z"
   },
   {
    "duration": 118,
    "start_time": "2023-01-22T17:00:27.080Z"
   },
   {
    "duration": 111,
    "start_time": "2023-01-22T17:00:27.200Z"
   },
   {
    "duration": 124,
    "start_time": "2023-01-22T17:00:27.313Z"
   },
   {
    "duration": 115,
    "start_time": "2023-01-22T17:00:27.439Z"
   },
   {
    "duration": 122,
    "start_time": "2023-01-22T17:00:27.556Z"
   },
   {
    "duration": 13,
    "start_time": "2023-01-22T17:00:27.680Z"
   },
   {
    "duration": 28,
    "start_time": "2023-01-22T17:00:27.694Z"
   },
   {
    "duration": 4,
    "start_time": "2023-01-22T17:05:16.142Z"
   },
   {
    "duration": 24,
    "start_time": "2023-01-22T17:05:22.309Z"
   },
   {
    "duration": 7,
    "start_time": "2023-01-22T17:06:21.305Z"
   },
   {
    "duration": 25,
    "start_time": "2023-01-22T17:06:23.664Z"
   },
   {
    "duration": 160,
    "start_time": "2023-01-22T17:06:26.238Z"
   },
   {
    "duration": 197,
    "start_time": "2023-01-22T17:06:32.528Z"
   },
   {
    "duration": 119,
    "start_time": "2023-01-22T17:06:42.409Z"
   },
   {
    "duration": 158,
    "start_time": "2023-01-22T17:07:07.406Z"
   },
   {
    "duration": 100,
    "start_time": "2023-01-22T17:07:10.452Z"
   },
   {
    "duration": 108,
    "start_time": "2023-01-22T17:07:15.708Z"
   },
   {
    "duration": 193,
    "start_time": "2023-01-22T17:07:18.130Z"
   },
   {
    "duration": 106,
    "start_time": "2023-01-22T17:07:22.111Z"
   },
   {
    "duration": 96,
    "start_time": "2023-01-22T17:07:25.603Z"
   },
   {
    "duration": 218,
    "start_time": "2023-01-22T17:08:08.584Z"
   },
   {
    "duration": 105,
    "start_time": "2023-01-22T17:10:25.234Z"
   },
   {
    "duration": 132,
    "start_time": "2023-01-22T17:10:33.628Z"
   },
   {
    "duration": 201,
    "start_time": "2023-01-22T17:10:38.039Z"
   },
   {
    "duration": 102,
    "start_time": "2023-01-22T17:10:42.705Z"
   },
   {
    "duration": 1080,
    "start_time": "2023-01-22T17:11:49.267Z"
   },
   {
    "duration": 78,
    "start_time": "2023-01-22T17:11:50.350Z"
   },
   {
    "duration": 24,
    "start_time": "2023-01-22T17:11:50.430Z"
   },
   {
    "duration": 23,
    "start_time": "2023-01-22T17:11:50.457Z"
   },
   {
    "duration": 17,
    "start_time": "2023-01-22T17:11:50.481Z"
   },
   {
    "duration": 40,
    "start_time": "2023-01-22T17:11:50.499Z"
   },
   {
    "duration": 9,
    "start_time": "2023-01-22T17:11:50.541Z"
   },
   {
    "duration": 23,
    "start_time": "2023-01-22T17:11:50.552Z"
   },
   {
    "duration": 21,
    "start_time": "2023-01-22T17:11:50.577Z"
   },
   {
    "duration": 25,
    "start_time": "2023-01-22T17:11:50.601Z"
   },
   {
    "duration": 17,
    "start_time": "2023-01-22T17:11:50.628Z"
   },
   {
    "duration": 30,
    "start_time": "2023-01-22T17:11:50.646Z"
   },
   {
    "duration": 347,
    "start_time": "2023-01-22T17:11:50.678Z"
   },
   {
    "duration": 20,
    "start_time": "2023-01-22T17:11:51.028Z"
   },
   {
    "duration": 316,
    "start_time": "2023-01-22T17:11:51.050Z"
   },
   {
    "duration": 289,
    "start_time": "2023-01-22T17:11:51.368Z"
   },
   {
    "duration": 181,
    "start_time": "2023-01-22T17:11:51.659Z"
   },
   {
    "duration": 180,
    "start_time": "2023-01-22T17:11:51.842Z"
   },
   {
    "duration": 166,
    "start_time": "2023-01-22T17:11:52.024Z"
   },
   {
    "duration": 279,
    "start_time": "2023-01-22T17:11:52.192Z"
   },
   {
    "duration": 188,
    "start_time": "2023-01-22T17:11:52.474Z"
   },
   {
    "duration": 177,
    "start_time": "2023-01-22T17:11:52.663Z"
   },
   {
    "duration": 177,
    "start_time": "2023-01-22T17:11:52.842Z"
   },
   {
    "duration": 179,
    "start_time": "2023-01-22T17:11:53.021Z"
   },
   {
    "duration": 195,
    "start_time": "2023-01-22T17:11:53.202Z"
   },
   {
    "duration": 182,
    "start_time": "2023-01-22T17:11:53.399Z"
   },
   {
    "duration": 195,
    "start_time": "2023-01-22T17:11:53.583Z"
   },
   {
    "duration": 7,
    "start_time": "2023-01-22T17:11:53.782Z"
   },
   {
    "duration": 228,
    "start_time": "2023-01-22T17:11:53.790Z"
   },
   {
    "duration": 217,
    "start_time": "2023-01-22T17:11:54.020Z"
   },
   {
    "duration": 3,
    "start_time": "2023-01-22T17:11:54.239Z"
   },
   {
    "duration": 10,
    "start_time": "2023-01-22T17:11:54.243Z"
   },
   {
    "duration": 204,
    "start_time": "2023-01-22T17:11:54.255Z"
   },
   {
    "duration": 281,
    "start_time": "2023-01-22T17:11:54.460Z"
   },
   {
    "duration": 15,
    "start_time": "2023-01-22T17:11:54.743Z"
   },
   {
    "duration": 233,
    "start_time": "2023-01-22T17:11:54.759Z"
   },
   {
    "duration": 2,
    "start_time": "2023-01-22T17:11:54.994Z"
   },
   {
    "duration": 5,
    "start_time": "2023-01-22T17:11:54.998Z"
   },
   {
    "duration": 112,
    "start_time": "2023-01-22T17:11:55.004Z"
   },
   {
    "duration": 104,
    "start_time": "2023-01-22T17:11:55.118Z"
   },
   {
    "duration": 102,
    "start_time": "2023-01-22T17:11:55.224Z"
   },
   {
    "duration": 112,
    "start_time": "2023-01-22T17:11:55.327Z"
   },
   {
    "duration": 110,
    "start_time": "2023-01-22T17:11:55.440Z"
   },
   {
    "duration": 101,
    "start_time": "2023-01-22T17:11:55.551Z"
   },
   {
    "duration": 106,
    "start_time": "2023-01-22T17:11:55.654Z"
   },
   {
    "duration": 108,
    "start_time": "2023-01-22T17:11:55.762Z"
   },
   {
    "duration": 106,
    "start_time": "2023-01-22T17:11:55.871Z"
   },
   {
    "duration": 15,
    "start_time": "2023-01-22T17:11:55.978Z"
   },
   {
    "duration": 16,
    "start_time": "2023-01-22T17:11:55.994Z"
   },
   {
    "duration": 1244,
    "start_time": "2023-01-22T19:24:42.539Z"
   },
   {
    "duration": 111,
    "start_time": "2023-01-22T19:24:43.785Z"
   },
   {
    "duration": 19,
    "start_time": "2023-01-22T19:24:43.898Z"
   },
   {
    "duration": 32,
    "start_time": "2023-01-22T19:24:43.919Z"
   },
   {
    "duration": 26,
    "start_time": "2023-01-22T19:24:43.953Z"
   },
   {
    "duration": 47,
    "start_time": "2023-01-22T19:24:43.981Z"
   },
   {
    "duration": 9,
    "start_time": "2023-01-22T19:24:44.031Z"
   },
   {
    "duration": 40,
    "start_time": "2023-01-22T19:24:44.042Z"
   },
   {
    "duration": 75,
    "start_time": "2023-01-22T19:24:44.084Z"
   },
   {
    "duration": 44,
    "start_time": "2023-01-22T19:24:44.163Z"
   },
   {
    "duration": 10,
    "start_time": "2023-01-22T19:24:44.208Z"
   },
   {
    "duration": 39,
    "start_time": "2023-01-22T19:24:44.221Z"
   },
   {
    "duration": 357,
    "start_time": "2023-01-22T19:24:44.262Z"
   },
   {
    "duration": 13,
    "start_time": "2023-01-22T19:24:44.621Z"
   },
   {
    "duration": 288,
    "start_time": "2023-01-22T19:24:44.636Z"
   },
   {
    "duration": 283,
    "start_time": "2023-01-22T19:24:44.926Z"
   },
   {
    "duration": 168,
    "start_time": "2023-01-22T19:24:45.211Z"
   },
   {
    "duration": 168,
    "start_time": "2023-01-22T19:24:45.380Z"
   },
   {
    "duration": 171,
    "start_time": "2023-01-22T19:24:45.550Z"
   },
   {
    "duration": 240,
    "start_time": "2023-01-22T19:24:45.724Z"
   },
   {
    "duration": 168,
    "start_time": "2023-01-22T19:24:45.966Z"
   },
   {
    "duration": 179,
    "start_time": "2023-01-22T19:24:46.136Z"
   },
   {
    "duration": 168,
    "start_time": "2023-01-22T19:24:46.317Z"
   },
   {
    "duration": 180,
    "start_time": "2023-01-22T19:24:46.486Z"
   },
   {
    "duration": 168,
    "start_time": "2023-01-22T19:24:46.668Z"
   },
   {
    "duration": 182,
    "start_time": "2023-01-22T19:24:46.838Z"
   },
   {
    "duration": 227,
    "start_time": "2023-01-22T19:24:47.022Z"
   },
   {
    "duration": 9,
    "start_time": "2023-01-22T19:24:47.253Z"
   },
   {
    "duration": 239,
    "start_time": "2023-01-22T19:24:47.265Z"
   },
   {
    "duration": 216,
    "start_time": "2023-01-22T19:24:47.506Z"
   },
   {
    "duration": 3,
    "start_time": "2023-01-22T19:24:47.724Z"
   },
   {
    "duration": 12,
    "start_time": "2023-01-22T19:24:47.729Z"
   },
   {
    "duration": 271,
    "start_time": "2023-01-22T19:24:47.743Z"
   },
   {
    "duration": 284,
    "start_time": "2023-01-22T19:24:48.016Z"
   },
   {
    "duration": 17,
    "start_time": "2023-01-22T19:24:48.302Z"
   },
   {
    "duration": 207,
    "start_time": "2023-01-22T19:24:48.320Z"
   },
   {
    "duration": 103,
    "start_time": "2023-01-22T19:24:48.529Z"
   },
   {
    "duration": 115,
    "start_time": "2023-01-22T19:24:48.636Z"
   },
   {
    "duration": 94,
    "start_time": "2023-01-22T19:24:48.753Z"
   },
   {
    "duration": 135,
    "start_time": "2023-01-22T19:24:48.849Z"
   },
   {
    "duration": 137,
    "start_time": "2023-01-22T19:24:48.993Z"
   },
   {
    "duration": 103,
    "start_time": "2023-01-22T19:24:49.132Z"
   },
   {
    "duration": 110,
    "start_time": "2023-01-22T19:24:49.237Z"
   },
   {
    "duration": 112,
    "start_time": "2023-01-22T19:24:49.348Z"
   },
   {
    "duration": 145,
    "start_time": "2023-01-22T19:24:49.462Z"
   },
   {
    "duration": 15,
    "start_time": "2023-01-22T19:24:49.609Z"
   },
   {
    "duration": 20,
    "start_time": "2023-01-22T19:24:49.626Z"
   },
   {
    "duration": 22,
    "start_time": "2023-01-22T19:28:58.274Z"
   },
   {
    "duration": 6,
    "start_time": "2023-01-22T19:29:13.538Z"
   },
   {
    "duration": 149,
    "start_time": "2023-01-22T19:29:21.106Z"
   },
   {
    "duration": 156,
    "start_time": "2023-01-22T19:29:33.049Z"
   },
   {
    "duration": 92,
    "start_time": "2023-01-22T19:29:36.393Z"
   },
   {
    "duration": 132,
    "start_time": "2023-01-22T19:29:40.889Z"
   },
   {
    "duration": 96,
    "start_time": "2023-01-22T19:29:45.392Z"
   },
   {
    "duration": 103,
    "start_time": "2023-01-22T19:29:52.153Z"
   },
   {
    "duration": 140,
    "start_time": "2023-01-22T19:30:02.864Z"
   },
   {
    "duration": 104,
    "start_time": "2023-01-22T19:30:06.265Z"
   },
   {
    "duration": 91,
    "start_time": "2023-01-22T19:30:10.584Z"
   },
   {
    "duration": 1107,
    "start_time": "2023-01-23T15:44:44.402Z"
   },
   {
    "duration": 79,
    "start_time": "2023-01-23T15:44:45.511Z"
   },
   {
    "duration": 20,
    "start_time": "2023-01-23T15:44:45.592Z"
   },
   {
    "duration": 17,
    "start_time": "2023-01-23T15:44:45.613Z"
   },
   {
    "duration": 23,
    "start_time": "2023-01-23T15:44:45.633Z"
   },
   {
    "duration": 30,
    "start_time": "2023-01-23T15:44:45.657Z"
   },
   {
    "duration": 8,
    "start_time": "2023-01-23T15:44:45.689Z"
   },
   {
    "duration": 10,
    "start_time": "2023-01-23T15:44:45.698Z"
   },
   {
    "duration": 40,
    "start_time": "2023-01-23T15:44:45.710Z"
   },
   {
    "duration": 25,
    "start_time": "2023-01-23T15:44:45.752Z"
   },
   {
    "duration": 8,
    "start_time": "2023-01-23T15:44:45.778Z"
   },
   {
    "duration": 34,
    "start_time": "2023-01-23T15:44:45.788Z"
   },
   {
    "duration": 351,
    "start_time": "2023-01-23T15:44:45.824Z"
   },
   {
    "duration": 12,
    "start_time": "2023-01-23T15:44:46.178Z"
   },
   {
    "duration": 334,
    "start_time": "2023-01-23T15:44:46.192Z"
   },
   {
    "duration": 329,
    "start_time": "2023-01-23T15:44:46.528Z"
   },
   {
    "duration": 174,
    "start_time": "2023-01-23T15:44:46.859Z"
   },
   {
    "duration": 193,
    "start_time": "2023-01-23T15:44:47.034Z"
   },
   {
    "duration": 171,
    "start_time": "2023-01-23T15:44:47.229Z"
   },
   {
    "duration": 258,
    "start_time": "2023-01-23T15:44:47.402Z"
   },
   {
    "duration": 230,
    "start_time": "2023-01-23T15:44:47.662Z"
   },
   {
    "duration": 375,
    "start_time": "2023-01-23T15:44:47.894Z"
   },
   {
    "duration": 319,
    "start_time": "2023-01-23T15:44:48.271Z"
   },
   {
    "duration": 327,
    "start_time": "2023-01-23T15:44:48.648Z"
   },
   {
    "duration": 306,
    "start_time": "2023-01-23T15:44:48.976Z"
   },
   {
    "duration": 313,
    "start_time": "2023-01-23T15:44:49.284Z"
   },
   {
    "duration": 195,
    "start_time": "2023-01-23T15:44:49.599Z"
   },
   {
    "duration": 7,
    "start_time": "2023-01-23T15:44:49.796Z"
   },
   {
    "duration": 227,
    "start_time": "2023-01-23T15:44:49.805Z"
   },
   {
    "duration": 216,
    "start_time": "2023-01-23T15:44:50.033Z"
   },
   {
    "duration": 3,
    "start_time": "2023-01-23T15:44:50.250Z"
   },
   {
    "duration": 18,
    "start_time": "2023-01-23T15:44:50.255Z"
   },
   {
    "duration": 197,
    "start_time": "2023-01-23T15:44:50.275Z"
   },
   {
    "duration": 294,
    "start_time": "2023-01-23T15:44:50.474Z"
   },
   {
    "duration": 29,
    "start_time": "2023-01-23T15:44:50.770Z"
   },
   {
    "duration": 243,
    "start_time": "2023-01-23T15:44:50.801Z"
   },
   {
    "duration": 7,
    "start_time": "2023-01-23T15:44:51.049Z"
   },
   {
    "duration": 167,
    "start_time": "2023-01-23T15:44:51.058Z"
   },
   {
    "duration": 113,
    "start_time": "2023-01-23T15:44:51.227Z"
   },
   {
    "duration": 121,
    "start_time": "2023-01-23T15:44:51.342Z"
   },
   {
    "duration": 157,
    "start_time": "2023-01-23T15:44:51.466Z"
   },
   {
    "duration": 107,
    "start_time": "2023-01-23T15:44:51.625Z"
   },
   {
    "duration": 100,
    "start_time": "2023-01-23T15:44:51.733Z"
   },
   {
    "duration": 159,
    "start_time": "2023-01-23T15:44:51.835Z"
   },
   {
    "duration": 114,
    "start_time": "2023-01-23T15:44:51.996Z"
   },
   {
    "duration": 108,
    "start_time": "2023-01-23T15:44:52.112Z"
   },
   {
    "duration": 13,
    "start_time": "2023-01-23T15:44:52.222Z"
   },
   {
    "duration": 26,
    "start_time": "2023-01-23T15:44:52.248Z"
   },
   {
    "duration": 171,
    "start_time": "2023-01-23T15:47:49.720Z"
   },
   {
    "duration": 7,
    "start_time": "2023-01-23T15:48:44.047Z"
   },
   {
    "duration": 100,
    "start_time": "2023-01-23T15:48:45.880Z"
   },
   {
    "duration": 169,
    "start_time": "2023-01-23T15:48:56.436Z"
   },
   {
    "duration": 6,
    "start_time": "2023-01-23T15:49:26.955Z"
   },
   {
    "duration": 169,
    "start_time": "2023-01-23T15:49:36.300Z"
   },
   {
    "duration": 246,
    "start_time": "2023-01-23T15:50:37.463Z"
   },
   {
    "duration": 95,
    "start_time": "2023-01-23T15:51:07.184Z"
   },
   {
    "duration": 21,
    "start_time": "2023-01-23T15:51:22.489Z"
   },
   {
    "duration": 1217,
    "start_time": "2023-01-23T15:56:34.620Z"
   },
   {
    "duration": 71,
    "start_time": "2023-01-23T15:56:35.839Z"
   },
   {
    "duration": 23,
    "start_time": "2023-01-23T15:56:35.912Z"
   },
   {
    "duration": 17,
    "start_time": "2023-01-23T15:56:35.937Z"
   },
   {
    "duration": 8,
    "start_time": "2023-01-23T15:56:35.956Z"
   },
   {
    "duration": 26,
    "start_time": "2023-01-23T15:56:35.965Z"
   },
   {
    "duration": 7,
    "start_time": "2023-01-23T15:56:35.992Z"
   },
   {
    "duration": 10,
    "start_time": "2023-01-23T15:56:36.001Z"
   },
   {
    "duration": 41,
    "start_time": "2023-01-23T15:56:36.012Z"
   },
   {
    "duration": 21,
    "start_time": "2023-01-23T15:56:36.056Z"
   },
   {
    "duration": 8,
    "start_time": "2023-01-23T15:56:36.079Z"
   },
   {
    "duration": 28,
    "start_time": "2023-01-23T15:56:36.088Z"
   },
   {
    "duration": 418,
    "start_time": "2023-01-23T15:56:36.117Z"
   },
   {
    "duration": 22,
    "start_time": "2023-01-23T15:56:36.537Z"
   },
   {
    "duration": 307,
    "start_time": "2023-01-23T15:56:36.561Z"
   },
   {
    "duration": 280,
    "start_time": "2023-01-23T15:56:36.870Z"
   },
   {
    "duration": 168,
    "start_time": "2023-01-23T15:56:37.152Z"
   },
   {
    "duration": 176,
    "start_time": "2023-01-23T15:56:37.322Z"
   },
   {
    "duration": 167,
    "start_time": "2023-01-23T15:56:37.500Z"
   },
   {
    "duration": 251,
    "start_time": "2023-01-23T15:56:37.669Z"
   },
   {
    "duration": 168,
    "start_time": "2023-01-23T15:56:37.922Z"
   },
   {
    "duration": 180,
    "start_time": "2023-01-23T15:56:38.092Z"
   },
   {
    "duration": 185,
    "start_time": "2023-01-23T15:56:38.275Z"
   },
   {
    "duration": 202,
    "start_time": "2023-01-23T15:56:38.461Z"
   },
   {
    "duration": 181,
    "start_time": "2023-01-23T15:56:38.665Z"
   },
   {
    "duration": 169,
    "start_time": "2023-01-23T15:56:38.847Z"
   },
   {
    "duration": 184,
    "start_time": "2023-01-23T15:56:39.017Z"
   },
   {
    "duration": 6,
    "start_time": "2023-01-23T15:56:39.204Z"
   },
   {
    "duration": 226,
    "start_time": "2023-01-23T15:56:39.212Z"
   },
   {
    "duration": 205,
    "start_time": "2023-01-23T15:56:39.448Z"
   },
   {
    "duration": 2,
    "start_time": "2023-01-23T15:56:39.655Z"
   },
   {
    "duration": 9,
    "start_time": "2023-01-23T15:56:39.659Z"
   },
   {
    "duration": 197,
    "start_time": "2023-01-23T15:56:39.670Z"
   },
   {
    "duration": 325,
    "start_time": "2023-01-23T15:56:39.869Z"
   },
   {
    "duration": 24,
    "start_time": "2023-01-23T15:56:40.196Z"
   },
   {
    "duration": 252,
    "start_time": "2023-01-23T15:56:40.222Z"
   },
   {
    "duration": 7,
    "start_time": "2023-01-23T15:56:40.475Z"
   },
   {
    "duration": 278,
    "start_time": "2023-01-23T15:56:40.484Z"
   },
   {
    "duration": 8,
    "start_time": "2023-01-23T15:56:40.764Z"
   },
   {
    "duration": 123,
    "start_time": "2023-01-23T15:56:40.774Z"
   },
   {
    "duration": 102,
    "start_time": "2023-01-23T15:56:40.898Z"
   },
   {
    "duration": 133,
    "start_time": "2023-01-23T15:56:41.002Z"
   },
   {
    "duration": 107,
    "start_time": "2023-01-23T15:56:41.137Z"
   },
   {
    "duration": 89,
    "start_time": "2023-01-23T15:56:41.249Z"
   },
   {
    "duration": 138,
    "start_time": "2023-01-23T15:56:41.349Z"
   },
   {
    "duration": 109,
    "start_time": "2023-01-23T15:56:41.489Z"
   },
   {
    "duration": 106,
    "start_time": "2023-01-23T15:56:41.600Z"
   },
   {
    "duration": 13,
    "start_time": "2023-01-23T15:56:41.707Z"
   },
   {
    "duration": 30,
    "start_time": "2023-01-23T15:56:41.722Z"
   },
   {
    "duration": 1345,
    "start_time": "2023-01-23T19:14:58.802Z"
   },
   {
    "duration": 222,
    "start_time": "2023-01-23T19:15:00.150Z"
   },
   {
    "duration": 22,
    "start_time": "2023-01-23T19:15:00.374Z"
   },
   {
    "duration": 27,
    "start_time": "2023-01-23T19:15:00.398Z"
   },
   {
    "duration": 15,
    "start_time": "2023-01-23T19:15:00.426Z"
   },
   {
    "duration": 41,
    "start_time": "2023-01-23T19:15:00.443Z"
   },
   {
    "duration": 7,
    "start_time": "2023-01-23T19:15:00.485Z"
   },
   {
    "duration": 43,
    "start_time": "2023-01-23T19:15:00.493Z"
   },
   {
    "duration": 39,
    "start_time": "2023-01-23T19:15:00.538Z"
   },
   {
    "duration": 34,
    "start_time": "2023-01-23T19:15:00.580Z"
   },
   {
    "duration": 10,
    "start_time": "2023-01-23T19:15:00.615Z"
   },
   {
    "duration": 33,
    "start_time": "2023-01-23T19:15:00.626Z"
   },
   {
    "duration": 358,
    "start_time": "2023-01-23T19:15:00.660Z"
   },
   {
    "duration": 13,
    "start_time": "2023-01-23T19:15:01.021Z"
   },
   {
    "duration": 317,
    "start_time": "2023-01-23T19:15:01.036Z"
   },
   {
    "duration": 275,
    "start_time": "2023-01-23T19:15:01.355Z"
   },
   {
    "duration": 182,
    "start_time": "2023-01-23T19:15:01.632Z"
   },
   {
    "duration": 168,
    "start_time": "2023-01-23T19:15:01.820Z"
   },
   {
    "duration": 171,
    "start_time": "2023-01-23T19:15:01.990Z"
   },
   {
    "duration": 258,
    "start_time": "2023-01-23T19:15:02.163Z"
   },
   {
    "duration": 148,
    "start_time": "2023-01-23T19:15:02.422Z"
   },
   {
    "duration": 171,
    "start_time": "2023-01-23T19:15:02.572Z"
   },
   {
    "duration": 165,
    "start_time": "2023-01-23T19:15:02.745Z"
   },
   {
    "duration": 185,
    "start_time": "2023-01-23T19:15:02.912Z"
   },
   {
    "duration": 178,
    "start_time": "2023-01-23T19:15:03.098Z"
   },
   {
    "duration": 181,
    "start_time": "2023-01-23T19:15:03.278Z"
   },
   {
    "duration": 183,
    "start_time": "2023-01-23T19:15:03.461Z"
   },
   {
    "duration": 7,
    "start_time": "2023-01-23T19:15:03.647Z"
   },
   {
    "duration": 226,
    "start_time": "2023-01-23T19:15:03.655Z"
   },
   {
    "duration": 215,
    "start_time": "2023-01-23T19:15:03.883Z"
   },
   {
    "duration": 2,
    "start_time": "2023-01-23T19:15:04.100Z"
   },
   {
    "duration": 17,
    "start_time": "2023-01-23T19:15:04.104Z"
   },
   {
    "duration": 202,
    "start_time": "2023-01-23T19:15:04.123Z"
   },
   {
    "duration": 283,
    "start_time": "2023-01-23T19:15:04.326Z"
   },
   {
    "duration": 36,
    "start_time": "2023-01-23T19:15:04.611Z"
   },
   {
    "duration": 265,
    "start_time": "2023-01-23T19:15:04.649Z"
   },
   {
    "duration": 10,
    "start_time": "2023-01-23T19:15:04.917Z"
   },
   {
    "duration": 184,
    "start_time": "2023-01-23T19:15:04.929Z"
   },
   {
    "duration": 10,
    "start_time": "2023-01-23T19:15:05.115Z"
   },
   {
    "duration": 109,
    "start_time": "2023-01-23T19:15:05.126Z"
   },
   {
    "duration": 0,
    "start_time": "2023-01-23T19:15:05.236Z"
   },
   {
    "duration": 0,
    "start_time": "2023-01-23T19:15:05.237Z"
   },
   {
    "duration": 0,
    "start_time": "2023-01-23T19:15:05.239Z"
   },
   {
    "duration": 0,
    "start_time": "2023-01-23T19:15:05.239Z"
   },
   {
    "duration": 0,
    "start_time": "2023-01-23T19:15:05.240Z"
   },
   {
    "duration": 0,
    "start_time": "2023-01-23T19:15:05.241Z"
   },
   {
    "duration": 0,
    "start_time": "2023-01-23T19:15:05.242Z"
   },
   {
    "duration": 0,
    "start_time": "2023-01-23T19:15:05.243Z"
   },
   {
    "duration": 0,
    "start_time": "2023-01-23T19:15:05.244Z"
   },
   {
    "duration": 11,
    "start_time": "2023-01-23T19:15:31.031Z"
   },
   {
    "duration": 11,
    "start_time": "2023-01-23T19:15:42.127Z"
   },
   {
    "duration": 8,
    "start_time": "2023-01-23T19:16:33.265Z"
   },
   {
    "duration": 146,
    "start_time": "2023-01-23T19:16:37.078Z"
   },
   {
    "duration": 104,
    "start_time": "2023-01-23T19:16:47.430Z"
   },
   {
    "duration": 12,
    "start_time": "2023-01-23T19:17:14.270Z"
   },
   {
    "duration": 49,
    "start_time": "2023-01-23T19:18:09.799Z"
   },
   {
    "duration": 53,
    "start_time": "2023-01-23T19:18:30.569Z"
   },
   {
    "duration": 72,
    "start_time": "2023-01-23T19:18:41.062Z"
   },
   {
    "duration": 758,
    "start_time": "2023-01-23T19:19:02.318Z"
   },
   {
    "duration": 17,
    "start_time": "2023-01-23T19:19:29.640Z"
   },
   {
    "duration": 222,
    "start_time": "2023-01-23T19:19:44.565Z"
   },
   {
    "duration": 167,
    "start_time": "2023-01-23T19:20:02.996Z"
   },
   {
    "duration": 223,
    "start_time": "2023-01-23T19:20:36.251Z"
   },
   {
    "duration": 178,
    "start_time": "2023-01-23T19:20:48.072Z"
   },
   {
    "duration": 48,
    "start_time": "2023-01-23T19:21:03.747Z"
   },
   {
    "duration": 55,
    "start_time": "2023-01-23T19:21:18.053Z"
   },
   {
    "duration": 160,
    "start_time": "2023-01-23T19:21:24.033Z"
   },
   {
    "duration": 142,
    "start_time": "2023-01-23T19:23:05.104Z"
   },
   {
    "duration": 234,
    "start_time": "2023-01-23T19:23:36.136Z"
   },
   {
    "duration": 18,
    "start_time": "2023-01-23T19:24:22.636Z"
   },
   {
    "duration": 144,
    "start_time": "2023-01-23T19:24:31.553Z"
   },
   {
    "duration": 19,
    "start_time": "2023-01-23T19:25:13.671Z"
   },
   {
    "duration": 205,
    "start_time": "2023-01-23T19:25:34.072Z"
   },
   {
    "duration": 99,
    "start_time": "2023-01-23T19:25:54.846Z"
   },
   {
    "duration": 100,
    "start_time": "2023-01-23T19:26:04.006Z"
   },
   {
    "duration": 1188,
    "start_time": "2023-01-23T19:26:12.345Z"
   },
   {
    "duration": 72,
    "start_time": "2023-01-23T19:26:13.535Z"
   },
   {
    "duration": 20,
    "start_time": "2023-01-23T19:26:13.609Z"
   },
   {
    "duration": 15,
    "start_time": "2023-01-23T19:26:13.630Z"
   },
   {
    "duration": 9,
    "start_time": "2023-01-23T19:26:13.646Z"
   },
   {
    "duration": 26,
    "start_time": "2023-01-23T19:26:13.657Z"
   },
   {
    "duration": 7,
    "start_time": "2023-01-23T19:26:13.684Z"
   },
   {
    "duration": 9,
    "start_time": "2023-01-23T19:26:13.721Z"
   },
   {
    "duration": 13,
    "start_time": "2023-01-23T19:26:13.732Z"
   },
   {
    "duration": 23,
    "start_time": "2023-01-23T19:26:13.748Z"
   },
   {
    "duration": 10,
    "start_time": "2023-01-23T19:26:13.772Z"
   },
   {
    "duration": 55,
    "start_time": "2023-01-23T19:26:13.784Z"
   },
   {
    "duration": 364,
    "start_time": "2023-01-23T19:26:13.841Z"
   },
   {
    "duration": 19,
    "start_time": "2023-01-23T19:26:14.207Z"
   },
   {
    "duration": 349,
    "start_time": "2023-01-23T19:26:14.228Z"
   },
   {
    "duration": 331,
    "start_time": "2023-01-23T19:26:14.579Z"
   },
   {
    "duration": 201,
    "start_time": "2023-01-23T19:26:14.912Z"
   },
   {
    "duration": 174,
    "start_time": "2023-01-23T19:26:15.115Z"
   },
   {
    "duration": 182,
    "start_time": "2023-01-23T19:26:15.291Z"
   },
   {
    "duration": 263,
    "start_time": "2023-01-23T19:26:15.475Z"
   },
   {
    "duration": 173,
    "start_time": "2023-01-23T19:26:15.740Z"
   },
   {
    "duration": 179,
    "start_time": "2023-01-23T19:26:15.920Z"
   },
   {
    "duration": 181,
    "start_time": "2023-01-23T19:26:16.101Z"
   },
   {
    "duration": 200,
    "start_time": "2023-01-23T19:26:16.284Z"
   },
   {
    "duration": 179,
    "start_time": "2023-01-23T19:26:16.485Z"
   },
   {
    "duration": 182,
    "start_time": "2023-01-23T19:26:16.666Z"
   },
   {
    "duration": 190,
    "start_time": "2023-01-23T19:26:16.850Z"
   },
   {
    "duration": 7,
    "start_time": "2023-01-23T19:26:17.044Z"
   },
   {
    "duration": 229,
    "start_time": "2023-01-23T19:26:17.053Z"
   },
   {
    "duration": 213,
    "start_time": "2023-01-23T19:26:17.284Z"
   },
   {
    "duration": 3,
    "start_time": "2023-01-23T19:26:17.498Z"
   },
   {
    "duration": 19,
    "start_time": "2023-01-23T19:26:17.503Z"
   },
   {
    "duration": 189,
    "start_time": "2023-01-23T19:26:17.523Z"
   },
   {
    "duration": 266,
    "start_time": "2023-01-23T19:26:17.720Z"
   },
   {
    "duration": 37,
    "start_time": "2023-01-23T19:26:17.988Z"
   },
   {
    "duration": 218,
    "start_time": "2023-01-23T19:26:18.027Z"
   },
   {
    "duration": 7,
    "start_time": "2023-01-23T19:26:18.246Z"
   },
   {
    "duration": 167,
    "start_time": "2023-01-23T19:26:18.254Z"
   },
   {
    "duration": 6,
    "start_time": "2023-01-23T19:26:18.422Z"
   },
   {
    "duration": 113,
    "start_time": "2023-01-23T19:26:18.430Z"
   },
   {
    "duration": 93,
    "start_time": "2023-01-23T19:26:18.545Z"
   },
   {
    "duration": 139,
    "start_time": "2023-01-23T19:26:18.640Z"
   },
   {
    "duration": 110,
    "start_time": "2023-01-23T19:26:18.781Z"
   },
   {
    "duration": 102,
    "start_time": "2023-01-23T19:26:18.893Z"
   },
   {
    "duration": 134,
    "start_time": "2023-01-23T19:26:18.997Z"
   },
   {
    "duration": 101,
    "start_time": "2023-01-23T19:26:19.132Z"
   },
   {
    "duration": 103,
    "start_time": "2023-01-23T19:26:19.235Z"
   },
   {
    "duration": 14,
    "start_time": "2023-01-23T19:26:19.341Z"
   },
   {
    "duration": 12,
    "start_time": "2023-01-23T19:26:19.356Z"
   },
   {
    "duration": 105,
    "start_time": "2023-01-23T19:29:45.267Z"
   },
   {
    "duration": 106,
    "start_time": "2023-01-23T19:30:24.003Z"
   },
   {
    "duration": 105,
    "start_time": "2023-01-23T19:30:42.554Z"
   },
   {
    "duration": 1402,
    "start_time": "2023-01-24T06:18:18.127Z"
   },
   {
    "duration": 106,
    "start_time": "2023-01-24T06:18:19.532Z"
   },
   {
    "duration": 33,
    "start_time": "2023-01-24T06:18:19.640Z"
   },
   {
    "duration": 31,
    "start_time": "2023-01-24T06:18:19.683Z"
   },
   {
    "duration": 21,
    "start_time": "2023-01-24T06:18:19.718Z"
   },
   {
    "duration": 44,
    "start_time": "2023-01-24T06:18:19.742Z"
   },
   {
    "duration": 17,
    "start_time": "2023-01-24T06:18:19.788Z"
   },
   {
    "duration": 15,
    "start_time": "2023-01-24T06:18:19.808Z"
   },
   {
    "duration": 46,
    "start_time": "2023-01-24T06:18:19.824Z"
   },
   {
    "duration": 55,
    "start_time": "2023-01-24T06:18:19.874Z"
   },
   {
    "duration": 25,
    "start_time": "2023-01-24T06:18:19.933Z"
   },
   {
    "duration": 59,
    "start_time": "2023-01-24T06:18:19.960Z"
   },
   {
    "duration": 886,
    "start_time": "2023-01-24T06:18:20.022Z"
   },
   {
    "duration": 46,
    "start_time": "2023-01-24T06:18:20.911Z"
   },
   {
    "duration": 941,
    "start_time": "2023-01-24T06:18:20.960Z"
   },
   {
    "duration": 832,
    "start_time": "2023-01-24T06:18:21.950Z"
   },
   {
    "duration": 493,
    "start_time": "2023-01-24T06:18:22.784Z"
   },
   {
    "duration": 256,
    "start_time": "2023-01-24T06:18:23.282Z"
   },
   {
    "duration": 245,
    "start_time": "2023-01-24T06:18:23.541Z"
   },
   {
    "duration": 390,
    "start_time": "2023-01-24T06:18:23.788Z"
   },
   {
    "duration": 258,
    "start_time": "2023-01-24T06:18:24.180Z"
   },
   {
    "duration": 276,
    "start_time": "2023-01-24T06:18:24.441Z"
   },
   {
    "duration": 262,
    "start_time": "2023-01-24T06:18:24.720Z"
   },
   {
    "duration": 260,
    "start_time": "2023-01-24T06:18:24.984Z"
   },
   {
    "duration": 261,
    "start_time": "2023-01-24T06:18:25.250Z"
   },
   {
    "duration": 289,
    "start_time": "2023-01-24T06:18:25.518Z"
   },
   {
    "duration": 285,
    "start_time": "2023-01-24T06:18:25.810Z"
   },
   {
    "duration": 11,
    "start_time": "2023-01-24T06:18:26.102Z"
   },
   {
    "duration": 349,
    "start_time": "2023-01-24T06:18:26.115Z"
   },
   {
    "duration": 304,
    "start_time": "2023-01-24T06:18:26.471Z"
   },
   {
    "duration": 4,
    "start_time": "2023-01-24T06:18:26.778Z"
   },
   {
    "duration": 12,
    "start_time": "2023-01-24T06:18:26.784Z"
   },
   {
    "duration": 277,
    "start_time": "2023-01-24T06:18:26.798Z"
   },
   {
    "duration": 415,
    "start_time": "2023-01-24T06:18:27.078Z"
   },
   {
    "duration": 34,
    "start_time": "2023-01-24T06:18:27.498Z"
   },
   {
    "duration": 313,
    "start_time": "2023-01-24T06:18:27.535Z"
   },
   {
    "duration": 6,
    "start_time": "2023-01-24T06:18:27.856Z"
   },
   {
    "duration": 226,
    "start_time": "2023-01-24T06:18:27.864Z"
   },
   {
    "duration": 8,
    "start_time": "2023-01-24T06:18:28.092Z"
   },
   {
    "duration": 176,
    "start_time": "2023-01-24T06:18:28.102Z"
   },
   {
    "duration": 149,
    "start_time": "2023-01-24T06:18:28.280Z"
   },
   {
    "duration": 213,
    "start_time": "2023-01-24T06:18:28.432Z"
   },
   {
    "duration": 140,
    "start_time": "2023-01-24T06:18:28.652Z"
   },
   {
    "duration": 166,
    "start_time": "2023-01-24T06:18:28.794Z"
   },
   {
    "duration": 215,
    "start_time": "2023-01-24T06:18:28.963Z"
   },
   {
    "duration": 155,
    "start_time": "2023-01-24T06:18:29.184Z"
   },
   {
    "duration": 236,
    "start_time": "2023-01-24T06:18:29.341Z"
   },
   {
    "duration": 25,
    "start_time": "2023-01-24T06:18:29.582Z"
   },
   {
    "duration": 50,
    "start_time": "2023-01-24T06:18:29.610Z"
   },
   {
    "duration": 1293,
    "start_time": "2023-01-29T11:16:32.874Z"
   },
   {
    "duration": 225,
    "start_time": "2023-01-29T11:16:34.168Z"
   },
   {
    "duration": 30,
    "start_time": "2023-01-29T11:16:34.422Z"
   }
  ],
  "kernelspec": {
   "display_name": "Python 3 (ipykernel)",
   "language": "python",
   "name": "python3"
  },
  "language_info": {
   "codemirror_mode": {
    "name": "ipython",
    "version": 3
   },
   "file_extension": ".py",
   "mimetype": "text/x-python",
   "name": "python",
   "nbconvert_exporter": "python",
   "pygments_lexer": "ipython3",
   "version": "3.9.5"
  },
  "toc": {
   "base_numbering": 1,
   "nav_menu": {},
   "number_sections": true,
   "sideBar": true,
   "skip_h1_title": true,
   "title_cell": "Table of Contents",
   "title_sidebar": "Contents",
   "toc_cell": false,
   "toc_position": {
    "height": "calc(100% - 180px)",
    "left": "10px",
    "top": "150px",
    "width": "221px"
   },
   "toc_section_display": true,
   "toc_window_display": true
  }
 },
 "nbformat": 4,
 "nbformat_minor": 2
}
